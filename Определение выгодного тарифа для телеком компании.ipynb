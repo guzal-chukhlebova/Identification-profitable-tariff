{
 "cells": [
  {
   "cell_type": "markdown",
   "metadata": {},
   "source": [
    "## Подготовка данных"
   ]
  },
  {
   "cell_type": "markdown",
   "metadata": {},
   "source": [
    "### Описание данных"
   ]
  },
  {
   "cell_type": "markdown",
   "metadata": {},
   "source": [
    "*Определение перспективного тарифа для телеком компании*\n",
    "\n",
    "Для корректировки рекламного бюджета федерального оператора сотовой связи необходимо проанализировать на небольшой выборке поведение клиентов для двух тарифных планов: «Смарт» и «Ультра». Данные предоставлены за 2018 г.\n",
    "\n",
    "Основные задачи: \n",
    "1. Проанализировать поведение клиентов;\n",
    "2. Сравнить 2 тарифа; \n",
    "3. Выбрать наиболее перспективный.\n",
    "\n",
    "Таблица users (информация о пользователях):\n",
    "* `user_id` — уникальный идентификатор пользователя\n",
    "* `first_name` — имя пользователя\n",
    "* `last_name` — фамилия пользователя\n",
    "* `age` — возраст пользователя (годы)\n",
    "* `reg_date` — дата подключения тарифа (день, месяц, год)\n",
    "* `churn_date` — дата прекращения пользования тарифом (если значение пропущено, то тариф ещё действовал на момент выгрузки данных)\n",
    "* `city` — город проживания пользователя\n",
    "* `tariff` — название тарифного плана\n",
    "\n",
    "Таблица calls (информация о звонках):\n",
    "* `id` — уникальный номер звонка\n",
    "* `call_date` — дата звонка\n",
    "* `duration` — длительность звонка в минутах\n",
    "* `user_id` — идентификатор пользователя, сделавшего звонок\n",
    "\n",
    "Таблица messages (информация о сообщениях):\n",
    "* `id` — уникальный номер сообщения\n",
    "* `message_date` — дата сообщения\n",
    "* `user_id` — идентификатор пользователя, отправившего сообщение\n",
    "\n",
    "Таблица internet (информация об интернет-сессиях):\n",
    "* `id` — уникальный номер сессии\n",
    "* `mb_used` — объём потраченного за сессию интернет-трафика (в мегабайтах)\n",
    "* `session_date` — дата интернет-сессии\n",
    "* `user_id` — идентификатор пользователя\n",
    "\n",
    "Таблица tariffs (информация о тарифах):\n",
    "* `tariff_name` — название тарифа\n",
    "* `rub_monthly_fee` — ежемесячная абонентская плата в рублях\n",
    "* `minutes_included` — количество минут разговора в месяц, включённых в абонентскую плату\n",
    "* `messages_included` — количество сообщений в месяц, включённых в абонентскую плату\n",
    "* `mb_per_month_included` — объём интернет-трафика, включённого в абонентскую плату (в мегабайтах)\n",
    "* `rub_per_minute` — стоимость минуты разговора сверх тарифного пакета (например, если в тарифе 100 минут разговора в месяц, то со 101 минуты будет взиматься плата)\n",
    "* `rub_per_message` — стоимость отправки сообщения сверх тарифного пакета\n",
    "* `rub_per_gb` — стоимость дополнительного гигабайта интернет-трафика сверх тарифного пакета (1 гигабайт = 1024 мегабайта)"
   ]
  },
  {
   "cell_type": "markdown",
   "metadata": {},
   "source": [
    "### Загрузка данных"
   ]
  },
  {
   "cell_type": "code",
   "execution_count": 37,
   "metadata": {},
   "outputs": [],
   "source": [
    "# импорт библиотеки pandas\n",
    "import pandas as pd\n",
    "import warnings\n",
    "warnings.filterwarnings('ignore')\n",
    "#настройка pandas\n",
    "pd.set_option('display.float_format', '{:,.2f}'.format)\n",
    "# выгрузка файлов с данными \n",
    "calls = pd.read_csv('calls.csv')\n",
    "internet = pd.read_csv('internet.csv')\n",
    "messages = pd.read_csv('messages.csv')\n",
    "tariffs = pd.read_csv('tariffs.csv')\n",
    "users = pd.read_csv('users.csv')"
   ]
  },
  {
   "cell_type": "code",
   "execution_count": 38,
   "metadata": {},
   "outputs": [
    {
     "data": {
      "text/html": [
       "<div>\n",
       "<style scoped>\n",
       "    .dataframe tbody tr th:only-of-type {\n",
       "        vertical-align: middle;\n",
       "    }\n",
       "\n",
       "    .dataframe tbody tr th {\n",
       "        vertical-align: top;\n",
       "    }\n",
       "\n",
       "    .dataframe thead th {\n",
       "        text-align: right;\n",
       "    }\n",
       "</style>\n",
       "<table border=\"1\" class=\"dataframe\">\n",
       "  <thead>\n",
       "    <tr style=\"text-align: right;\">\n",
       "      <th></th>\n",
       "      <th>id</th>\n",
       "      <th>call_date</th>\n",
       "      <th>duration</th>\n",
       "      <th>user_id</th>\n",
       "    </tr>\n",
       "  </thead>\n",
       "  <tbody>\n",
       "    <tr>\n",
       "      <th>0</th>\n",
       "      <td>1000_0</td>\n",
       "      <td>2018-07-25</td>\n",
       "      <td>0.00</td>\n",
       "      <td>1000</td>\n",
       "    </tr>\n",
       "    <tr>\n",
       "      <th>1</th>\n",
       "      <td>1000_1</td>\n",
       "      <td>2018-08-17</td>\n",
       "      <td>0.00</td>\n",
       "      <td>1000</td>\n",
       "    </tr>\n",
       "    <tr>\n",
       "      <th>2</th>\n",
       "      <td>1000_2</td>\n",
       "      <td>2018-06-11</td>\n",
       "      <td>2.85</td>\n",
       "      <td>1000</td>\n",
       "    </tr>\n",
       "    <tr>\n",
       "      <th>3</th>\n",
       "      <td>1000_3</td>\n",
       "      <td>2018-09-21</td>\n",
       "      <td>13.80</td>\n",
       "      <td>1000</td>\n",
       "    </tr>\n",
       "    <tr>\n",
       "      <th>4</th>\n",
       "      <td>1000_4</td>\n",
       "      <td>2018-12-15</td>\n",
       "      <td>5.18</td>\n",
       "      <td>1000</td>\n",
       "    </tr>\n",
       "  </tbody>\n",
       "</table>\n",
       "</div>"
      ],
      "text/plain": [
       "       id   call_date  duration  user_id\n",
       "0  1000_0  2018-07-25      0.00     1000\n",
       "1  1000_1  2018-08-17      0.00     1000\n",
       "2  1000_2  2018-06-11      2.85     1000\n",
       "3  1000_3  2018-09-21     13.80     1000\n",
       "4  1000_4  2018-12-15      5.18     1000"
      ]
     },
     "metadata": {},
     "output_type": "display_data"
    },
    {
     "data": {
      "text/html": [
       "<div>\n",
       "<style scoped>\n",
       "    .dataframe tbody tr th:only-of-type {\n",
       "        vertical-align: middle;\n",
       "    }\n",
       "\n",
       "    .dataframe tbody tr th {\n",
       "        vertical-align: top;\n",
       "    }\n",
       "\n",
       "    .dataframe thead th {\n",
       "        text-align: right;\n",
       "    }\n",
       "</style>\n",
       "<table border=\"1\" class=\"dataframe\">\n",
       "  <thead>\n",
       "    <tr style=\"text-align: right;\">\n",
       "      <th></th>\n",
       "      <th>Unnamed: 0</th>\n",
       "      <th>id</th>\n",
       "      <th>mb_used</th>\n",
       "      <th>session_date</th>\n",
       "      <th>user_id</th>\n",
       "    </tr>\n",
       "  </thead>\n",
       "  <tbody>\n",
       "    <tr>\n",
       "      <th>0</th>\n",
       "      <td>0</td>\n",
       "      <td>1000_0</td>\n",
       "      <td>112.95</td>\n",
       "      <td>2018-11-25</td>\n",
       "      <td>1000</td>\n",
       "    </tr>\n",
       "    <tr>\n",
       "      <th>1</th>\n",
       "      <td>1</td>\n",
       "      <td>1000_1</td>\n",
       "      <td>1,052.81</td>\n",
       "      <td>2018-09-07</td>\n",
       "      <td>1000</td>\n",
       "    </tr>\n",
       "    <tr>\n",
       "      <th>2</th>\n",
       "      <td>2</td>\n",
       "      <td>1000_2</td>\n",
       "      <td>1,197.26</td>\n",
       "      <td>2018-06-25</td>\n",
       "      <td>1000</td>\n",
       "    </tr>\n",
       "    <tr>\n",
       "      <th>3</th>\n",
       "      <td>3</td>\n",
       "      <td>1000_3</td>\n",
       "      <td>550.27</td>\n",
       "      <td>2018-08-22</td>\n",
       "      <td>1000</td>\n",
       "    </tr>\n",
       "    <tr>\n",
       "      <th>4</th>\n",
       "      <td>4</td>\n",
       "      <td>1000_4</td>\n",
       "      <td>302.56</td>\n",
       "      <td>2018-09-24</td>\n",
       "      <td>1000</td>\n",
       "    </tr>\n",
       "  </tbody>\n",
       "</table>\n",
       "</div>"
      ],
      "text/plain": [
       "   Unnamed: 0      id  mb_used session_date  user_id\n",
       "0           0  1000_0   112.95   2018-11-25     1000\n",
       "1           1  1000_1 1,052.81   2018-09-07     1000\n",
       "2           2  1000_2 1,197.26   2018-06-25     1000\n",
       "3           3  1000_3   550.27   2018-08-22     1000\n",
       "4           4  1000_4   302.56   2018-09-24     1000"
      ]
     },
     "metadata": {},
     "output_type": "display_data"
    },
    {
     "data": {
      "text/html": [
       "<div>\n",
       "<style scoped>\n",
       "    .dataframe tbody tr th:only-of-type {\n",
       "        vertical-align: middle;\n",
       "    }\n",
       "\n",
       "    .dataframe tbody tr th {\n",
       "        vertical-align: top;\n",
       "    }\n",
       "\n",
       "    .dataframe thead th {\n",
       "        text-align: right;\n",
       "    }\n",
       "</style>\n",
       "<table border=\"1\" class=\"dataframe\">\n",
       "  <thead>\n",
       "    <tr style=\"text-align: right;\">\n",
       "      <th></th>\n",
       "      <th>id</th>\n",
       "      <th>message_date</th>\n",
       "      <th>user_id</th>\n",
       "    </tr>\n",
       "  </thead>\n",
       "  <tbody>\n",
       "    <tr>\n",
       "      <th>0</th>\n",
       "      <td>1000_0</td>\n",
       "      <td>2018-06-27</td>\n",
       "      <td>1000</td>\n",
       "    </tr>\n",
       "    <tr>\n",
       "      <th>1</th>\n",
       "      <td>1000_1</td>\n",
       "      <td>2018-10-08</td>\n",
       "      <td>1000</td>\n",
       "    </tr>\n",
       "    <tr>\n",
       "      <th>2</th>\n",
       "      <td>1000_2</td>\n",
       "      <td>2018-08-04</td>\n",
       "      <td>1000</td>\n",
       "    </tr>\n",
       "    <tr>\n",
       "      <th>3</th>\n",
       "      <td>1000_3</td>\n",
       "      <td>2018-06-16</td>\n",
       "      <td>1000</td>\n",
       "    </tr>\n",
       "    <tr>\n",
       "      <th>4</th>\n",
       "      <td>1000_4</td>\n",
       "      <td>2018-12-05</td>\n",
       "      <td>1000</td>\n",
       "    </tr>\n",
       "  </tbody>\n",
       "</table>\n",
       "</div>"
      ],
      "text/plain": [
       "       id message_date  user_id\n",
       "0  1000_0   2018-06-27     1000\n",
       "1  1000_1   2018-10-08     1000\n",
       "2  1000_2   2018-08-04     1000\n",
       "3  1000_3   2018-06-16     1000\n",
       "4  1000_4   2018-12-05     1000"
      ]
     },
     "metadata": {},
     "output_type": "display_data"
    },
    {
     "data": {
      "text/html": [
       "<div>\n",
       "<style scoped>\n",
       "    .dataframe tbody tr th:only-of-type {\n",
       "        vertical-align: middle;\n",
       "    }\n",
       "\n",
       "    .dataframe tbody tr th {\n",
       "        vertical-align: top;\n",
       "    }\n",
       "\n",
       "    .dataframe thead th {\n",
       "        text-align: right;\n",
       "    }\n",
       "</style>\n",
       "<table border=\"1\" class=\"dataframe\">\n",
       "  <thead>\n",
       "    <tr style=\"text-align: right;\">\n",
       "      <th></th>\n",
       "      <th>messages_included</th>\n",
       "      <th>mb_per_month_included</th>\n",
       "      <th>minutes_included</th>\n",
       "      <th>rub_monthly_fee</th>\n",
       "      <th>rub_per_gb</th>\n",
       "      <th>rub_per_message</th>\n",
       "      <th>rub_per_minute</th>\n",
       "      <th>tariff_name</th>\n",
       "    </tr>\n",
       "  </thead>\n",
       "  <tbody>\n",
       "    <tr>\n",
       "      <th>0</th>\n",
       "      <td>50</td>\n",
       "      <td>15360</td>\n",
       "      <td>500</td>\n",
       "      <td>550</td>\n",
       "      <td>200</td>\n",
       "      <td>3</td>\n",
       "      <td>3</td>\n",
       "      <td>smart</td>\n",
       "    </tr>\n",
       "    <tr>\n",
       "      <th>1</th>\n",
       "      <td>1000</td>\n",
       "      <td>30720</td>\n",
       "      <td>3000</td>\n",
       "      <td>1950</td>\n",
       "      <td>150</td>\n",
       "      <td>1</td>\n",
       "      <td>1</td>\n",
       "      <td>ultra</td>\n",
       "    </tr>\n",
       "  </tbody>\n",
       "</table>\n",
       "</div>"
      ],
      "text/plain": [
       "   messages_included  mb_per_month_included  minutes_included  \\\n",
       "0                 50                  15360               500   \n",
       "1               1000                  30720              3000   \n",
       "\n",
       "   rub_monthly_fee  rub_per_gb  rub_per_message  rub_per_minute tariff_name  \n",
       "0              550         200                3               3       smart  \n",
       "1             1950         150                1               1       ultra  "
      ]
     },
     "metadata": {},
     "output_type": "display_data"
    },
    {
     "data": {
      "text/html": [
       "<div>\n",
       "<style scoped>\n",
       "    .dataframe tbody tr th:only-of-type {\n",
       "        vertical-align: middle;\n",
       "    }\n",
       "\n",
       "    .dataframe tbody tr th {\n",
       "        vertical-align: top;\n",
       "    }\n",
       "\n",
       "    .dataframe thead th {\n",
       "        text-align: right;\n",
       "    }\n",
       "</style>\n",
       "<table border=\"1\" class=\"dataframe\">\n",
       "  <thead>\n",
       "    <tr style=\"text-align: right;\">\n",
       "      <th></th>\n",
       "      <th>user_id</th>\n",
       "      <th>age</th>\n",
       "      <th>churn_date</th>\n",
       "      <th>city</th>\n",
       "      <th>first_name</th>\n",
       "      <th>last_name</th>\n",
       "      <th>reg_date</th>\n",
       "      <th>tariff</th>\n",
       "    </tr>\n",
       "  </thead>\n",
       "  <tbody>\n",
       "    <tr>\n",
       "      <th>0</th>\n",
       "      <td>1000</td>\n",
       "      <td>52</td>\n",
       "      <td>NaN</td>\n",
       "      <td>Краснодар</td>\n",
       "      <td>Рафаил</td>\n",
       "      <td>Верещагин</td>\n",
       "      <td>2018-05-25</td>\n",
       "      <td>ultra</td>\n",
       "    </tr>\n",
       "    <tr>\n",
       "      <th>1</th>\n",
       "      <td>1001</td>\n",
       "      <td>41</td>\n",
       "      <td>NaN</td>\n",
       "      <td>Москва</td>\n",
       "      <td>Иван</td>\n",
       "      <td>Ежов</td>\n",
       "      <td>2018-11-01</td>\n",
       "      <td>smart</td>\n",
       "    </tr>\n",
       "    <tr>\n",
       "      <th>2</th>\n",
       "      <td>1002</td>\n",
       "      <td>59</td>\n",
       "      <td>NaN</td>\n",
       "      <td>Стерлитамак</td>\n",
       "      <td>Евгений</td>\n",
       "      <td>Абрамович</td>\n",
       "      <td>2018-06-17</td>\n",
       "      <td>smart</td>\n",
       "    </tr>\n",
       "    <tr>\n",
       "      <th>3</th>\n",
       "      <td>1003</td>\n",
       "      <td>23</td>\n",
       "      <td>NaN</td>\n",
       "      <td>Москва</td>\n",
       "      <td>Белла</td>\n",
       "      <td>Белякова</td>\n",
       "      <td>2018-08-17</td>\n",
       "      <td>ultra</td>\n",
       "    </tr>\n",
       "    <tr>\n",
       "      <th>4</th>\n",
       "      <td>1004</td>\n",
       "      <td>68</td>\n",
       "      <td>NaN</td>\n",
       "      <td>Новокузнецк</td>\n",
       "      <td>Татьяна</td>\n",
       "      <td>Авдеенко</td>\n",
       "      <td>2018-05-14</td>\n",
       "      <td>ultra</td>\n",
       "    </tr>\n",
       "  </tbody>\n",
       "</table>\n",
       "</div>"
      ],
      "text/plain": [
       "   user_id  age churn_date         city first_name  last_name    reg_date  \\\n",
       "0     1000   52        NaN    Краснодар     Рафаил  Верещагин  2018-05-25   \n",
       "1     1001   41        NaN       Москва       Иван       Ежов  2018-11-01   \n",
       "2     1002   59        NaN  Стерлитамак    Евгений  Абрамович  2018-06-17   \n",
       "3     1003   23        NaN       Москва      Белла   Белякова  2018-08-17   \n",
       "4     1004   68        NaN  Новокузнецк    Татьяна   Авдеенко  2018-05-14   \n",
       "\n",
       "  tariff  \n",
       "0  ultra  \n",
       "1  smart  \n",
       "2  smart  \n",
       "3  ultra  \n",
       "4  ultra  "
      ]
     },
     "metadata": {},
     "output_type": "display_data"
    }
   ],
   "source": [
    "# чтение файлов с данными \n",
    "table = [calls, internet, messages, tariffs, users]\n",
    "for name in table:\n",
    "    display(name.head())\n",
    "    display()"
   ]
  },
  {
   "cell_type": "markdown",
   "metadata": {},
   "source": [
    "В нескольких таблицах представлена информация о пользователях (таблица users), информация о звонках (таблица calls), информация о сообщениях (таблица messages), информация об интернет-сессиях(таблица internet), информация о тарифах «Смарт» и «Ультра» (таблица tariffs).\n",
    "Тариф «Смарт»\n",
    "* Ежемесячная плата: 550 рублей\n",
    "* Включено 500 минут разговора, 50 сообщений и 15 Гб интернет-трафика\n",
    "* Стоимость услуг сверх тарифного пакета: 1. минута разговора: 3 рубля («Мегалайн» всегда округляет вверх значения минут и мегабайтов. Если пользователь проговорил всего 1 секунду, в тарифе засчитывается целая минута); 2. сообщение: 3 рубля; 3. 1 Гб интернет-трафика: 200 рублей.\n",
    "\n",
    "Тариф «Ультра»\n",
    "\n",
    "* Ежемесячная плата: 1950 рублей\n",
    "* Включено 3000 минут разговора, 1000 сообщений и 30 Гб интернет-трафика\n",
    "* Стоимость услуг сверх тарифного пакета: 1. минута разговора: 1 рубль; 2. сообщение: 1 рубль; 3. 1 Гб интернет-трафика: 150 рублей."
   ]
  },
  {
   "cell_type": "markdown",
   "metadata": {},
   "source": [
    "Перепроверим данные для трафика и звонков на нулевые значения, построив гистограммы."
   ]
  },
  {
   "cell_type": "code",
   "execution_count": 39,
   "metadata": {},
   "outputs": [
    {
     "data": {
      "image/png": "[encoded data removed]",
      "text/plain": [
       "<Figure size 432x288 with 1 Axes>"
      ]
     },
     "metadata": {
      "needs_background": "light"
     },
     "output_type": "display_data"
    }
   ],
   "source": [
    "# построение гистограммы для таблицы calls столбца 'duration'\n",
    "calls['duration'].plot(kind='hist', bins=50, grid=True, alpha=0.7, density=True);"
   ]
  },
  {
   "cell_type": "code",
   "execution_count": 40,
   "metadata": {},
   "outputs": [
    {
     "data": {
      "image/png": "[encoded data removed]",
      "text/plain": [
       "<Figure size 432x288 with 1 Axes>"
      ]
     },
     "metadata": {
      "needs_background": "light"
     },
     "output_type": "display_data"
    }
   ],
   "source": [
    "# построение гистограммы для таблицы internet столбца 'mb_used'\n",
    "internet['mb_used'].plot(kind='hist', bins=50, grid=True, alpha=0.7, density=True);"
   ]
  },
  {
   "cell_type": "markdown",
   "metadata": {},
   "source": [
    "При построении гистограмм обнаружено большое количество нулевых значений в таблице calls столбца 'duration' и таблице internet 'mb_used'."
   ]
  },
  {
   "cell_type": "markdown",
   "metadata": {},
   "source": [
    "## Предобработка данных"
   ]
  },
  {
   "cell_type": "code",
   "execution_count": 41,
   "metadata": {},
   "outputs": [
    {
     "name": "stdout",
     "output_type": "stream",
     "text": [
      "<class 'pandas.core.frame.DataFrame'>\n",
      "RangeIndex: 202607 entries, 0 to 202606\n",
      "Data columns (total 4 columns):\n",
      " #   Column     Non-Null Count   Dtype  \n",
      "---  ------     --------------   -----  \n",
      " 0   id         202607 non-null  object \n",
      " 1   call_date  202607 non-null  object \n",
      " 2   duration   202607 non-null  float64\n",
      " 3   user_id    202607 non-null  int64  \n",
      "dtypes: float64(1), int64(1), object(2)\n",
      "memory usage: 6.2+ MB\n"
     ]
    },
    {
     "data": {
      "text/plain": [
       "(None,\n",
       "        id   call_date  duration  user_id\n",
       " 0  1000_0  2018-07-25      0.00     1000\n",
       " 1  1000_1  2018-08-17      0.00     1000\n",
       " 2  1000_2  2018-06-11      2.85     1000\n",
       " 3  1000_3  2018-09-21     13.80     1000\n",
       " 4  1000_4  2018-12-15      5.18     1000,\n",
       " 0)"
      ]
     },
     "metadata": {},
     "output_type": "display_data"
    }
   ],
   "source": [
    "# создание функции для получения общей информации о данных в таблицах\n",
    "def info_table(table):\n",
    "    return table.info(), table.head(), table.duplicated().sum()\n",
    "\n",
    "display(info_table(calls))"
   ]
  },
  {
   "cell_type": "code",
   "execution_count": 42,
   "metadata": {},
   "outputs": [
    {
     "name": "stdout",
     "output_type": "stream",
     "text": [
      "<class 'pandas.core.frame.DataFrame'>\n",
      "RangeIndex: 202607 entries, 0 to 202606\n",
      "Data columns (total 4 columns):\n",
      " #   Column     Non-Null Count   Dtype  \n",
      "---  ------     --------------   -----  \n",
      " 0   id         202607 non-null  object \n",
      " 1   call_date  202607 non-null  object \n",
      " 2   duration   202607 non-null  float64\n",
      " 3   user_id    202607 non-null  int64  \n",
      "dtypes: float64(1), int64(1), object(2)\n",
      "memory usage: 6.2+ MB\n"
     ]
    },
    {
     "data": {
      "text/plain": [
       "(None,\n",
       "        id   call_date  duration  user_id\n",
       " 0  1000_0  2018-07-25      0.00     1000\n",
       " 1  1000_1  2018-08-17      0.00     1000\n",
       " 2  1000_2  2018-06-11      2.85     1000\n",
       " 3  1000_3  2018-09-21     13.80     1000\n",
       " 4  1000_4  2018-12-15      5.18     1000,\n",
       " 0)"
      ]
     },
     "metadata": {},
     "output_type": "display_data"
    }
   ],
   "source": [
    "display(info_table(calls))"
   ]
  },
  {
   "cell_type": "markdown",
   "metadata": {},
   "source": [
    "Тип данных в столбце 'call_date' (дата звонка) object. Для работы с датой необходимо привести данные к типу datetime64. Для этого воспользуемся методом to_datetime. Аналогичную задачу выполним для столбца 'session_date' таблицы internet, столбца 'message_date' таблицы messages, столбца 'reg_date' таблицы users, столбца 'churn_date' таблицы users."
   ]
  },
  {
   "cell_type": "code",
   "execution_count": 43,
   "metadata": {},
   "outputs": [],
   "source": [
    "# перевод из строки в дату и время столбца 'call_date' таблицы calls\n",
    "calls['call_date'] = pd.to_datetime(calls['call_date'], format='%Y-%m-%d')\n",
    "# перевод из строки в дату и время столбца 'session_date' таблицы internet\n",
    "internet['session_date'] = pd.to_datetime(internet['session_date'], format='%Y-%m-%d')\n",
    "# перевод из строки в дату и время столбца 'message_date' таблицы messages\n",
    "messages['message_date'] = pd.to_datetime(messages['message_date'], format='%Y-%m-%d')\n",
    "# перевод из строки в дату и время столбца 'reg_date' таблицы users\n",
    "users['reg_date'] = pd.to_datetime(users['reg_date'], format='%Y-%m-%d')\n",
    "# перевод из строки в дату и время столбца 'churn_date' таблицы users\n",
    "users['churn_date'] = pd.to_datetime(users['churn_date'], format='%Y-%m-%d')"
   ]
  },
  {
   "cell_type": "markdown",
   "metadata": {},
   "source": [
    "Каждый звонок округляется до минуты отдельно: даже если он длился всего 1 секунду, будет засчитан как 1 минута. Поэтому округляем значения в столбце 'duration' таблицы calls в большую сторону до целого значения."
   ]
  },
  {
   "cell_type": "code",
   "execution_count": 44,
   "metadata": {},
   "outputs": [
    {
     "data": {
      "text/html": [
       "<div>\n",
       "<style scoped>\n",
       "    .dataframe tbody tr th:only-of-type {\n",
       "        vertical-align: middle;\n",
       "    }\n",
       "\n",
       "    .dataframe tbody tr th {\n",
       "        vertical-align: top;\n",
       "    }\n",
       "\n",
       "    .dataframe thead th {\n",
       "        text-align: right;\n",
       "    }\n",
       "</style>\n",
       "<table border=\"1\" class=\"dataframe\">\n",
       "  <thead>\n",
       "    <tr style=\"text-align: right;\">\n",
       "      <th></th>\n",
       "      <th>id</th>\n",
       "      <th>call_date</th>\n",
       "      <th>duration</th>\n",
       "      <th>user_id</th>\n",
       "    </tr>\n",
       "  </thead>\n",
       "  <tbody>\n",
       "    <tr>\n",
       "      <th>0</th>\n",
       "      <td>1000_0</td>\n",
       "      <td>2018-07-25</td>\n",
       "      <td>0</td>\n",
       "      <td>1000</td>\n",
       "    </tr>\n",
       "    <tr>\n",
       "      <th>1</th>\n",
       "      <td>1000_1</td>\n",
       "      <td>2018-08-17</td>\n",
       "      <td>0</td>\n",
       "      <td>1000</td>\n",
       "    </tr>\n",
       "    <tr>\n",
       "      <th>2</th>\n",
       "      <td>1000_2</td>\n",
       "      <td>2018-06-11</td>\n",
       "      <td>3</td>\n",
       "      <td>1000</td>\n",
       "    </tr>\n",
       "    <tr>\n",
       "      <th>3</th>\n",
       "      <td>1000_3</td>\n",
       "      <td>2018-09-21</td>\n",
       "      <td>14</td>\n",
       "      <td>1000</td>\n",
       "    </tr>\n",
       "    <tr>\n",
       "      <th>4</th>\n",
       "      <td>1000_4</td>\n",
       "      <td>2018-12-15</td>\n",
       "      <td>6</td>\n",
       "      <td>1000</td>\n",
       "    </tr>\n",
       "  </tbody>\n",
       "</table>\n",
       "</div>"
      ],
      "text/plain": [
       "       id  call_date  duration  user_id\n",
       "0  1000_0 2018-07-25         0     1000\n",
       "1  1000_1 2018-08-17         0     1000\n",
       "2  1000_2 2018-06-11         3     1000\n",
       "3  1000_3 2018-09-21        14     1000\n",
       "4  1000_4 2018-12-15         6     1000"
      ]
     },
     "execution_count": 44,
     "metadata": {},
     "output_type": "execute_result"
    }
   ],
   "source": [
    "# импортирование модуля \n",
    "import math\n",
    "# округление в большую сторону до целого значения\n",
    "calls['duration'] = calls['duration'].apply(math.ceil)\n",
    "# проверка результата\n",
    "calls.head()"
   ]
  },
  {
   "cell_type": "markdown",
   "metadata": {},
   "source": [
    "### Подсчет количества израсходованных минут разговора по месяцам"
   ]
  },
  {
   "cell_type": "markdown",
   "metadata": {},
   "source": [
    "Добавим в таблицу calls столбец 'month' для дальнешей группировки пользователя по месяцу."
   ]
  },
  {
   "cell_type": "code",
   "execution_count": 45,
   "metadata": {},
   "outputs": [
    {
     "data": {
      "text/html": [
       "<div>\n",
       "<style scoped>\n",
       "    .dataframe tbody tr th:only-of-type {\n",
       "        vertical-align: middle;\n",
       "    }\n",
       "\n",
       "    .dataframe tbody tr th {\n",
       "        vertical-align: top;\n",
       "    }\n",
       "\n",
       "    .dataframe thead th {\n",
       "        text-align: right;\n",
       "    }\n",
       "</style>\n",
       "<table border=\"1\" class=\"dataframe\">\n",
       "  <thead>\n",
       "    <tr style=\"text-align: right;\">\n",
       "      <th></th>\n",
       "      <th>id</th>\n",
       "      <th>call_date</th>\n",
       "      <th>duration</th>\n",
       "      <th>user_id</th>\n",
       "      <th>month</th>\n",
       "    </tr>\n",
       "  </thead>\n",
       "  <tbody>\n",
       "    <tr>\n",
       "      <th>0</th>\n",
       "      <td>1000_0</td>\n",
       "      <td>2018-07-25</td>\n",
       "      <td>0</td>\n",
       "      <td>1000</td>\n",
       "      <td>7</td>\n",
       "    </tr>\n",
       "    <tr>\n",
       "      <th>1</th>\n",
       "      <td>1000_1</td>\n",
       "      <td>2018-08-17</td>\n",
       "      <td>0</td>\n",
       "      <td>1000</td>\n",
       "      <td>8</td>\n",
       "    </tr>\n",
       "    <tr>\n",
       "      <th>2</th>\n",
       "      <td>1000_2</td>\n",
       "      <td>2018-06-11</td>\n",
       "      <td>3</td>\n",
       "      <td>1000</td>\n",
       "      <td>6</td>\n",
       "    </tr>\n",
       "    <tr>\n",
       "      <th>3</th>\n",
       "      <td>1000_3</td>\n",
       "      <td>2018-09-21</td>\n",
       "      <td>14</td>\n",
       "      <td>1000</td>\n",
       "      <td>9</td>\n",
       "    </tr>\n",
       "    <tr>\n",
       "      <th>4</th>\n",
       "      <td>1000_4</td>\n",
       "      <td>2018-12-15</td>\n",
       "      <td>6</td>\n",
       "      <td>1000</td>\n",
       "      <td>12</td>\n",
       "    </tr>\n",
       "  </tbody>\n",
       "</table>\n",
       "</div>"
      ],
      "text/plain": [
       "       id  call_date  duration  user_id  month\n",
       "0  1000_0 2018-07-25         0     1000      7\n",
       "1  1000_1 2018-08-17         0     1000      8\n",
       "2  1000_2 2018-06-11         3     1000      6\n",
       "3  1000_3 2018-09-21        14     1000      9\n",
       "4  1000_4 2018-12-15         6     1000     12"
      ]
     },
     "execution_count": 45,
     "metadata": {},
     "output_type": "execute_result"
    }
   ],
   "source": [
    "# выделение месяца из даты\n",
    "calls['month'] = pd.DatetimeIndex(calls['call_date']).month \n",
    "# проверка результата\n",
    "calls.head()"
   ]
  },
  {
   "cell_type": "markdown",
   "metadata": {},
   "source": [
    "Посчитаем для каждого пользователя количество израсходованных минут разговора по месяцам."
   ]
  },
  {
   "cell_type": "code",
   "execution_count": 46,
   "metadata": {},
   "outputs": [
    {
     "data": {
      "text/html": [
       "<div>\n",
       "<style scoped>\n",
       "    .dataframe tbody tr th:only-of-type {\n",
       "        vertical-align: middle;\n",
       "    }\n",
       "\n",
       "    .dataframe tbody tr th {\n",
       "        vertical-align: top;\n",
       "    }\n",
       "\n",
       "    .dataframe thead th {\n",
       "        text-align: right;\n",
       "    }\n",
       "</style>\n",
       "<table border=\"1\" class=\"dataframe\">\n",
       "  <thead>\n",
       "    <tr style=\"text-align: right;\">\n",
       "      <th></th>\n",
       "      <th></th>\n",
       "      <th>duration</th>\n",
       "    </tr>\n",
       "    <tr>\n",
       "      <th>user_id</th>\n",
       "      <th>month</th>\n",
       "      <th></th>\n",
       "    </tr>\n",
       "  </thead>\n",
       "  <tbody>\n",
       "    <tr>\n",
       "      <th rowspan=\"5\" valign=\"top\">1000</th>\n",
       "      <th>5</th>\n",
       "      <td>159</td>\n",
       "    </tr>\n",
       "    <tr>\n",
       "      <th>6</th>\n",
       "      <td>172</td>\n",
       "    </tr>\n",
       "    <tr>\n",
       "      <th>7</th>\n",
       "      <td>340</td>\n",
       "    </tr>\n",
       "    <tr>\n",
       "      <th>8</th>\n",
       "      <td>408</td>\n",
       "    </tr>\n",
       "    <tr>\n",
       "      <th>9</th>\n",
       "      <td>466</td>\n",
       "    </tr>\n",
       "    <tr>\n",
       "      <th>...</th>\n",
       "      <th>...</th>\n",
       "      <td>...</td>\n",
       "    </tr>\n",
       "    <tr>\n",
       "      <th>1498</th>\n",
       "      <th>10</th>\n",
       "      <td>247</td>\n",
       "    </tr>\n",
       "    <tr>\n",
       "      <th rowspan=\"4\" valign=\"top\">1499</th>\n",
       "      <th>9</th>\n",
       "      <td>70</td>\n",
       "    </tr>\n",
       "    <tr>\n",
       "      <th>10</th>\n",
       "      <td>449</td>\n",
       "    </tr>\n",
       "    <tr>\n",
       "      <th>11</th>\n",
       "      <td>612</td>\n",
       "    </tr>\n",
       "    <tr>\n",
       "      <th>12</th>\n",
       "      <td>492</td>\n",
       "    </tr>\n",
       "  </tbody>\n",
       "</table>\n",
       "<p>3174 rows × 1 columns</p>\n",
       "</div>"
      ],
      "text/plain": [
       "               duration\n",
       "user_id month          \n",
       "1000    5           159\n",
       "        6           172\n",
       "        7           340\n",
       "        8           408\n",
       "        9           466\n",
       "...                 ...\n",
       "1498    10          247\n",
       "1499    9            70\n",
       "        10          449\n",
       "        11          612\n",
       "        12          492\n",
       "\n",
       "[3174 rows x 1 columns]"
      ]
     },
     "execution_count": 46,
     "metadata": {},
     "output_type": "execute_result"
    }
   ],
   "source": [
    "# формирование сводной таблицы для получения суммы израсходованных минут\n",
    "calls_pivot_sum = calls.pivot_table(index = ['user_id', 'month'], \n",
    "values = 'duration', aggfunc = 'sum')\n",
    "# проверка результата\n",
    "calls_pivot_sum"
   ]
  },
  {
   "cell_type": "markdown",
   "metadata": {},
   "source": [
    "### Подсчет количества сделанных звонков по месяцам"
   ]
  },
  {
   "cell_type": "markdown",
   "metadata": {},
   "source": [
    "Посчитаем для каждого пользователя количество сделанных звонков по месяцам."
   ]
  },
  {
   "cell_type": "code",
   "execution_count": 47,
   "metadata": {},
   "outputs": [
    {
     "data": {
      "text/html": [
       "<div>\n",
       "<style scoped>\n",
       "    .dataframe tbody tr th:only-of-type {\n",
       "        vertical-align: middle;\n",
       "    }\n",
       "\n",
       "    .dataframe tbody tr th {\n",
       "        vertical-align: top;\n",
       "    }\n",
       "\n",
       "    .dataframe thead th {\n",
       "        text-align: right;\n",
       "    }\n",
       "</style>\n",
       "<table border=\"1\" class=\"dataframe\">\n",
       "  <thead>\n",
       "    <tr style=\"text-align: right;\">\n",
       "      <th></th>\n",
       "      <th></th>\n",
       "      <th>call_count</th>\n",
       "    </tr>\n",
       "    <tr>\n",
       "      <th>user_id</th>\n",
       "      <th>month</th>\n",
       "      <th></th>\n",
       "    </tr>\n",
       "  </thead>\n",
       "  <tbody>\n",
       "    <tr>\n",
       "      <th rowspan=\"5\" valign=\"top\">1000</th>\n",
       "      <th>5</th>\n",
       "      <td>22</td>\n",
       "    </tr>\n",
       "    <tr>\n",
       "      <th>6</th>\n",
       "      <td>43</td>\n",
       "    </tr>\n",
       "    <tr>\n",
       "      <th>7</th>\n",
       "      <td>47</td>\n",
       "    </tr>\n",
       "    <tr>\n",
       "      <th>8</th>\n",
       "      <td>52</td>\n",
       "    </tr>\n",
       "    <tr>\n",
       "      <th>9</th>\n",
       "      <td>58</td>\n",
       "    </tr>\n",
       "    <tr>\n",
       "      <th>...</th>\n",
       "      <th>...</th>\n",
       "      <td>...</td>\n",
       "    </tr>\n",
       "    <tr>\n",
       "      <th>1498</th>\n",
       "      <th>10</th>\n",
       "      <td>41</td>\n",
       "    </tr>\n",
       "    <tr>\n",
       "      <th rowspan=\"4\" valign=\"top\">1499</th>\n",
       "      <th>9</th>\n",
       "      <td>9</td>\n",
       "    </tr>\n",
       "    <tr>\n",
       "      <th>10</th>\n",
       "      <td>68</td>\n",
       "    </tr>\n",
       "    <tr>\n",
       "      <th>11</th>\n",
       "      <td>74</td>\n",
       "    </tr>\n",
       "    <tr>\n",
       "      <th>12</th>\n",
       "      <td>69</td>\n",
       "    </tr>\n",
       "  </tbody>\n",
       "</table>\n",
       "<p>3174 rows × 1 columns</p>\n",
       "</div>"
      ],
      "text/plain": [
       "               call_count\n",
       "user_id month            \n",
       "1000    5              22\n",
       "        6              43\n",
       "        7              47\n",
       "        8              52\n",
       "        9              58\n",
       "...                   ...\n",
       "1498    10             41\n",
       "1499    9               9\n",
       "        10             68\n",
       "        11             74\n",
       "        12             69\n",
       "\n",
       "[3174 rows x 1 columns]"
      ]
     },
     "execution_count": 47,
     "metadata": {},
     "output_type": "execute_result"
    }
   ],
   "source": [
    "# формирование сводной таблицы для получения количества сделанных звонков\n",
    "calls_pivot_count = calls.pivot_table(index = ['user_id', 'month'], \n",
    "values = 'call_date', aggfunc = 'count')\n",
    "# изменение названия столбцов в таблице messages_pivot\n",
    "calls_pivot_count.set_axis(['call_count'],axis = 'columns',inplace = True)\n",
    "# проверка результата\n",
    "calls_pivot_count"
   ]
  },
  {
   "cell_type": "markdown",
   "metadata": {},
   "source": [
    "Передадим методу groupby аргументы 'sum' и 'count' и создадим агрегированную таблицу в одной ячейке."
   ]
  },
  {
   "cell_type": "code",
   "execution_count": 48,
   "metadata": {},
   "outputs": [
    {
     "data": {
      "text/html": [
       "<div>\n",
       "<style scoped>\n",
       "    .dataframe tbody tr th:only-of-type {\n",
       "        vertical-align: middle;\n",
       "    }\n",
       "\n",
       "    .dataframe tbody tr th {\n",
       "        vertical-align: top;\n",
       "    }\n",
       "\n",
       "    .dataframe thead tr th {\n",
       "        text-align: left;\n",
       "    }\n",
       "</style>\n",
       "<table border=\"1\" class=\"dataframe\">\n",
       "  <thead>\n",
       "    <tr>\n",
       "      <th></th>\n",
       "      <th>user_id</th>\n",
       "      <th>month</th>\n",
       "      <th colspan=\"2\" halign=\"left\">duration</th>\n",
       "    </tr>\n",
       "    <tr>\n",
       "      <th></th>\n",
       "      <th></th>\n",
       "      <th></th>\n",
       "      <th>sum</th>\n",
       "      <th>count</th>\n",
       "    </tr>\n",
       "  </thead>\n",
       "  <tbody>\n",
       "    <tr>\n",
       "      <th>0</th>\n",
       "      <td>1000</td>\n",
       "      <td>5</td>\n",
       "      <td>159</td>\n",
       "      <td>22</td>\n",
       "    </tr>\n",
       "    <tr>\n",
       "      <th>1</th>\n",
       "      <td>1000</td>\n",
       "      <td>6</td>\n",
       "      <td>172</td>\n",
       "      <td>43</td>\n",
       "    </tr>\n",
       "    <tr>\n",
       "      <th>2</th>\n",
       "      <td>1000</td>\n",
       "      <td>7</td>\n",
       "      <td>340</td>\n",
       "      <td>47</td>\n",
       "    </tr>\n",
       "    <tr>\n",
       "      <th>3</th>\n",
       "      <td>1000</td>\n",
       "      <td>8</td>\n",
       "      <td>408</td>\n",
       "      <td>52</td>\n",
       "    </tr>\n",
       "    <tr>\n",
       "      <th>4</th>\n",
       "      <td>1000</td>\n",
       "      <td>9</td>\n",
       "      <td>466</td>\n",
       "      <td>58</td>\n",
       "    </tr>\n",
       "    <tr>\n",
       "      <th>...</th>\n",
       "      <td>...</td>\n",
       "      <td>...</td>\n",
       "      <td>...</td>\n",
       "      <td>...</td>\n",
       "    </tr>\n",
       "    <tr>\n",
       "      <th>3169</th>\n",
       "      <td>1498</td>\n",
       "      <td>10</td>\n",
       "      <td>247</td>\n",
       "      <td>41</td>\n",
       "    </tr>\n",
       "    <tr>\n",
       "      <th>3170</th>\n",
       "      <td>1499</td>\n",
       "      <td>9</td>\n",
       "      <td>70</td>\n",
       "      <td>9</td>\n",
       "    </tr>\n",
       "    <tr>\n",
       "      <th>3171</th>\n",
       "      <td>1499</td>\n",
       "      <td>10</td>\n",
       "      <td>449</td>\n",
       "      <td>68</td>\n",
       "    </tr>\n",
       "    <tr>\n",
       "      <th>3172</th>\n",
       "      <td>1499</td>\n",
       "      <td>11</td>\n",
       "      <td>612</td>\n",
       "      <td>74</td>\n",
       "    </tr>\n",
       "    <tr>\n",
       "      <th>3173</th>\n",
       "      <td>1499</td>\n",
       "      <td>12</td>\n",
       "      <td>492</td>\n",
       "      <td>69</td>\n",
       "    </tr>\n",
       "  </tbody>\n",
       "</table>\n",
       "<p>3174 rows × 4 columns</p>\n",
       "</div>"
      ],
      "text/plain": [
       "     user_id month duration      \n",
       "                        sum count\n",
       "0       1000     5      159    22\n",
       "1       1000     6      172    43\n",
       "2       1000     7      340    47\n",
       "3       1000     8      408    52\n",
       "4       1000     9      466    58\n",
       "...      ...   ...      ...   ...\n",
       "3169    1498    10      247    41\n",
       "3170    1499     9       70     9\n",
       "3171    1499    10      449    68\n",
       "3172    1499    11      612    74\n",
       "3173    1499    12      492    69\n",
       "\n",
       "[3174 rows x 4 columns]"
      ]
     },
     "execution_count": 48,
     "metadata": {},
     "output_type": "execute_result"
    }
   ],
   "source": [
    "# формирование сводной таблицы для получения суммы и количества сделанных звонков\n",
    "calls_pivot_sum_count = calls.groupby(['user_id','month']).agg({'duration' : ('sum','count')}).reset_index()\n",
    "# проверка результата\n",
    "calls_pivot_sum_count"
   ]
  },
  {
   "cell_type": "markdown",
   "metadata": {},
   "source": [
    "### Подсчет количества отправленных сообщений по месяцам"
   ]
  },
  {
   "cell_type": "markdown",
   "metadata": {},
   "source": [
    "Посчитаем для каждого пользователя количество отправленных сообщений по месяцам. Для этого необходимо добавить в таблицу messages столбец 'month' для дальнешей группировки пользователя по месяцу."
   ]
  },
  {
   "cell_type": "code",
   "execution_count": 49,
   "metadata": {},
   "outputs": [
    {
     "data": {
      "text/html": [
       "<div>\n",
       "<style scoped>\n",
       "    .dataframe tbody tr th:only-of-type {\n",
       "        vertical-align: middle;\n",
       "    }\n",
       "\n",
       "    .dataframe tbody tr th {\n",
       "        vertical-align: top;\n",
       "    }\n",
       "\n",
       "    .dataframe thead th {\n",
       "        text-align: right;\n",
       "    }\n",
       "</style>\n",
       "<table border=\"1\" class=\"dataframe\">\n",
       "  <thead>\n",
       "    <tr style=\"text-align: right;\">\n",
       "      <th></th>\n",
       "      <th></th>\n",
       "      <th>message_count</th>\n",
       "    </tr>\n",
       "    <tr>\n",
       "      <th>user_id</th>\n",
       "      <th>month</th>\n",
       "      <th></th>\n",
       "    </tr>\n",
       "  </thead>\n",
       "  <tbody>\n",
       "    <tr>\n",
       "      <th rowspan=\"5\" valign=\"top\">1000</th>\n",
       "      <th>5</th>\n",
       "      <td>22</td>\n",
       "    </tr>\n",
       "    <tr>\n",
       "      <th>6</th>\n",
       "      <td>60</td>\n",
       "    </tr>\n",
       "    <tr>\n",
       "      <th>7</th>\n",
       "      <td>75</td>\n",
       "    </tr>\n",
       "    <tr>\n",
       "      <th>8</th>\n",
       "      <td>81</td>\n",
       "    </tr>\n",
       "    <tr>\n",
       "      <th>9</th>\n",
       "      <td>57</td>\n",
       "    </tr>\n",
       "    <tr>\n",
       "      <th>...</th>\n",
       "      <th>...</th>\n",
       "      <td>...</td>\n",
       "    </tr>\n",
       "    <tr>\n",
       "      <th>1498</th>\n",
       "      <th>10</th>\n",
       "      <td>42</td>\n",
       "    </tr>\n",
       "    <tr>\n",
       "      <th rowspan=\"4\" valign=\"top\">1499</th>\n",
       "      <th>9</th>\n",
       "      <td>11</td>\n",
       "    </tr>\n",
       "    <tr>\n",
       "      <th>10</th>\n",
       "      <td>48</td>\n",
       "    </tr>\n",
       "    <tr>\n",
       "      <th>11</th>\n",
       "      <td>59</td>\n",
       "    </tr>\n",
       "    <tr>\n",
       "      <th>12</th>\n",
       "      <td>66</td>\n",
       "    </tr>\n",
       "  </tbody>\n",
       "</table>\n",
       "<p>2717 rows × 1 columns</p>\n",
       "</div>"
      ],
      "text/plain": [
       "               message_count\n",
       "user_id month               \n",
       "1000    5                 22\n",
       "        6                 60\n",
       "        7                 75\n",
       "        8                 81\n",
       "        9                 57\n",
       "...                      ...\n",
       "1498    10                42\n",
       "1499    9                 11\n",
       "        10                48\n",
       "        11                59\n",
       "        12                66\n",
       "\n",
       "[2717 rows x 1 columns]"
      ]
     },
     "execution_count": 49,
     "metadata": {},
     "output_type": "execute_result"
    }
   ],
   "source": [
    "# получение месяца из даты\n",
    "messages['month'] = pd.DatetimeIndex(messages['message_date']).month \n",
    "# формирование сводной таблицы для получения количества отправленных сообщений по месяцам\n",
    "messages_pivot = messages.pivot_table(index = ['user_id', 'month'], \n",
    "values = 'message_date', aggfunc = 'count')\n",
    "# изменение названия столбцов в таблице messages_pivot\n",
    "messages_pivot.set_axis(['message_count'],axis = 'columns',inplace = True)\n",
    "# проверка результата\n",
    "messages_pivot"
   ]
  },
  {
   "cell_type": "markdown",
   "metadata": {},
   "source": [
    "### Подсчет объема израсходованного интернет-трафика по месяцам"
   ]
  },
  {
   "cell_type": "markdown",
   "metadata": {},
   "source": [
    "Посчитаем для каждого пользователя объем израсходованного интернет-трафика по месяцам. Для веб-трафика отдельные сессии не считаются. Вместо этого общая сумма за месяц округляется в бо́льшую сторону."
   ]
  },
  {
   "cell_type": "code",
   "execution_count": 50,
   "metadata": {},
   "outputs": [
    {
     "data": {
      "text/html": [
       "<div>\n",
       "<style scoped>\n",
       "    .dataframe tbody tr th:only-of-type {\n",
       "        vertical-align: middle;\n",
       "    }\n",
       "\n",
       "    .dataframe tbody tr th {\n",
       "        vertical-align: top;\n",
       "    }\n",
       "\n",
       "    .dataframe thead th {\n",
       "        text-align: right;\n",
       "    }\n",
       "</style>\n",
       "<table border=\"1\" class=\"dataframe\">\n",
       "  <thead>\n",
       "    <tr style=\"text-align: right;\">\n",
       "      <th></th>\n",
       "      <th></th>\n",
       "      <th>mb_used</th>\n",
       "      <th>gb_used</th>\n",
       "    </tr>\n",
       "    <tr>\n",
       "      <th>user_id</th>\n",
       "      <th>month</th>\n",
       "      <th></th>\n",
       "      <th></th>\n",
       "    </tr>\n",
       "  </thead>\n",
       "  <tbody>\n",
       "    <tr>\n",
       "      <th rowspan=\"5\" valign=\"top\">1000</th>\n",
       "      <th>5</th>\n",
       "      <td>2,253.49</td>\n",
       "      <td>3</td>\n",
       "    </tr>\n",
       "    <tr>\n",
       "      <th>6</th>\n",
       "      <td>23,233.77</td>\n",
       "      <td>23</td>\n",
       "    </tr>\n",
       "    <tr>\n",
       "      <th>7</th>\n",
       "      <td>14,003.64</td>\n",
       "      <td>14</td>\n",
       "    </tr>\n",
       "    <tr>\n",
       "      <th>8</th>\n",
       "      <td>14,055.93</td>\n",
       "      <td>14</td>\n",
       "    </tr>\n",
       "    <tr>\n",
       "      <th>9</th>\n",
       "      <td>14,568.91</td>\n",
       "      <td>15</td>\n",
       "    </tr>\n",
       "  </tbody>\n",
       "</table>\n",
       "</div>"
      ],
      "text/plain": [
       "                mb_used  gb_used\n",
       "user_id month                   \n",
       "1000    5      2,253.49        3\n",
       "        6     23,233.77       23\n",
       "        7     14,003.64       14\n",
       "        8     14,055.93       14\n",
       "        9     14,568.91       15"
      ]
     },
     "execution_count": 50,
     "metadata": {},
     "output_type": "execute_result"
    }
   ],
   "source": [
    "# получение месяца из даты\n",
    "internet['month'] = pd.DatetimeIndex(internet['session_date']).month\n",
    "# формирование сводной таблицы для получения объема израсходованного интернет-трафика по месяцам\n",
    "internet_pivot = internet.pivot_table(index = ['user_id', 'month'], \n",
    "values = 'mb_used', aggfunc = 'sum')\n",
    "# добавление столбца 'gb_used' путем преобразования данных столбца 'mb_used' из мегабайт в гигабайты\n",
    "internet_pivot['gb_used'] = (internet_pivot['mb_used'] / 1024).apply(math.ceil)\n",
    "# проверка результата\n",
    "internet_pivot.head()"
   ]
  },
  {
   "cell_type": "markdown",
   "metadata": {},
   "source": [
    "Объединим датасеты calls_pivot и internet_pivot по колонке 'user_id', 'month', а также датасеты calls_pivot и internet_pivot по колонке 'user_id', 'month'."
   ]
  },
  {
   "cell_type": "code",
   "execution_count": 51,
   "metadata": {},
   "outputs": [
    {
     "data": {
      "text/html": [
       "<div>\n",
       "<style scoped>\n",
       "    .dataframe tbody tr th:only-of-type {\n",
       "        vertical-align: middle;\n",
       "    }\n",
       "\n",
       "    .dataframe tbody tr th {\n",
       "        vertical-align: top;\n",
       "    }\n",
       "\n",
       "    .dataframe thead th {\n",
       "        text-align: right;\n",
       "    }\n",
       "</style>\n",
       "<table border=\"1\" class=\"dataframe\">\n",
       "  <thead>\n",
       "    <tr style=\"text-align: right;\">\n",
       "      <th></th>\n",
       "      <th></th>\n",
       "      <th>duration</th>\n",
       "      <th>call_count</th>\n",
       "      <th>mb_used</th>\n",
       "      <th>gb_used</th>\n",
       "      <th>message_count</th>\n",
       "    </tr>\n",
       "    <tr>\n",
       "      <th>user_id</th>\n",
       "      <th>month</th>\n",
       "      <th></th>\n",
       "      <th></th>\n",
       "      <th></th>\n",
       "      <th></th>\n",
       "      <th></th>\n",
       "    </tr>\n",
       "  </thead>\n",
       "  <tbody>\n",
       "    <tr>\n",
       "      <th rowspan=\"5\" valign=\"top\">1000</th>\n",
       "      <th>5</th>\n",
       "      <td>159.00</td>\n",
       "      <td>22.00</td>\n",
       "      <td>2,253.49</td>\n",
       "      <td>3.00</td>\n",
       "      <td>22.00</td>\n",
       "    </tr>\n",
       "    <tr>\n",
       "      <th>6</th>\n",
       "      <td>172.00</td>\n",
       "      <td>43.00</td>\n",
       "      <td>23,233.77</td>\n",
       "      <td>23.00</td>\n",
       "      <td>60.00</td>\n",
       "    </tr>\n",
       "    <tr>\n",
       "      <th>7</th>\n",
       "      <td>340.00</td>\n",
       "      <td>47.00</td>\n",
       "      <td>14,003.64</td>\n",
       "      <td>14.00</td>\n",
       "      <td>75.00</td>\n",
       "    </tr>\n",
       "    <tr>\n",
       "      <th>8</th>\n",
       "      <td>408.00</td>\n",
       "      <td>52.00</td>\n",
       "      <td>14,055.93</td>\n",
       "      <td>14.00</td>\n",
       "      <td>81.00</td>\n",
       "    </tr>\n",
       "    <tr>\n",
       "      <th>9</th>\n",
       "      <td>466.00</td>\n",
       "      <td>58.00</td>\n",
       "      <td>14,568.91</td>\n",
       "      <td>15.00</td>\n",
       "      <td>57.00</td>\n",
       "    </tr>\n",
       "    <tr>\n",
       "      <th>...</th>\n",
       "      <th>...</th>\n",
       "      <td>...</td>\n",
       "      <td>...</td>\n",
       "      <td>...</td>\n",
       "      <td>...</td>\n",
       "      <td>...</td>\n",
       "    </tr>\n",
       "    <tr>\n",
       "      <th rowspan=\"5\" valign=\"top\">1489</th>\n",
       "      <th>8</th>\n",
       "      <td>NaN</td>\n",
       "      <td>NaN</td>\n",
       "      <td>11,050.56</td>\n",
       "      <td>11.00</td>\n",
       "      <td>17.00</td>\n",
       "    </tr>\n",
       "    <tr>\n",
       "      <th>9</th>\n",
       "      <td>NaN</td>\n",
       "      <td>NaN</td>\n",
       "      <td>17,206.30</td>\n",
       "      <td>17.00</td>\n",
       "      <td>32.00</td>\n",
       "    </tr>\n",
       "    <tr>\n",
       "      <th>10</th>\n",
       "      <td>NaN</td>\n",
       "      <td>NaN</td>\n",
       "      <td>19,559.44</td>\n",
       "      <td>20.00</td>\n",
       "      <td>21.00</td>\n",
       "    </tr>\n",
       "    <tr>\n",
       "      <th>11</th>\n",
       "      <td>NaN</td>\n",
       "      <td>NaN</td>\n",
       "      <td>17,491.56</td>\n",
       "      <td>18.00</td>\n",
       "      <td>20.00</td>\n",
       "    </tr>\n",
       "    <tr>\n",
       "      <th>12</th>\n",
       "      <td>NaN</td>\n",
       "      <td>NaN</td>\n",
       "      <td>17,322.51</td>\n",
       "      <td>17.00</td>\n",
       "      <td>35.00</td>\n",
       "    </tr>\n",
       "  </tbody>\n",
       "</table>\n",
       "<p>3214 rows × 5 columns</p>\n",
       "</div>"
      ],
      "text/plain": [
       "               duration  call_count   mb_used  gb_used  message_count\n",
       "user_id month                                                        \n",
       "1000    5        159.00       22.00  2,253.49     3.00          22.00\n",
       "        6        172.00       43.00 23,233.77    23.00          60.00\n",
       "        7        340.00       47.00 14,003.64    14.00          75.00\n",
       "        8        408.00       52.00 14,055.93    14.00          81.00\n",
       "        9        466.00       58.00 14,568.91    15.00          57.00\n",
       "...                 ...         ...       ...      ...            ...\n",
       "1489    8           NaN         NaN 11,050.56    11.00          17.00\n",
       "        9           NaN         NaN 17,206.30    17.00          32.00\n",
       "        10          NaN         NaN 19,559.44    20.00          21.00\n",
       "        11          NaN         NaN 17,491.56    18.00          20.00\n",
       "        12          NaN         NaN 17,322.51    17.00          35.00\n",
       "\n",
       "[3214 rows x 5 columns]"
      ]
     },
     "execution_count": 51,
     "metadata": {},
     "output_type": "execute_result"
    }
   ],
   "source": [
    "# cлияние двух датасетов calls_pivot_sum и calls_pivot_count\n",
    "data = calls_pivot_sum.merge(calls_pivot_count, on=['user_id','month'], how='outer')\n",
    "# cлияние двух датасетов data и internet_pivot\n",
    "data = data.merge(internet_pivot, on=['user_id','month'], how='outer')\n",
    "# cлияние двух датасетов data и messages_pivot\n",
    "data = data.merge(messages_pivot, on=['user_id','month'], how='outer')\n",
    "# проверка результата\n",
    "data"
   ]
  },
  {
   "cell_type": "markdown",
   "metadata": {},
   "source": [
    "### Подсчет помесячной выручки с каждого пользователя"
   ]
  },
  {
   "cell_type": "markdown",
   "metadata": {},
   "source": [
    "Для расчета помесячной выручки с каждого пользователя составим общую сводную таблицу со следующей информацией о пользователе: суммарная длительность звонков в минутах по месяцам, количество отправленных сообщений по месяцам, объём потраченного за сессию интернет-трафика. \n",
    "\n",
    "Также необходимо добавить информацию о тарифе каждого пользователя: количество минут разговора в месяц, включённых в абонентскую плату, количество сообщений в месяц, включённых в абонентскую плату, объём интернет-трафика, включённого в абонентскую плату, стоимость минуты разговора сверх тарифного пакета, стоимость отправки сообщения сверх тарифного пакета, стоимость дополнительного гигабайта интернет-трафика сверх тарифного пакета. \n",
    "\n",
    "Объединим датасеты data и users по колонке 'user_id'."
   ]
  },
  {
   "cell_type": "code",
   "execution_count": 52,
   "metadata": {},
   "outputs": [
    {
     "data": {
      "text/html": [
       "<div>\n",
       "<style scoped>\n",
       "    .dataframe tbody tr th:only-of-type {\n",
       "        vertical-align: middle;\n",
       "    }\n",
       "\n",
       "    .dataframe tbody tr th {\n",
       "        vertical-align: top;\n",
       "    }\n",
       "\n",
       "    .dataframe thead th {\n",
       "        text-align: right;\n",
       "    }\n",
       "</style>\n",
       "<table border=\"1\" class=\"dataframe\">\n",
       "  <thead>\n",
       "    <tr style=\"text-align: right;\">\n",
       "      <th></th>\n",
       "      <th>user_id</th>\n",
       "      <th>month</th>\n",
       "      <th>duration</th>\n",
       "      <th>call_count</th>\n",
       "      <th>mb_used</th>\n",
       "      <th>gb_used</th>\n",
       "      <th>message_count</th>\n",
       "      <th>city</th>\n",
       "      <th>tariff</th>\n",
       "    </tr>\n",
       "  </thead>\n",
       "  <tbody>\n",
       "    <tr>\n",
       "      <th>0</th>\n",
       "      <td>1000</td>\n",
       "      <td>5.00</td>\n",
       "      <td>159.00</td>\n",
       "      <td>22.00</td>\n",
       "      <td>2,253.49</td>\n",
       "      <td>3.00</td>\n",
       "      <td>22.00</td>\n",
       "      <td>Краснодар</td>\n",
       "      <td>ultra</td>\n",
       "    </tr>\n",
       "    <tr>\n",
       "      <th>1</th>\n",
       "      <td>1000</td>\n",
       "      <td>6.00</td>\n",
       "      <td>172.00</td>\n",
       "      <td>43.00</td>\n",
       "      <td>23,233.77</td>\n",
       "      <td>23.00</td>\n",
       "      <td>60.00</td>\n",
       "      <td>Краснодар</td>\n",
       "      <td>ultra</td>\n",
       "    </tr>\n",
       "    <tr>\n",
       "      <th>2</th>\n",
       "      <td>1000</td>\n",
       "      <td>7.00</td>\n",
       "      <td>340.00</td>\n",
       "      <td>47.00</td>\n",
       "      <td>14,003.64</td>\n",
       "      <td>14.00</td>\n",
       "      <td>75.00</td>\n",
       "      <td>Краснодар</td>\n",
       "      <td>ultra</td>\n",
       "    </tr>\n",
       "    <tr>\n",
       "      <th>3</th>\n",
       "      <td>1000</td>\n",
       "      <td>8.00</td>\n",
       "      <td>408.00</td>\n",
       "      <td>52.00</td>\n",
       "      <td>14,055.93</td>\n",
       "      <td>14.00</td>\n",
       "      <td>81.00</td>\n",
       "      <td>Краснодар</td>\n",
       "      <td>ultra</td>\n",
       "    </tr>\n",
       "    <tr>\n",
       "      <th>4</th>\n",
       "      <td>1000</td>\n",
       "      <td>9.00</td>\n",
       "      <td>466.00</td>\n",
       "      <td>58.00</td>\n",
       "      <td>14,568.91</td>\n",
       "      <td>15.00</td>\n",
       "      <td>57.00</td>\n",
       "      <td>Краснодар</td>\n",
       "      <td>ultra</td>\n",
       "    </tr>\n",
       "    <tr>\n",
       "      <th>...</th>\n",
       "      <td>...</td>\n",
       "      <td>...</td>\n",
       "      <td>...</td>\n",
       "      <td>...</td>\n",
       "      <td>...</td>\n",
       "      <td>...</td>\n",
       "      <td>...</td>\n",
       "      <td>...</td>\n",
       "      <td>...</td>\n",
       "    </tr>\n",
       "    <tr>\n",
       "      <th>3211</th>\n",
       "      <td>1489</td>\n",
       "      <td>10.00</td>\n",
       "      <td>NaN</td>\n",
       "      <td>NaN</td>\n",
       "      <td>19,559.44</td>\n",
       "      <td>20.00</td>\n",
       "      <td>21.00</td>\n",
       "      <td>Санкт-Петербург</td>\n",
       "      <td>smart</td>\n",
       "    </tr>\n",
       "    <tr>\n",
       "      <th>3212</th>\n",
       "      <td>1489</td>\n",
       "      <td>11.00</td>\n",
       "      <td>NaN</td>\n",
       "      <td>NaN</td>\n",
       "      <td>17,491.56</td>\n",
       "      <td>18.00</td>\n",
       "      <td>20.00</td>\n",
       "      <td>Санкт-Петербург</td>\n",
       "      <td>smart</td>\n",
       "    </tr>\n",
       "    <tr>\n",
       "      <th>3213</th>\n",
       "      <td>1489</td>\n",
       "      <td>12.00</td>\n",
       "      <td>NaN</td>\n",
       "      <td>NaN</td>\n",
       "      <td>17,322.51</td>\n",
       "      <td>17.00</td>\n",
       "      <td>35.00</td>\n",
       "      <td>Санкт-Петербург</td>\n",
       "      <td>smart</td>\n",
       "    </tr>\n",
       "    <tr>\n",
       "      <th>3214</th>\n",
       "      <td>1128</td>\n",
       "      <td>NaN</td>\n",
       "      <td>NaN</td>\n",
       "      <td>NaN</td>\n",
       "      <td>NaN</td>\n",
       "      <td>NaN</td>\n",
       "      <td>NaN</td>\n",
       "      <td>Волжский</td>\n",
       "      <td>ultra</td>\n",
       "    </tr>\n",
       "    <tr>\n",
       "      <th>3215</th>\n",
       "      <td>1371</td>\n",
       "      <td>NaN</td>\n",
       "      <td>NaN</td>\n",
       "      <td>NaN</td>\n",
       "      <td>NaN</td>\n",
       "      <td>NaN</td>\n",
       "      <td>NaN</td>\n",
       "      <td>Омск</td>\n",
       "      <td>smart</td>\n",
       "    </tr>\n",
       "  </tbody>\n",
       "</table>\n",
       "<p>3216 rows × 9 columns</p>\n",
       "</div>"
      ],
      "text/plain": [
       "      user_id  month  duration  call_count   mb_used  gb_used  message_count  \\\n",
       "0        1000   5.00    159.00       22.00  2,253.49     3.00          22.00   \n",
       "1        1000   6.00    172.00       43.00 23,233.77    23.00          60.00   \n",
       "2        1000   7.00    340.00       47.00 14,003.64    14.00          75.00   \n",
       "3        1000   8.00    408.00       52.00 14,055.93    14.00          81.00   \n",
       "4        1000   9.00    466.00       58.00 14,568.91    15.00          57.00   \n",
       "...       ...    ...       ...         ...       ...      ...            ...   \n",
       "3211     1489  10.00       NaN         NaN 19,559.44    20.00          21.00   \n",
       "3212     1489  11.00       NaN         NaN 17,491.56    18.00          20.00   \n",
       "3213     1489  12.00       NaN         NaN 17,322.51    17.00          35.00   \n",
       "3214     1128    NaN       NaN         NaN       NaN      NaN            NaN   \n",
       "3215     1371    NaN       NaN         NaN       NaN      NaN            NaN   \n",
       "\n",
       "                 city tariff  \n",
       "0           Краснодар  ultra  \n",
       "1           Краснодар  ultra  \n",
       "2           Краснодар  ultra  \n",
       "3           Краснодар  ultra  \n",
       "4           Краснодар  ultra  \n",
       "...               ...    ...  \n",
       "3211  Санкт-Петербург  smart  \n",
       "3212  Санкт-Петербург  smart  \n",
       "3213  Санкт-Петербург  smart  \n",
       "3214         Волжский  ultra  \n",
       "3215             Омск  smart  \n",
       "\n",
       "[3216 rows x 9 columns]"
      ]
     },
     "execution_count": 52,
     "metadata": {},
     "output_type": "execute_result"
    }
   ],
   "source": [
    "# cлияние двух датасетов data и users \n",
    "data = data.reset_index().merge(users[['city', 'user_id', 'tariff']], on='user_id', how='outer')\n",
    "# проверка результата\n",
    "data"
   ]
  },
  {
   "cell_type": "code",
   "execution_count": 53,
   "metadata": {},
   "outputs": [
    {
     "data": {
      "text/html": [
       "<div>\n",
       "<style scoped>\n",
       "    .dataframe tbody tr th:only-of-type {\n",
       "        vertical-align: middle;\n",
       "    }\n",
       "\n",
       "    .dataframe tbody tr th {\n",
       "        vertical-align: top;\n",
       "    }\n",
       "\n",
       "    .dataframe thead th {\n",
       "        text-align: right;\n",
       "    }\n",
       "</style>\n",
       "<table border=\"1\" class=\"dataframe\">\n",
       "  <thead>\n",
       "    <tr style=\"text-align: right;\">\n",
       "      <th></th>\n",
       "      <th>messages_included</th>\n",
       "      <th>mb_per_month_included</th>\n",
       "      <th>minutes_included</th>\n",
       "      <th>rub_monthly_fee</th>\n",
       "      <th>rub_per_gb</th>\n",
       "      <th>rub_per_message</th>\n",
       "      <th>rub_per_minute</th>\n",
       "      <th>tariff</th>\n",
       "    </tr>\n",
       "  </thead>\n",
       "  <tbody>\n",
       "    <tr>\n",
       "      <th>0</th>\n",
       "      <td>50</td>\n",
       "      <td>15360</td>\n",
       "      <td>500</td>\n",
       "      <td>550</td>\n",
       "      <td>200</td>\n",
       "      <td>3</td>\n",
       "      <td>3</td>\n",
       "      <td>smart</td>\n",
       "    </tr>\n",
       "    <tr>\n",
       "      <th>1</th>\n",
       "      <td>1000</td>\n",
       "      <td>30720</td>\n",
       "      <td>3000</td>\n",
       "      <td>1950</td>\n",
       "      <td>150</td>\n",
       "      <td>1</td>\n",
       "      <td>1</td>\n",
       "      <td>ultra</td>\n",
       "    </tr>\n",
       "  </tbody>\n",
       "</table>\n",
       "</div>"
      ],
      "text/plain": [
       "   messages_included  mb_per_month_included  minutes_included  \\\n",
       "0                 50                  15360               500   \n",
       "1               1000                  30720              3000   \n",
       "\n",
       "   rub_monthly_fee  rub_per_gb  rub_per_message  rub_per_minute tariff  \n",
       "0              550         200                3               3  smart  \n",
       "1             1950         150                1               1  ultra  "
      ]
     },
     "execution_count": 53,
     "metadata": {},
     "output_type": "execute_result"
    }
   ],
   "source": [
    "# изменение названия столбцов в таблице tariffs\n",
    "tariffs.set_axis(['messages_included','mb_per_month_included','minutes_included', 'rub_monthly_fee', 'rub_per_gb', \n",
    "                  'rub_per_message', 'rub_per_minute', 'tariff'],axis = 'columns',inplace = True)\n",
    "# проверка результата\n",
    "tariffs"
   ]
  },
  {
   "cell_type": "markdown",
   "metadata": {},
   "source": [
    "Соединение таблицы tariffs и data."
   ]
  },
  {
   "cell_type": "code",
   "execution_count": 54,
   "metadata": {},
   "outputs": [
    {
     "data": {
      "text/html": [
       "<div>\n",
       "<style scoped>\n",
       "    .dataframe tbody tr th:only-of-type {\n",
       "        vertical-align: middle;\n",
       "    }\n",
       "\n",
       "    .dataframe tbody tr th {\n",
       "        vertical-align: top;\n",
       "    }\n",
       "\n",
       "    .dataframe thead th {\n",
       "        text-align: right;\n",
       "    }\n",
       "</style>\n",
       "<table border=\"1\" class=\"dataframe\">\n",
       "  <thead>\n",
       "    <tr style=\"text-align: right;\">\n",
       "      <th></th>\n",
       "      <th>index</th>\n",
       "      <th>user_id</th>\n",
       "      <th>month</th>\n",
       "      <th>duration</th>\n",
       "      <th>call_count</th>\n",
       "      <th>mb_used</th>\n",
       "      <th>gb_used</th>\n",
       "      <th>message_count</th>\n",
       "      <th>city</th>\n",
       "      <th>tariff</th>\n",
       "      <th>messages_included</th>\n",
       "      <th>mb_per_month_included</th>\n",
       "      <th>minutes_included</th>\n",
       "      <th>rub_monthly_fee</th>\n",
       "      <th>rub_per_gb</th>\n",
       "      <th>rub_per_message</th>\n",
       "      <th>rub_per_minute</th>\n",
       "      <th>gb_per_month_included</th>\n",
       "    </tr>\n",
       "  </thead>\n",
       "  <tbody>\n",
       "    <tr>\n",
       "      <th>0</th>\n",
       "      <td>0</td>\n",
       "      <td>1000</td>\n",
       "      <td>5.00</td>\n",
       "      <td>159.00</td>\n",
       "      <td>22.00</td>\n",
       "      <td>2,253.49</td>\n",
       "      <td>3.00</td>\n",
       "      <td>22.00</td>\n",
       "      <td>Краснодар</td>\n",
       "      <td>ultra</td>\n",
       "      <td>1000</td>\n",
       "      <td>30720</td>\n",
       "      <td>3000</td>\n",
       "      <td>1950</td>\n",
       "      <td>150</td>\n",
       "      <td>1</td>\n",
       "      <td>1</td>\n",
       "      <td>30.00</td>\n",
       "    </tr>\n",
       "    <tr>\n",
       "      <th>1</th>\n",
       "      <td>1</td>\n",
       "      <td>1000</td>\n",
       "      <td>6.00</td>\n",
       "      <td>172.00</td>\n",
       "      <td>43.00</td>\n",
       "      <td>23,233.77</td>\n",
       "      <td>23.00</td>\n",
       "      <td>60.00</td>\n",
       "      <td>Краснодар</td>\n",
       "      <td>ultra</td>\n",
       "      <td>1000</td>\n",
       "      <td>30720</td>\n",
       "      <td>3000</td>\n",
       "      <td>1950</td>\n",
       "      <td>150</td>\n",
       "      <td>1</td>\n",
       "      <td>1</td>\n",
       "      <td>30.00</td>\n",
       "    </tr>\n",
       "    <tr>\n",
       "      <th>2</th>\n",
       "      <td>2</td>\n",
       "      <td>1000</td>\n",
       "      <td>7.00</td>\n",
       "      <td>340.00</td>\n",
       "      <td>47.00</td>\n",
       "      <td>14,003.64</td>\n",
       "      <td>14.00</td>\n",
       "      <td>75.00</td>\n",
       "      <td>Краснодар</td>\n",
       "      <td>ultra</td>\n",
       "      <td>1000</td>\n",
       "      <td>30720</td>\n",
       "      <td>3000</td>\n",
       "      <td>1950</td>\n",
       "      <td>150</td>\n",
       "      <td>1</td>\n",
       "      <td>1</td>\n",
       "      <td>30.00</td>\n",
       "    </tr>\n",
       "    <tr>\n",
       "      <th>3</th>\n",
       "      <td>3</td>\n",
       "      <td>1000</td>\n",
       "      <td>8.00</td>\n",
       "      <td>408.00</td>\n",
       "      <td>52.00</td>\n",
       "      <td>14,055.93</td>\n",
       "      <td>14.00</td>\n",
       "      <td>81.00</td>\n",
       "      <td>Краснодар</td>\n",
       "      <td>ultra</td>\n",
       "      <td>1000</td>\n",
       "      <td>30720</td>\n",
       "      <td>3000</td>\n",
       "      <td>1950</td>\n",
       "      <td>150</td>\n",
       "      <td>1</td>\n",
       "      <td>1</td>\n",
       "      <td>30.00</td>\n",
       "    </tr>\n",
       "    <tr>\n",
       "      <th>4</th>\n",
       "      <td>4</td>\n",
       "      <td>1000</td>\n",
       "      <td>9.00</td>\n",
       "      <td>466.00</td>\n",
       "      <td>58.00</td>\n",
       "      <td>14,568.91</td>\n",
       "      <td>15.00</td>\n",
       "      <td>57.00</td>\n",
       "      <td>Краснодар</td>\n",
       "      <td>ultra</td>\n",
       "      <td>1000</td>\n",
       "      <td>30720</td>\n",
       "      <td>3000</td>\n",
       "      <td>1950</td>\n",
       "      <td>150</td>\n",
       "      <td>1</td>\n",
       "      <td>1</td>\n",
       "      <td>30.00</td>\n",
       "    </tr>\n",
       "    <tr>\n",
       "      <th>...</th>\n",
       "      <td>...</td>\n",
       "      <td>...</td>\n",
       "      <td>...</td>\n",
       "      <td>...</td>\n",
       "      <td>...</td>\n",
       "      <td>...</td>\n",
       "      <td>...</td>\n",
       "      <td>...</td>\n",
       "      <td>...</td>\n",
       "      <td>...</td>\n",
       "      <td>...</td>\n",
       "      <td>...</td>\n",
       "      <td>...</td>\n",
       "      <td>...</td>\n",
       "      <td>...</td>\n",
       "      <td>...</td>\n",
       "      <td>...</td>\n",
       "      <td>...</td>\n",
       "    </tr>\n",
       "    <tr>\n",
       "      <th>3211</th>\n",
       "      <td>3210</td>\n",
       "      <td>1489</td>\n",
       "      <td>9.00</td>\n",
       "      <td>NaN</td>\n",
       "      <td>NaN</td>\n",
       "      <td>17,206.30</td>\n",
       "      <td>17.00</td>\n",
       "      <td>32.00</td>\n",
       "      <td>Санкт-Петербург</td>\n",
       "      <td>smart</td>\n",
       "      <td>50</td>\n",
       "      <td>15360</td>\n",
       "      <td>500</td>\n",
       "      <td>550</td>\n",
       "      <td>200</td>\n",
       "      <td>3</td>\n",
       "      <td>3</td>\n",
       "      <td>15.00</td>\n",
       "    </tr>\n",
       "    <tr>\n",
       "      <th>3212</th>\n",
       "      <td>3211</td>\n",
       "      <td>1489</td>\n",
       "      <td>10.00</td>\n",
       "      <td>NaN</td>\n",
       "      <td>NaN</td>\n",
       "      <td>19,559.44</td>\n",
       "      <td>20.00</td>\n",
       "      <td>21.00</td>\n",
       "      <td>Санкт-Петербург</td>\n",
       "      <td>smart</td>\n",
       "      <td>50</td>\n",
       "      <td>15360</td>\n",
       "      <td>500</td>\n",
       "      <td>550</td>\n",
       "      <td>200</td>\n",
       "      <td>3</td>\n",
       "      <td>3</td>\n",
       "      <td>15.00</td>\n",
       "    </tr>\n",
       "    <tr>\n",
       "      <th>3213</th>\n",
       "      <td>3212</td>\n",
       "      <td>1489</td>\n",
       "      <td>11.00</td>\n",
       "      <td>NaN</td>\n",
       "      <td>NaN</td>\n",
       "      <td>17,491.56</td>\n",
       "      <td>18.00</td>\n",
       "      <td>20.00</td>\n",
       "      <td>Санкт-Петербург</td>\n",
       "      <td>smart</td>\n",
       "      <td>50</td>\n",
       "      <td>15360</td>\n",
       "      <td>500</td>\n",
       "      <td>550</td>\n",
       "      <td>200</td>\n",
       "      <td>3</td>\n",
       "      <td>3</td>\n",
       "      <td>15.00</td>\n",
       "    </tr>\n",
       "    <tr>\n",
       "      <th>3214</th>\n",
       "      <td>3213</td>\n",
       "      <td>1489</td>\n",
       "      <td>12.00</td>\n",
       "      <td>NaN</td>\n",
       "      <td>NaN</td>\n",
       "      <td>17,322.51</td>\n",
       "      <td>17.00</td>\n",
       "      <td>35.00</td>\n",
       "      <td>Санкт-Петербург</td>\n",
       "      <td>smart</td>\n",
       "      <td>50</td>\n",
       "      <td>15360</td>\n",
       "      <td>500</td>\n",
       "      <td>550</td>\n",
       "      <td>200</td>\n",
       "      <td>3</td>\n",
       "      <td>3</td>\n",
       "      <td>15.00</td>\n",
       "    </tr>\n",
       "    <tr>\n",
       "      <th>3215</th>\n",
       "      <td>3215</td>\n",
       "      <td>1371</td>\n",
       "      <td>NaN</td>\n",
       "      <td>NaN</td>\n",
       "      <td>NaN</td>\n",
       "      <td>NaN</td>\n",
       "      <td>NaN</td>\n",
       "      <td>NaN</td>\n",
       "      <td>Омск</td>\n",
       "      <td>smart</td>\n",
       "      <td>50</td>\n",
       "      <td>15360</td>\n",
       "      <td>500</td>\n",
       "      <td>550</td>\n",
       "      <td>200</td>\n",
       "      <td>3</td>\n",
       "      <td>3</td>\n",
       "      <td>15.00</td>\n",
       "    </tr>\n",
       "  </tbody>\n",
       "</table>\n",
       "<p>3216 rows × 18 columns</p>\n",
       "</div>"
      ],
      "text/plain": [
       "      index  user_id  month  duration  call_count   mb_used  gb_used  \\\n",
       "0         0     1000   5.00    159.00       22.00  2,253.49     3.00   \n",
       "1         1     1000   6.00    172.00       43.00 23,233.77    23.00   \n",
       "2         2     1000   7.00    340.00       47.00 14,003.64    14.00   \n",
       "3         3     1000   8.00    408.00       52.00 14,055.93    14.00   \n",
       "4         4     1000   9.00    466.00       58.00 14,568.91    15.00   \n",
       "...     ...      ...    ...       ...         ...       ...      ...   \n",
       "3211   3210     1489   9.00       NaN         NaN 17,206.30    17.00   \n",
       "3212   3211     1489  10.00       NaN         NaN 19,559.44    20.00   \n",
       "3213   3212     1489  11.00       NaN         NaN 17,491.56    18.00   \n",
       "3214   3213     1489  12.00       NaN         NaN 17,322.51    17.00   \n",
       "3215   3215     1371    NaN       NaN         NaN       NaN      NaN   \n",
       "\n",
       "      message_count             city tariff  messages_included  \\\n",
       "0             22.00        Краснодар  ultra               1000   \n",
       "1             60.00        Краснодар  ultra               1000   \n",
       "2             75.00        Краснодар  ultra               1000   \n",
       "3             81.00        Краснодар  ultra               1000   \n",
       "4             57.00        Краснодар  ultra               1000   \n",
       "...             ...              ...    ...                ...   \n",
       "3211          32.00  Санкт-Петербург  smart                 50   \n",
       "3212          21.00  Санкт-Петербург  smart                 50   \n",
       "3213          20.00  Санкт-Петербург  smart                 50   \n",
       "3214          35.00  Санкт-Петербург  smart                 50   \n",
       "3215            NaN             Омск  smart                 50   \n",
       "\n",
       "      mb_per_month_included  minutes_included  rub_monthly_fee  rub_per_gb  \\\n",
       "0                     30720              3000             1950         150   \n",
       "1                     30720              3000             1950         150   \n",
       "2                     30720              3000             1950         150   \n",
       "3                     30720              3000             1950         150   \n",
       "4                     30720              3000             1950         150   \n",
       "...                     ...               ...              ...         ...   \n",
       "3211                  15360               500              550         200   \n",
       "3212                  15360               500              550         200   \n",
       "3213                  15360               500              550         200   \n",
       "3214                  15360               500              550         200   \n",
       "3215                  15360               500              550         200   \n",
       "\n",
       "      rub_per_message  rub_per_minute  gb_per_month_included  \n",
       "0                   1               1                  30.00  \n",
       "1                   1               1                  30.00  \n",
       "2                   1               1                  30.00  \n",
       "3                   1               1                  30.00  \n",
       "4                   1               1                  30.00  \n",
       "...               ...             ...                    ...  \n",
       "3211                3               3                  15.00  \n",
       "3212                3               3                  15.00  \n",
       "3213                3               3                  15.00  \n",
       "3214                3               3                  15.00  \n",
       "3215                3               3                  15.00  \n",
       "\n",
       "[3216 rows x 18 columns]"
      ]
     },
     "execution_count": 54,
     "metadata": {},
     "output_type": "execute_result"
    }
   ],
   "source": [
    "# cлияние двух датасетов data и tariffs\n",
    "data = data.reset_index().merge(tariffs, on='tariff', how='outer')\n",
    "# создание столбца 'gb_per_month_included' в таблицу data\n",
    "data['gb_per_month_included'] = data['mb_per_month_included']/1024\n",
    "# проверка результата\n",
    "data"
   ]
  },
  {
   "cell_type": "markdown",
   "metadata": {},
   "source": [
    "Подсчитаем помесячную выручку с каждого пользователя (вычтем бесплатный лимит из суммарного количества звонков, сообщений и интернет-трафика)."
   ]
  },
  {
   "cell_type": "code",
   "execution_count": 55,
   "metadata": {},
   "outputs": [],
   "source": [
    "# создание функции для подсчета переплаты пользователей \n",
    "def get_revenue(row):\n",
    "    # считаем овердрафты\n",
    "    minutes_over = (row['duration'] - row['minutes_included']) *  row['rub_per_minute']\n",
    "    message_over = (row['message_count'] - row['messages_included']) *  row['rub_per_message']\n",
    "    gb_over = (row['gb_used'] - row['gb_per_month_included']) *  row['rub_per_gb']\n",
    "    # убираем отрицательные овердрафты\n",
    "    if minutes_over < 0: \n",
    "        minutes_over = 0\n",
    "    if message_over < 0:\n",
    "        message_over = 0\n",
    "    if gb_over < 0:\n",
    "        gb_over = 0\n",
    "        # считаем выручку\n",
    "    return minutes_over + message_over + gb_over\n",
    "data['revenue'] = data.apply(get_revenue, axis = 1)"
   ]
  },
  {
   "cell_type": "code",
   "execution_count": 56,
   "metadata": {},
   "outputs": [],
   "source": [
    "# создание функции для подсчета суммы переплаты пользователей и оплаты ежемесячной абонентской платы в рублях\n",
    "def income_for_the_month(row):\n",
    "    income = row['revenue'] + row['rub_monthly_fee']\n",
    "    return income\n",
    "data['income_for_the_month'] = data.apply(income_for_the_month, axis=1)"
   ]
  },
  {
   "cell_type": "code",
   "execution_count": 57,
   "metadata": {},
   "outputs": [
    {
     "data": {
      "text/html": [
       "<div>\n",
       "<style scoped>\n",
       "    .dataframe tbody tr th:only-of-type {\n",
       "        vertical-align: middle;\n",
       "    }\n",
       "\n",
       "    .dataframe tbody tr th {\n",
       "        vertical-align: top;\n",
       "    }\n",
       "\n",
       "    .dataframe thead th {\n",
       "        text-align: right;\n",
       "    }\n",
       "</style>\n",
       "<table border=\"1\" class=\"dataframe\">\n",
       "  <thead>\n",
       "    <tr style=\"text-align: right;\">\n",
       "      <th></th>\n",
       "      <th>index</th>\n",
       "      <th>user_id</th>\n",
       "      <th>month</th>\n",
       "      <th>duration</th>\n",
       "      <th>call_count</th>\n",
       "      <th>mb_used</th>\n",
       "      <th>gb_used</th>\n",
       "      <th>message_count</th>\n",
       "      <th>city</th>\n",
       "      <th>tariff</th>\n",
       "      <th>messages_included</th>\n",
       "      <th>mb_per_month_included</th>\n",
       "      <th>minutes_included</th>\n",
       "      <th>rub_monthly_fee</th>\n",
       "      <th>rub_per_gb</th>\n",
       "      <th>rub_per_message</th>\n",
       "      <th>rub_per_minute</th>\n",
       "      <th>gb_per_month_included</th>\n",
       "      <th>revenue</th>\n",
       "      <th>income_for_the_month</th>\n",
       "    </tr>\n",
       "  </thead>\n",
       "  <tbody>\n",
       "    <tr>\n",
       "      <th>0</th>\n",
       "      <td>0</td>\n",
       "      <td>1000</td>\n",
       "      <td>5.00</td>\n",
       "      <td>159.00</td>\n",
       "      <td>22.00</td>\n",
       "      <td>2,253.49</td>\n",
       "      <td>3.00</td>\n",
       "      <td>22.00</td>\n",
       "      <td>Краснодар</td>\n",
       "      <td>ultra</td>\n",
       "      <td>1000</td>\n",
       "      <td>30720</td>\n",
       "      <td>3000</td>\n",
       "      <td>1950</td>\n",
       "      <td>150</td>\n",
       "      <td>1</td>\n",
       "      <td>1</td>\n",
       "      <td>30.00</td>\n",
       "      <td>0.00</td>\n",
       "      <td>1,950.00</td>\n",
       "    </tr>\n",
       "    <tr>\n",
       "      <th>1</th>\n",
       "      <td>1</td>\n",
       "      <td>1000</td>\n",
       "      <td>6.00</td>\n",
       "      <td>172.00</td>\n",
       "      <td>43.00</td>\n",
       "      <td>23,233.77</td>\n",
       "      <td>23.00</td>\n",
       "      <td>60.00</td>\n",
       "      <td>Краснодар</td>\n",
       "      <td>ultra</td>\n",
       "      <td>1000</td>\n",
       "      <td>30720</td>\n",
       "      <td>3000</td>\n",
       "      <td>1950</td>\n",
       "      <td>150</td>\n",
       "      <td>1</td>\n",
       "      <td>1</td>\n",
       "      <td>30.00</td>\n",
       "      <td>0.00</td>\n",
       "      <td>1,950.00</td>\n",
       "    </tr>\n",
       "    <tr>\n",
       "      <th>2</th>\n",
       "      <td>2</td>\n",
       "      <td>1000</td>\n",
       "      <td>7.00</td>\n",
       "      <td>340.00</td>\n",
       "      <td>47.00</td>\n",
       "      <td>14,003.64</td>\n",
       "      <td>14.00</td>\n",
       "      <td>75.00</td>\n",
       "      <td>Краснодар</td>\n",
       "      <td>ultra</td>\n",
       "      <td>1000</td>\n",
       "      <td>30720</td>\n",
       "      <td>3000</td>\n",
       "      <td>1950</td>\n",
       "      <td>150</td>\n",
       "      <td>1</td>\n",
       "      <td>1</td>\n",
       "      <td>30.00</td>\n",
       "      <td>0.00</td>\n",
       "      <td>1,950.00</td>\n",
       "    </tr>\n",
       "    <tr>\n",
       "      <th>3</th>\n",
       "      <td>3</td>\n",
       "      <td>1000</td>\n",
       "      <td>8.00</td>\n",
       "      <td>408.00</td>\n",
       "      <td>52.00</td>\n",
       "      <td>14,055.93</td>\n",
       "      <td>14.00</td>\n",
       "      <td>81.00</td>\n",
       "      <td>Краснодар</td>\n",
       "      <td>ultra</td>\n",
       "      <td>1000</td>\n",
       "      <td>30720</td>\n",
       "      <td>3000</td>\n",
       "      <td>1950</td>\n",
       "      <td>150</td>\n",
       "      <td>1</td>\n",
       "      <td>1</td>\n",
       "      <td>30.00</td>\n",
       "      <td>0.00</td>\n",
       "      <td>1,950.00</td>\n",
       "    </tr>\n",
       "    <tr>\n",
       "      <th>4</th>\n",
       "      <td>4</td>\n",
       "      <td>1000</td>\n",
       "      <td>9.00</td>\n",
       "      <td>466.00</td>\n",
       "      <td>58.00</td>\n",
       "      <td>14,568.91</td>\n",
       "      <td>15.00</td>\n",
       "      <td>57.00</td>\n",
       "      <td>Краснодар</td>\n",
       "      <td>ultra</td>\n",
       "      <td>1000</td>\n",
       "      <td>30720</td>\n",
       "      <td>3000</td>\n",
       "      <td>1950</td>\n",
       "      <td>150</td>\n",
       "      <td>1</td>\n",
       "      <td>1</td>\n",
       "      <td>30.00</td>\n",
       "      <td>0.00</td>\n",
       "      <td>1,950.00</td>\n",
       "    </tr>\n",
       "    <tr>\n",
       "      <th>5</th>\n",
       "      <td>5</td>\n",
       "      <td>1000</td>\n",
       "      <td>10.00</td>\n",
       "      <td>350.00</td>\n",
       "      <td>57.00</td>\n",
       "      <td>14,702.49</td>\n",
       "      <td>15.00</td>\n",
       "      <td>73.00</td>\n",
       "      <td>Краснодар</td>\n",
       "      <td>ultra</td>\n",
       "      <td>1000</td>\n",
       "      <td>30720</td>\n",
       "      <td>3000</td>\n",
       "      <td>1950</td>\n",
       "      <td>150</td>\n",
       "      <td>1</td>\n",
       "      <td>1</td>\n",
       "      <td>30.00</td>\n",
       "      <td>0.00</td>\n",
       "      <td>1,950.00</td>\n",
       "    </tr>\n",
       "    <tr>\n",
       "      <th>6</th>\n",
       "      <td>6</td>\n",
       "      <td>1000</td>\n",
       "      <td>11.00</td>\n",
       "      <td>338.00</td>\n",
       "      <td>43.00</td>\n",
       "      <td>14,756.47</td>\n",
       "      <td>15.00</td>\n",
       "      <td>58.00</td>\n",
       "      <td>Краснодар</td>\n",
       "      <td>ultra</td>\n",
       "      <td>1000</td>\n",
       "      <td>30720</td>\n",
       "      <td>3000</td>\n",
       "      <td>1950</td>\n",
       "      <td>150</td>\n",
       "      <td>1</td>\n",
       "      <td>1</td>\n",
       "      <td>30.00</td>\n",
       "      <td>0.00</td>\n",
       "      <td>1,950.00</td>\n",
       "    </tr>\n",
       "    <tr>\n",
       "      <th>7</th>\n",
       "      <td>7</td>\n",
       "      <td>1000</td>\n",
       "      <td>12.00</td>\n",
       "      <td>333.00</td>\n",
       "      <td>46.00</td>\n",
       "      <td>9,817.61</td>\n",
       "      <td>10.00</td>\n",
       "      <td>70.00</td>\n",
       "      <td>Краснодар</td>\n",
       "      <td>ultra</td>\n",
       "      <td>1000</td>\n",
       "      <td>30720</td>\n",
       "      <td>3000</td>\n",
       "      <td>1950</td>\n",
       "      <td>150</td>\n",
       "      <td>1</td>\n",
       "      <td>1</td>\n",
       "      <td>30.00</td>\n",
       "      <td>0.00</td>\n",
       "      <td>1,950.00</td>\n",
       "    </tr>\n",
       "    <tr>\n",
       "      <th>8</th>\n",
       "      <td>17</td>\n",
       "      <td>1003</td>\n",
       "      <td>8.00</td>\n",
       "      <td>380.00</td>\n",
       "      <td>55.00</td>\n",
       "      <td>8,565.21</td>\n",
       "      <td>9.00</td>\n",
       "      <td>37.00</td>\n",
       "      <td>Москва</td>\n",
       "      <td>ultra</td>\n",
       "      <td>1000</td>\n",
       "      <td>30720</td>\n",
       "      <td>3000</td>\n",
       "      <td>1950</td>\n",
       "      <td>150</td>\n",
       "      <td>1</td>\n",
       "      <td>1</td>\n",
       "      <td>30.00</td>\n",
       "      <td>0.00</td>\n",
       "      <td>1,950.00</td>\n",
       "    </tr>\n",
       "    <tr>\n",
       "      <th>9</th>\n",
       "      <td>18</td>\n",
       "      <td>1003</td>\n",
       "      <td>9.00</td>\n",
       "      <td>961.00</td>\n",
       "      <td>134.00</td>\n",
       "      <td>12,468.87</td>\n",
       "      <td>13.00</td>\n",
       "      <td>91.00</td>\n",
       "      <td>Москва</td>\n",
       "      <td>ultra</td>\n",
       "      <td>1000</td>\n",
       "      <td>30720</td>\n",
       "      <td>3000</td>\n",
       "      <td>1950</td>\n",
       "      <td>150</td>\n",
       "      <td>1</td>\n",
       "      <td>1</td>\n",
       "      <td>30.00</td>\n",
       "      <td>0.00</td>\n",
       "      <td>1,950.00</td>\n",
       "    </tr>\n",
       "  </tbody>\n",
       "</table>\n",
       "</div>"
      ],
      "text/plain": [
       "   index  user_id  month  duration  call_count   mb_used  gb_used  \\\n",
       "0      0     1000   5.00    159.00       22.00  2,253.49     3.00   \n",
       "1      1     1000   6.00    172.00       43.00 23,233.77    23.00   \n",
       "2      2     1000   7.00    340.00       47.00 14,003.64    14.00   \n",
       "3      3     1000   8.00    408.00       52.00 14,055.93    14.00   \n",
       "4      4     1000   9.00    466.00       58.00 14,568.91    15.00   \n",
       "5      5     1000  10.00    350.00       57.00 14,702.49    15.00   \n",
       "6      6     1000  11.00    338.00       43.00 14,756.47    15.00   \n",
       "7      7     1000  12.00    333.00       46.00  9,817.61    10.00   \n",
       "8     17     1003   8.00    380.00       55.00  8,565.21     9.00   \n",
       "9     18     1003   9.00    961.00      134.00 12,468.87    13.00   \n",
       "\n",
       "   message_count       city tariff  messages_included  mb_per_month_included  \\\n",
       "0          22.00  Краснодар  ultra               1000                  30720   \n",
       "1          60.00  Краснодар  ultra               1000                  30720   \n",
       "2          75.00  Краснодар  ultra               1000                  30720   \n",
       "3          81.00  Краснодар  ultra               1000                  30720   \n",
       "4          57.00  Краснодар  ultra               1000                  30720   \n",
       "5          73.00  Краснодар  ultra               1000                  30720   \n",
       "6          58.00  Краснодар  ultra               1000                  30720   \n",
       "7          70.00  Краснодар  ultra               1000                  30720   \n",
       "8          37.00     Москва  ultra               1000                  30720   \n",
       "9          91.00     Москва  ultra               1000                  30720   \n",
       "\n",
       "   minutes_included  rub_monthly_fee  rub_per_gb  rub_per_message  \\\n",
       "0              3000             1950         150                1   \n",
       "1              3000             1950         150                1   \n",
       "2              3000             1950         150                1   \n",
       "3              3000             1950         150                1   \n",
       "4              3000             1950         150                1   \n",
       "5              3000             1950         150                1   \n",
       "6              3000             1950         150                1   \n",
       "7              3000             1950         150                1   \n",
       "8              3000             1950         150                1   \n",
       "9              3000             1950         150                1   \n",
       "\n",
       "   rub_per_minute  gb_per_month_included  revenue  income_for_the_month  \n",
       "0               1                  30.00     0.00              1,950.00  \n",
       "1               1                  30.00     0.00              1,950.00  \n",
       "2               1                  30.00     0.00              1,950.00  \n",
       "3               1                  30.00     0.00              1,950.00  \n",
       "4               1                  30.00     0.00              1,950.00  \n",
       "5               1                  30.00     0.00              1,950.00  \n",
       "6               1                  30.00     0.00              1,950.00  \n",
       "7               1                  30.00     0.00              1,950.00  \n",
       "8               1                  30.00     0.00              1,950.00  \n",
       "9               1                  30.00     0.00              1,950.00  "
      ]
     },
     "execution_count": 57,
     "metadata": {},
     "output_type": "execute_result"
    }
   ],
   "source": [
    "# проверка результата\n",
    "data.head(10)"
   ]
  },
  {
   "cell_type": "markdown",
   "metadata": {},
   "source": [
    "## Анализ и описание данных"
   ]
  },
  {
   "cell_type": "code",
   "execution_count": 58,
   "metadata": {},
   "outputs": [],
   "source": [
    "# импорт библиотеки\n",
    "from scipy import stats as st\n",
    "import numpy as np"
   ]
  },
  {
   "cell_type": "code",
   "execution_count": 59,
   "metadata": {},
   "outputs": [
    {
     "data": {
      "text/plain": [
       "12    476\n",
       "11    450\n",
       "10    417\n",
       "9     375\n",
       "8     342\n",
       "7     292\n",
       "6     248\n",
       "5     208\n",
       "4     167\n",
       "3     114\n",
       "2      82\n",
       "1      43\n",
       "Name: month, dtype: int64"
      ]
     },
     "execution_count": 59,
     "metadata": {},
     "output_type": "execute_result"
    }
   ],
   "source": [
    "# удаление пропущенных значений\n",
    "data.dropna(subset = ['month'], inplace = True)\n",
    "# заполнение пропущенных значений\n",
    "data = data.fillna(0)\n",
    "# перевод вещественных чисел в целые в столбце 'month'\n",
    "data['month'] = data['month'].astype('int')\n",
    "# просмотр уникальных значений и их количества столбца 'month'\n",
    "data['month'].value_counts()"
   ]
  },
  {
   "cell_type": "code",
   "execution_count": 60,
   "metadata": {},
   "outputs": [],
   "source": [
    "# разделим клиентов по тарифам и определим их поведение\n",
    "clients_smart = data.query('tariff == \"smart\"')\n",
    "clients_ultra = data.query('tariff == \"ultra\"')"
   ]
  },
  {
   "cell_type": "markdown",
   "metadata": {},
   "source": [
    "Опишем поведение клиентов оператора, исходя из выборки. Расчитаем сколько минут разговора требуется пользователям каждого тарифа в месяц. Посчитаем среднее количество, дисперсию и стандартное отклонение."
   ]
  },
  {
   "cell_type": "code",
   "execution_count": 61,
   "metadata": {},
   "outputs": [
    {
     "name": "stdout",
     "output_type": "stream",
     "text": [
      "Среднее количество продолжительности звонков тарифного плана smart 417.9349484073576\n",
      "Дисперсия продолжительности звонков тарифного плана smart 36203.066652094654\n",
      "Стандартное отклонение продолжительности звонков тарифного плана smart 190.27103471651867\n",
      "Среднее количество продолжительности звонков тарифного плана ultra 526.6233502538071\n",
      "Дисперсия продолжительности звонков тарифного плана ultra 100771.22361720211\n",
      "Стандартное отклонение продолжительности звонков тарифного плана ultra 317.444835549741\n"
     ]
    }
   ],
   "source": [
    "# посчитаем среднее количество продолжительности звонков тарифного плана smart\n",
    "print('Среднее количество продолжительности звонков тарифного плана smart', clients_smart['duration'].mean())\n",
    "# посчитаем дисперсию продолжительности звонков тарифного плана smart\n",
    "smart_var_duration = np.var(clients_smart['duration'])\n",
    "print('Дисперсия продолжительности звонков тарифного плана smart', smart_var_duration)\n",
    "# посчитаем стандартное отклонение продолжительности звонков тарифного плана smart\n",
    "smart_sigma_duration = np.sqrt(smart_var_duration)\n",
    "print('Стандартное отклонение продолжительности звонков тарифного плана smart', smart_sigma_duration)\n",
    "# посчитаем среднее количество продолжительности звонков тарифного плана smart\n",
    "print('Среднее количество продолжительности звонков тарифного плана ultra', clients_ultra['duration'].mean())\n",
    "# посчитаем дисперсию продолжительности звонков тарифного плана ultra\n",
    "ultra_var_duration = np.var(clients_ultra['duration'])\n",
    "print('Дисперсия продолжительности звонков тарифного плана ultra', ultra_var_duration)\n",
    "# посчитаем стандартное отклонение продолжительности звонков тарифного плана ultra\n",
    "ultra_sigma_duration = np.sqrt(ultra_var_duration)\n",
    "print('Стандартное отклонение продолжительности звонков тарифного плана ultra', ultra_sigma_duration)"
   ]
  },
  {
   "cell_type": "markdown",
   "metadata": {},
   "source": [
    "Построим гистограммы."
   ]
  },
  {
   "cell_type": "code",
   "execution_count": 62,
   "metadata": {},
   "outputs": [
    {
     "data": {
      "image/png": "[encoded data removed]",
      "text/plain": [
       "<Figure size 432x288 with 1 Axes>"
      ]
     },
     "metadata": {
      "needs_background": "light"
     },
     "output_type": "display_data"
    }
   ],
   "source": [
    "clients_smart['duration'].plot(kind='hist', bins=50, grid=True, alpha=0.7, density=True)\n",
    "clients_ultra['duration'].plot(kind='hist', bins=50, grid=True, alpha=0.7, density=True);"
   ]
  },
  {
   "cell_type": "markdown",
   "metadata": {},
   "source": [
    "У пользователей тарифа ultra дисперсия и cтандартное отклонение звонков значительно выше, чем дисперсия и cтандартное отклонение звонков тарифного плана smart. Также следует отметить, что среднее количество продолжительности звонков 418 минут тарифного плана smart близко к максимальной границе тарифа. Среднее количество продолжительности звонков тарифного плана ultra составляет 526 минут, что значительно меньше заявленного в тарифном плане максимального значения количества минут разговора."
   ]
  },
  {
   "cell_type": "markdown",
   "metadata": {},
   "source": [
    "Расчитаем сколько сообщений требуется пользователям каждого тарифа в месяц. Посчитаем среднее количество, дисперсию и стандартное отклонение."
   ]
  },
  {
   "cell_type": "code",
   "execution_count": 63,
   "metadata": {},
   "outputs": [
    {
     "name": "stdout",
     "output_type": "stream",
     "text": [
      "Среднее количество сообщений тарифного плана smart 33.384028712427096\n",
      "Дисперсия количества сообщений тарифного плана smart 796.455482917076\n",
      "Стандартное отклонение количества сообщений тарифного плана smart 28.221542886898938\n",
      "Среднее количество сообщений тарифного плана ultra 49.36345177664975\n",
      "Дисперсия количества сообщений тарифного плана ultra 2282.946075394891\n",
      "Стандартное отклонение количества сообщений тарифного плана ultra 47.7801849661017\n"
     ]
    }
   ],
   "source": [
    "# посчитаем среднее количество сообщений тарифного плана smart\n",
    "print('Среднее количество сообщений тарифного плана smart', clients_smart['message_count'].mean())\n",
    "# посчитаем дисперсию количества сообщений тарифного плана smart\n",
    "smart_var_message_count = np.var(clients_smart['message_count'])\n",
    "print('Дисперсия количества сообщений тарифного плана smart', smart_var_message_count)\n",
    "# посчитаем стандартное отклонение количества сообщений тарифного плана smart\n",
    "smart_sigma_message_count = np.sqrt(smart_var_message_count)\n",
    "print('Стандартное отклонение количества сообщений тарифного плана smart', smart_sigma_message_count)\n",
    "# посчитаем среднее количество сообщений тарифного плана ultra\n",
    "print('Среднее количество сообщений тарифного плана ultra', clients_ultra['message_count'].mean())\n",
    "# посчитаем дисперсию количества сообщений тарифного плана ultra\n",
    "ultra_var_message_count = np.var(clients_ultra['message_count'])\n",
    "print('Дисперсия количества сообщений тарифного плана ultra', ultra_var_message_count)\n",
    "# посчитаем стандартное отклонение количества сообщений тарифного плана ultra\n",
    "ultra_sigma_message_count = np.sqrt(ultra_var_message_count)\n",
    "print('Стандартное отклонение количества сообщений тарифного плана ultra', ultra_sigma_message_count)"
   ]
  },
  {
   "cell_type": "markdown",
   "metadata": {},
   "source": [
    "Построим гистограмму."
   ]
  },
  {
   "cell_type": "code",
   "execution_count": 64,
   "metadata": {},
   "outputs": [
    {
     "data": {
      "image/png": "[encoded data removed]",
      "text/plain": [
       "<Figure size 432x288 with 1 Axes>"
      ]
     },
     "metadata": {
      "needs_background": "light"
     },
     "output_type": "display_data"
    }
   ],
   "source": [
    "clients_smart['message_count'].plot(kind='hist', grid=True, alpha=0.7, density=True)\n",
    "clients_ultra['message_count'].plot(kind='hist', grid=True, alpha=0.7, density=True);"
   ]
  },
  {
   "cell_type": "markdown",
   "metadata": {},
   "source": [
    "Для обоих тарифов характерна скошенность набора данных вправо. Можно сделать вывод, что отправкой сообщений клиенты обоих тарифов пользуются менее активно, чем звонкам. Среднее количество сообщений, дисперсия и стандартное отклонение тарифа ultra больше, чем аналогичные данные тарифа smart. В тарифном плане smart среднее количество сообщений 33 при максимальных 50, входящих в тариф. А в тарифном плане ultra  среднее количество сообщений 48 при максимальных 1000 сообщений, включенных в тариф. "
   ]
  },
  {
   "cell_type": "markdown",
   "metadata": {},
   "source": [
    "Расчитаем какой объём интернет-трафика требуется пользователям каждого тарифа в месяц. Посчитаем среднее количество, дисперсию и стандартное отклонение."
   ]
  },
  {
   "cell_type": "code",
   "execution_count": 65,
   "metadata": {},
   "outputs": [
    {
     "name": "stdout",
     "output_type": "stream",
     "text": [
      "Средний объём интернет-трафика тарифного плана smart 16.328847016599372\n",
      "Дисперсия объёма интернет-трафика тарифного плана smart 33.01388745483741\n",
      "Стандартное отклонение объёма интернет-трафика тарифного плана smart 5.7457712671874965\n",
      "Средний объём интернет-трафика тарифного плана ultra 19.494416243654822\n",
      "Дисперсия объёма интернет-трафика тарифного плана ultra 96.99311602978705\n",
      "Стандартное отклонение объёма интернет-трафика тарифного плана ultra 9.8485083149575\n"
     ]
    }
   ],
   "source": [
    "# посчитаем средний объём интернет-трафика тарифного плана smart\n",
    "print('Средний объём интернет-трафика тарифного плана smart', clients_smart['gb_used'].mean())\n",
    "# посчитаем дисперсию объёма интернет-трафика тарифного плана smart\n",
    "smart_var_mb_used = np.var(clients_smart['gb_used'])\n",
    "print('Дисперсия объёма интернет-трафика тарифного плана smart', smart_var_mb_used)\n",
    "# посчитаем стандартное отклонение объёма интернет-трафика тарифного плана smart\n",
    "smart_sigma_mb_used = np.sqrt(smart_var_mb_used)\n",
    "print('Стандартное отклонение объёма интернет-трафика тарифного плана smart', smart_sigma_mb_used)\n",
    "# посчитаем средний объём интернет-трафика тарифного плана ultra\n",
    "print('Средний объём интернет-трафика тарифного плана ultra', clients_ultra['gb_used'].mean())\n",
    "# посчитаем дисперсию объёма интернет-трафика тарифного плана ultra\n",
    "ultra_var_mb_used = np.var(clients_ultra['gb_used'])\n",
    "print('Дисперсия объёма интернет-трафика тарифного плана ultra', ultra_var_mb_used)\n",
    "# посчитаем стандартное отклонение объёма интернет-трафика тарифного плана ultra\n",
    "ultra_sigma_mb_used = np.sqrt(ultra_var_mb_used)\n",
    "print('Стандартное отклонение объёма интернет-трафика тарифного плана ultra', ultra_sigma_mb_used)"
   ]
  },
  {
   "cell_type": "code",
   "execution_count": 66,
   "metadata": {},
   "outputs": [
    {
     "data": {
      "text/plain": [
       "<AxesSubplot:ylabel='Frequency'>"
      ]
     },
     "execution_count": 66,
     "metadata": {},
     "output_type": "execute_result"
    },
    {
     "data": {
      "image/png": "[encoded data removed]",
      "text/plain": [
       "<Figure size 432x288 with 1 Axes>"
      ]
     },
     "metadata": {
      "needs_background": "light"
     },
     "output_type": "display_data"
    }
   ],
   "source": [
    "clients_smart['gb_used'].plot(kind='hist', grid=True, alpha=0.7, density=True)\n",
    "clients_ultra['gb_used'].plot(kind='hist', grid=True, alpha=0.7, density=True)"
   ]
  },
  {
   "cell_type": "markdown",
   "metadata": {},
   "source": [
    "Средний объём интернет-трафика тарифного плана smart примерно 16 Гб, в связи с тем, что в тарифном плане включено 15 Гб интернет-трафика. Большинство пользователей стараются держать себя в рамках тарифа. У пользователей тарифа ultra данные более \"размазаны\" относительно среднего. Это обосновано большим количеством Гб в пакете, также стоит отметить, что среднее значение использованных Гб близки."
   ]
  },
  {
   "cell_type": "markdown",
   "metadata": {},
   "source": [
    "**Выводы**"
   ]
  },
  {
   "cell_type": "markdown",
   "metadata": {},
   "source": [
    "* Пользователи тарифа smart пытаются подстроиться под условия пакета. \n",
    "* Дисперсия и стандартное отклонение длительности звонков, отправленных сообщений, использованных Гб тарифного плана ultra значительно выше, чем дисперсия и cтандартное отклонение длительности звонков, отправленных сообщений, использованных Гб тарифного плана smart. Из этого можно сделать вывод, что данные пользователей тарифа ultra более размыты, а следовательно, их поведение менее систематизировано, чем поведение пользователей на тарифе smart. \n",
    "* Пользователи пакета ultra переплачивают за услуги, которыми не пользуются."
   ]
  },
  {
   "cell_type": "markdown",
   "metadata": {},
   "source": [
    "## Проверка гипотез"
   ]
  },
  {
   "cell_type": "markdown",
   "metadata": {},
   "source": [
    "Проверим две исследовательские гипотезы:\n",
    "* средняя выручка пользователей тарифов «Ультра» и «Смарт» различаются;\n",
    "* средняя выручка пользователей из Москвы отличается от выручки пользователей из других регионов.\n",
    "\n",
    "\n",
    "Так как генеральные совокупности не зависят друг от друга, выборочные средние распределены нормально, значит можно использовать специальный метод stats.ttest_ind для проверки гипотезы о равенстве среднего двух генеральных совокупностей по взятым из них выборкам. Выборки (средняя выручка пользователей тарифа «Ультра» и пользователей тарифа «Смарт», средняя выручка пользователей из г. Москвы и пользователей из других регионов) разного размера и дисперсии у совокупностей различные, следовательно, укажем параметр equal_var в методе как False."
   ]
  },
  {
   "cell_type": "markdown",
   "metadata": {},
   "source": [
    "Для проверки исследовательской гипотезы, что средняя выручка пользователей тарифов «Ультра» и «Смарт» различаются, необходимо составить нулевую гипотезу и альтернативную. Это утверждение, которое принимается верным, если отбрасывается нулевая гипотеза.\n",
    "Нулевая гипотеза: средняя выручка по тарифам равна (H₀ всегда формулируется так, чтобы использовать знак равенства).\n",
    "Альтернативная гипотеза: средняя выручка по тарифам не равна."
   ]
  },
  {
   "cell_type": "code",
   "execution_count": 67,
   "metadata": {},
   "outputs": [
    {
     "name": "stdout",
     "output_type": "stream",
     "text": [
      "p-значение:  1.4731065642477575e-37\n",
      "Отвергаем нулевую гипотезу\n"
     ]
    }
   ],
   "source": [
    "alpha = .05 # критический уровень статистической значимости\n",
    "# если p-value окажется меньше него - отвегнем гипотезу\n",
    "\n",
    "results = st.ttest_ind(\n",
    "    clients_smart['income_for_the_month'], \n",
    "    clients_ultra['income_for_the_month'], equal_var = False)\n",
    "\n",
    "print('p-значение: ', results.pvalue)\n",
    "\n",
    "if results.pvalue < alpha:\n",
    "    print(\"Отвергаем нулевую гипотезу\")\n",
    "else:\n",
    "    print(\"Не получилось отвергнуть нулевую гипотезу\") "
   ]
  },
  {
   "cell_type": "markdown",
   "metadata": {},
   "source": [
    "Отвергаем нулевую гипотезу, так как экспериментальные данные очень маловероятны при условии, что гипотеза верна. Значит, средняя выручка по тарифам не равна."
   ]
  },
  {
   "cell_type": "markdown",
   "metadata": {},
   "source": [
    "Проверим исследовательскую гипотезу, что средняя выручка пользователей из Москвы отличается от выручки пользователей из других регионов. Нулевая гипотеза: средняя выручка пользователей из Москвы и пользователей из других регионов равна.\n",
    "Альтернативная гипотеза: средняя выручка пользователей из Москвы и пользователей из других регионов не равна."
   ]
  },
  {
   "cell_type": "code",
   "execution_count": 68,
   "metadata": {},
   "outputs": [
    {
     "name": "stdout",
     "output_type": "stream",
     "text": [
      "p-значение:  0.9777283495166826\n",
      "Не получилось отвергнуть нулевую гипотезу\n"
     ]
    }
   ],
   "source": [
    "alpha = .05 # критический уровень статистической значимости\n",
    "# если p-value окажется меньше него - отвегнем гипотезу\n",
    "\n",
    "results = st.ttest_ind(\n",
    "    data.query('city == \"Москва\"')['income_for_the_month'], \n",
    "    data.query('city != \"Москва\"')['income_for_the_month'], equal_var = False)\n",
    "\n",
    "print('p-значение: ', results.pvalue)\n",
    "\n",
    "if results.pvalue < alpha:\n",
    "    print(\"Отвергаем нулевую гипотезу\")\n",
    "else:\n",
    "    print(\"Не получилось отвергнуть нулевую гипотезу\") "
   ]
  },
  {
   "cell_type": "markdown",
   "metadata": {},
   "source": [
    "Итак, p-значение значительно выше установленного критического уровня статистической значимости, вероятность получить верные данные очень высока, гипотезу не отвергаем, следовательно, уверенность в том, что гипотеза верна, повысилась."
   ]
  },
  {
   "cell_type": "markdown",
   "metadata": {},
   "source": [
    "## Вывод"
   ]
  },
  {
   "cell_type": "markdown",
   "metadata": {},
   "source": [
    "Проанализированы выборки данных пользователей двух тарифов, рассчитаны и сравнены среднее количество, дисперсия и стандартное отклонение параметров длительности звонков, отправленных сообщений, использованных Гб. Можно сделать вывод, что поведение пользователей тарифа smart более систематизировано, чем поведение пользователей тарифа ultra.\n",
    "\n",
    "В ходе работы также были проверены две исследовательские гипотезы. Гипотеза, что \"средняя выручка по тарифам равна\" была отвергнута и принята альтернативная, что \"средняя выручка по тарифам не равна\". Гипотезу \"средняя выручка пользователей из Москвы и пользователей из других регионов равна\" не получилось отвергнуть, так как данные гипотезе не противоречат."
   ]
  }
 ],
 "metadata": {
  "ExecuteTimeLog": [
   {
    "duration": 863,
    "start_time": "2022-01-12T08:45:04.026Z"
   },
   {
    "duration": 497,
    "start_time": "2022-01-12T08:45:19.007Z"
   },
   {
    "duration": 170,
    "start_time": "2022-01-12T08:45:22.710Z"
   },
   {
    "duration": 164,
    "start_time": "2022-01-12T08:45:29.420Z"
   },
   {
    "duration": 198,
    "start_time": "2022-01-12T08:45:32.514Z"
   },
   {
    "duration": 104,
    "start_time": "2022-01-12T08:48:17.701Z"
   },
   {
    "duration": 164,
    "start_time": "2022-01-12T08:48:23.194Z"
   },
   {
    "duration": 154,
    "start_time": "2022-01-12T08:48:50.313Z"
   },
   {
    "duration": 157,
    "start_time": "2022-01-12T08:51:08.562Z"
   },
   {
    "duration": 1069,
    "start_time": "2022-01-12T08:51:19.904Z"
   },
   {
    "duration": 168,
    "start_time": "2022-01-12T08:51:23.198Z"
   },
   {
    "duration": 156,
    "start_time": "2022-01-12T08:51:35.023Z"
   },
   {
    "duration": 401,
    "start_time": "2022-01-12T08:52:40.303Z"
   },
   {
    "duration": 8,
    "start_time": "2022-01-12T08:53:13.650Z"
   },
   {
    "duration": 8,
    "start_time": "2022-01-12T08:53:54.585Z"
   },
   {
    "duration": 9,
    "start_time": "2022-01-12T08:53:56.773Z"
   },
   {
    "duration": 8,
    "start_time": "2022-01-12T08:54:06.166Z"
   },
   {
    "duration": 8,
    "start_time": "2022-01-12T08:54:14.625Z"
   },
   {
    "duration": 5,
    "start_time": "2022-01-12T08:55:56.169Z"
   },
   {
    "duration": 14,
    "start_time": "2022-01-12T08:56:18.917Z"
   },
   {
    "duration": 15,
    "start_time": "2022-01-12T08:56:25.674Z"
   },
   {
    "duration": 15,
    "start_time": "2022-01-12T08:56:36.506Z"
   },
   {
    "duration": 28,
    "start_time": "2022-01-12T08:56:55.738Z"
   },
   {
    "duration": 15,
    "start_time": "2022-01-12T08:57:12.136Z"
   },
   {
    "duration": 351,
    "start_time": "2022-01-12T08:58:38.467Z"
   },
   {
    "duration": 16,
    "start_time": "2022-01-12T08:58:50.478Z"
   },
   {
    "duration": 10,
    "start_time": "2022-01-12T08:59:23.107Z"
   },
   {
    "duration": 29,
    "start_time": "2022-01-12T09:00:32.862Z"
   },
   {
    "duration": 63,
    "start_time": "2022-01-12T09:00:48.243Z"
   },
   {
    "duration": 282,
    "start_time": "2022-01-12T09:01:58.445Z"
   },
   {
    "duration": 29,
    "start_time": "2022-01-12T09:02:21.064Z"
   },
   {
    "duration": 28,
    "start_time": "2022-01-12T09:02:39.598Z"
   },
   {
    "duration": 83,
    "start_time": "2022-01-12T09:12:17.077Z"
   },
   {
    "duration": 7,
    "start_time": "2022-01-12T09:30:41.205Z"
   },
   {
    "duration": 43,
    "start_time": "2022-01-12T09:31:09.329Z"
   },
   {
    "duration": 6,
    "start_time": "2022-01-12T09:31:45.489Z"
   },
   {
    "duration": 75,
    "start_time": "2022-01-12T09:32:15.438Z"
   },
   {
    "duration": 26,
    "start_time": "2022-01-12T09:32:20.353Z"
   },
   {
    "duration": 99,
    "start_time": "2022-01-12T09:37:46.597Z"
   },
   {
    "duration": 146,
    "start_time": "2022-01-12T09:37:52.897Z"
   },
   {
    "duration": 142,
    "start_time": "2022-01-12T09:38:10.493Z"
   },
   {
    "duration": 151,
    "start_time": "2022-01-12T09:38:17.254Z"
   },
   {
    "duration": 80,
    "start_time": "2022-01-12T09:38:36.550Z"
   },
   {
    "duration": 118,
    "start_time": "2022-01-12T09:40:06.937Z"
   },
   {
    "duration": 117,
    "start_time": "2022-01-12T09:40:14.410Z"
   },
   {
    "duration": 121,
    "start_time": "2022-01-12T09:40:32.301Z"
   },
   {
    "duration": 119,
    "start_time": "2022-01-12T09:41:52.883Z"
   },
   {
    "duration": 25,
    "start_time": "2022-01-12T09:44:22.543Z"
   },
   {
    "duration": 24,
    "start_time": "2022-01-12T09:45:09.693Z"
   },
   {
    "duration": 6,
    "start_time": "2022-01-12T09:45:16.768Z"
   },
   {
    "duration": 138,
    "start_time": "2022-01-12T09:46:15.906Z"
   },
   {
    "duration": 254,
    "start_time": "2022-01-12T09:46:46.893Z"
   },
   {
    "duration": 8,
    "start_time": "2022-01-12T09:46:55.013Z"
   },
   {
    "duration": 1264,
    "start_time": "2022-01-12T16:55:12.481Z"
   },
   {
    "duration": 58,
    "start_time": "2022-01-12T16:55:13.748Z"
   },
   {
    "duration": 96,
    "start_time": "2022-01-12T16:55:13.809Z"
   },
   {
    "duration": -622,
    "start_time": "2022-01-12T16:55:14.529Z"
   },
   {
    "duration": -627,
    "start_time": "2022-01-12T16:55:14.536Z"
   },
   {
    "duration": -628,
    "start_time": "2022-01-12T16:55:14.538Z"
   },
   {
    "duration": 85,
    "start_time": "2022-01-12T16:55:23.518Z"
   },
   {
    "duration": 189,
    "start_time": "2022-01-12T16:55:32.386Z"
   },
   {
    "duration": 154,
    "start_time": "2022-01-12T16:55:54.831Z"
   },
   {
    "duration": 40,
    "start_time": "2022-01-12T16:56:05.596Z"
   },
   {
    "duration": 140,
    "start_time": "2022-01-12T16:56:05.802Z"
   },
   {
    "duration": 147,
    "start_time": "2022-01-12T17:02:44.749Z"
   },
   {
    "duration": 10,
    "start_time": "2022-01-12T17:02:45.556Z"
   },
   {
    "duration": 158,
    "start_time": "2022-01-12T17:02:51.737Z"
   },
   {
    "duration": 12,
    "start_time": "2022-01-12T17:03:53.080Z"
   },
   {
    "duration": 31,
    "start_time": "2022-01-12T17:04:25.077Z"
   },
   {
    "duration": 133,
    "start_time": "2022-01-12T17:04:31.644Z"
   },
   {
    "duration": 14,
    "start_time": "2022-01-12T17:04:43.340Z"
   },
   {
    "duration": 85,
    "start_time": "2022-01-12T17:05:23.553Z"
   },
   {
    "duration": 16,
    "start_time": "2022-01-12T17:06:37.748Z"
   },
   {
    "duration": 19,
    "start_time": "2022-01-12T17:07:03.148Z"
   },
   {
    "duration": 41,
    "start_time": "2022-01-12T17:08:20.718Z"
   },
   {
    "duration": 19,
    "start_time": "2022-01-12T17:08:23.036Z"
   },
   {
    "duration": 6,
    "start_time": "2022-01-12T17:09:22.138Z"
   },
   {
    "duration": 20,
    "start_time": "2022-01-12T17:09:31.932Z"
   },
   {
    "duration": 25,
    "start_time": "2022-01-12T17:09:46.506Z"
   },
   {
    "duration": 45,
    "start_time": "2022-01-12T17:42:17.258Z"
   },
   {
    "duration": 32,
    "start_time": "2022-01-12T17:56:36.261Z"
   },
   {
    "duration": 41,
    "start_time": "2022-01-12T17:56:43.709Z"
   },
   {
    "duration": 373,
    "start_time": "2022-01-12T17:58:02.003Z"
   },
   {
    "duration": 313,
    "start_time": "2022-01-12T17:58:07.405Z"
   },
   {
    "duration": 287,
    "start_time": "2022-01-12T17:59:49.897Z"
   },
   {
    "duration": 49,
    "start_time": "2022-01-12T18:01:10.500Z"
   },
   {
    "duration": 484,
    "start_time": "2022-01-12T18:01:41.900Z"
   },
   {
    "duration": 45,
    "start_time": "2022-01-12T18:02:32.856Z"
   },
   {
    "duration": 55,
    "start_time": "2022-01-12T18:03:08.657Z"
   },
   {
    "duration": 58,
    "start_time": "2022-01-12T19:21:28.884Z"
   },
   {
    "duration": 58,
    "start_time": "2022-01-12T19:21:37.164Z"
   },
   {
    "duration": 295,
    "start_time": "2022-01-13T08:52:34.321Z"
   },
   {
    "duration": 1018,
    "start_time": "2022-01-13T08:52:40.726Z"
   },
   {
    "duration": 37,
    "start_time": "2022-01-13T08:52:41.746Z"
   },
   {
    "duration": 116,
    "start_time": "2022-01-13T08:52:41.785Z"
   },
   {
    "duration": 71,
    "start_time": "2022-01-13T08:52:41.903Z"
   },
   {
    "duration": 297,
    "start_time": "2022-01-13T08:52:41.976Z"
   },
   {
    "duration": -583,
    "start_time": "2022-01-13T08:52:42.858Z"
   },
   {
    "duration": -583,
    "start_time": "2022-01-13T08:52:42.859Z"
   },
   {
    "duration": -583,
    "start_time": "2022-01-13T08:52:42.860Z"
   },
   {
    "duration": -582,
    "start_time": "2022-01-13T08:52:42.860Z"
   },
   {
    "duration": -583,
    "start_time": "2022-01-13T08:52:42.862Z"
   },
   {
    "duration": 278,
    "start_time": "2022-01-13T08:52:45.236Z"
   },
   {
    "duration": 13,
    "start_time": "2022-01-13T08:52:45.722Z"
   },
   {
    "duration": 265,
    "start_time": "2022-01-13T08:53:03.894Z"
   },
   {
    "duration": 273,
    "start_time": "2022-01-13T08:58:19.671Z"
   },
   {
    "duration": 283,
    "start_time": "2022-01-13T09:00:29.508Z"
   },
   {
    "duration": 74,
    "start_time": "2022-01-13T09:01:07.268Z"
   },
   {
    "duration": 12,
    "start_time": "2022-01-13T09:01:09.722Z"
   },
   {
    "duration": 18,
    "start_time": "2022-01-13T09:01:17.686Z"
   },
   {
    "duration": 2,
    "start_time": "2022-01-13T09:01:18.482Z"
   },
   {
    "duration": 12,
    "start_time": "2022-01-13T09:01:19.226Z"
   },
   {
    "duration": 56,
    "start_time": "2022-01-13T09:05:10.749Z"
   },
   {
    "duration": 13,
    "start_time": "2022-01-13T09:05:11.229Z"
   },
   {
    "duration": 31,
    "start_time": "2022-01-13T09:05:29.234Z"
   },
   {
    "duration": 41,
    "start_time": "2022-01-13T09:07:26.647Z"
   },
   {
    "duration": 30,
    "start_time": "2022-01-13T09:08:17.891Z"
   },
   {
    "duration": 34,
    "start_time": "2022-01-13T09:08:25.125Z"
   },
   {
    "duration": 35,
    "start_time": "2022-01-13T09:09:35.072Z"
   },
   {
    "duration": 34,
    "start_time": "2022-01-13T09:10:41.792Z"
   },
   {
    "duration": 11,
    "start_time": "2022-01-13T09:10:49.493Z"
   },
   {
    "duration": 21,
    "start_time": "2022-01-13T09:13:11.772Z"
   },
   {
    "duration": 16,
    "start_time": "2022-01-13T09:13:20.811Z"
   },
   {
    "duration": 40,
    "start_time": "2022-01-13T09:14:37.388Z"
   },
   {
    "duration": 8,
    "start_time": "2022-01-13T09:15:26.252Z"
   },
   {
    "duration": 14,
    "start_time": "2022-01-13T09:15:35.532Z"
   },
   {
    "duration": 28,
    "start_time": "2022-01-13T09:17:58.312Z"
   },
   {
    "duration": 20,
    "start_time": "2022-01-13T09:18:02.685Z"
   },
   {
    "duration": 47,
    "start_time": "2022-01-13T09:18:54.530Z"
   },
   {
    "duration": 41,
    "start_time": "2022-01-13T09:19:07.837Z"
   },
   {
    "duration": 16,
    "start_time": "2022-01-13T09:26:46.126Z"
   },
   {
    "duration": 48,
    "start_time": "2022-01-13T09:28:52.170Z"
   },
   {
    "duration": 42,
    "start_time": "2022-01-13T09:29:13.099Z"
   },
   {
    "duration": 59,
    "start_time": "2022-01-13T09:29:56.740Z"
   },
   {
    "duration": 30,
    "start_time": "2022-01-13T13:31:49.754Z"
   },
   {
    "duration": 17,
    "start_time": "2022-01-13T13:32:35.761Z"
   },
   {
    "duration": 16,
    "start_time": "2022-01-13T13:34:02.948Z"
   },
   {
    "duration": 12,
    "start_time": "2022-01-13T13:36:51.049Z"
   },
   {
    "duration": 22,
    "start_time": "2022-01-13T13:37:09.070Z"
   },
   {
    "duration": 28,
    "start_time": "2022-01-13T13:37:33.166Z"
   },
   {
    "duration": 23,
    "start_time": "2022-01-13T13:38:29.975Z"
   },
   {
    "duration": 25,
    "start_time": "2022-01-13T13:38:39.261Z"
   },
   {
    "duration": 289,
    "start_time": "2022-01-13T13:39:02.152Z"
   },
   {
    "duration": 22,
    "start_time": "2022-01-13T13:39:06.589Z"
   },
   {
    "duration": 30,
    "start_time": "2022-01-13T13:39:16.253Z"
   },
   {
    "duration": 29,
    "start_time": "2022-01-13T13:39:40.035Z"
   },
   {
    "duration": 28,
    "start_time": "2022-01-13T13:40:26.280Z"
   },
   {
    "duration": 29,
    "start_time": "2022-01-13T13:40:44.663Z"
   },
   {
    "duration": 9,
    "start_time": "2022-01-13T13:41:41.746Z"
   },
   {
    "duration": 16,
    "start_time": "2022-01-13T13:41:55.881Z"
   },
   {
    "duration": 349,
    "start_time": "2022-01-13T13:45:05.215Z"
   },
   {
    "duration": 271,
    "start_time": "2022-01-13T13:46:07.824Z"
   },
   {
    "duration": 29,
    "start_time": "2022-01-13T13:46:45.117Z"
   },
   {
    "duration": 22,
    "start_time": "2022-01-13T13:47:46.153Z"
   },
   {
    "duration": 22,
    "start_time": "2022-01-13T13:47:48.896Z"
   },
   {
    "duration": 407,
    "start_time": "2022-01-13T13:47:54.153Z"
   },
   {
    "duration": 31,
    "start_time": "2022-01-13T13:47:54.562Z"
   },
   {
    "duration": 112,
    "start_time": "2022-01-13T13:47:54.596Z"
   },
   {
    "duration": 70,
    "start_time": "2022-01-13T13:47:54.710Z"
   },
   {
    "duration": 84,
    "start_time": "2022-01-13T13:47:54.782Z"
   },
   {
    "duration": 55,
    "start_time": "2022-01-13T13:47:54.868Z"
   },
   {
    "duration": 36,
    "start_time": "2022-01-13T13:47:54.925Z"
   },
   {
    "duration": 45,
    "start_time": "2022-01-13T13:47:54.964Z"
   },
   {
    "duration": 39,
    "start_time": "2022-01-13T13:47:55.011Z"
   },
   {
    "duration": 58,
    "start_time": "2022-01-13T13:47:55.051Z"
   },
   {
    "duration": 26,
    "start_time": "2022-01-13T13:47:55.111Z"
   },
   {
    "duration": 15,
    "start_time": "2022-01-13T13:47:55.139Z"
   },
   {
    "duration": 15,
    "start_time": "2022-01-13T13:47:56.747Z"
   },
   {
    "duration": 20,
    "start_time": "2022-01-13T13:48:38.543Z"
   },
   {
    "duration": 30,
    "start_time": "2022-01-13T13:49:06.145Z"
   },
   {
    "duration": 33,
    "start_time": "2022-01-13T13:52:46.149Z"
   },
   {
    "duration": 267,
    "start_time": "2022-01-13T13:52:49.062Z"
   },
   {
    "duration": 411,
    "start_time": "2022-01-13T13:53:50.286Z"
   },
   {
    "duration": 414,
    "start_time": "2022-01-13T13:53:54.617Z"
   },
   {
    "duration": 34,
    "start_time": "2022-01-13T13:53:55.033Z"
   },
   {
    "duration": 101,
    "start_time": "2022-01-13T13:53:55.069Z"
   },
   {
    "duration": 75,
    "start_time": "2022-01-13T13:53:55.172Z"
   },
   {
    "duration": 88,
    "start_time": "2022-01-13T13:53:55.249Z"
   },
   {
    "duration": 29,
    "start_time": "2022-01-13T13:53:55.339Z"
   },
   {
    "duration": 44,
    "start_time": "2022-01-13T13:53:55.370Z"
   },
   {
    "duration": 28,
    "start_time": "2022-01-13T13:53:55.416Z"
   },
   {
    "duration": 56,
    "start_time": "2022-01-13T13:53:55.446Z"
   },
   {
    "duration": 42,
    "start_time": "2022-01-13T13:53:55.504Z"
   },
   {
    "duration": 27,
    "start_time": "2022-01-13T13:53:55.548Z"
   },
   {
    "duration": 28,
    "start_time": "2022-01-13T13:53:57.427Z"
   },
   {
    "duration": 313,
    "start_time": "2022-01-13T14:00:21.742Z"
   },
   {
    "duration": 1123,
    "start_time": "2022-01-13T14:00:28.106Z"
   },
   {
    "duration": 89,
    "start_time": "2022-01-13T14:00:52.955Z"
   },
   {
    "duration": 283,
    "start_time": "2022-01-13T14:01:02.343Z"
   },
   {
    "duration": 291,
    "start_time": "2022-01-13T14:01:09.058Z"
   },
   {
    "duration": 421,
    "start_time": "2022-01-13T14:01:17.182Z"
   },
   {
    "duration": 36,
    "start_time": "2022-01-13T14:01:17.605Z"
   },
   {
    "duration": 133,
    "start_time": "2022-01-13T14:01:17.643Z"
   },
   {
    "duration": 78,
    "start_time": "2022-01-13T14:01:17.778Z"
   },
   {
    "duration": 84,
    "start_time": "2022-01-13T14:01:17.858Z"
   },
   {
    "duration": 30,
    "start_time": "2022-01-13T14:01:17.943Z"
   },
   {
    "duration": 45,
    "start_time": "2022-01-13T14:01:17.975Z"
   },
   {
    "duration": 29,
    "start_time": "2022-01-13T14:01:18.022Z"
   },
   {
    "duration": 61,
    "start_time": "2022-01-13T14:01:18.053Z"
   },
   {
    "duration": 43,
    "start_time": "2022-01-13T14:01:18.116Z"
   },
   {
    "duration": 52,
    "start_time": "2022-01-13T14:01:18.161Z"
   },
   {
    "duration": 30,
    "start_time": "2022-01-13T14:01:20.198Z"
   },
   {
    "duration": 1044,
    "start_time": "2022-01-13T14:01:26.744Z"
   },
   {
    "duration": 47,
    "start_time": "2022-01-13T14:01:30.428Z"
   },
   {
    "duration": 97,
    "start_time": "2022-01-13T17:01:27.254Z"
   },
   {
    "duration": 308,
    "start_time": "2022-01-13T17:02:01.916Z"
   },
   {
    "duration": 278,
    "start_time": "2022-01-13T17:05:46.692Z"
   },
   {
    "duration": 391,
    "start_time": "2022-01-13T17:05:52.489Z"
   },
   {
    "duration": 34,
    "start_time": "2022-01-13T17:05:52.882Z"
   },
   {
    "duration": 116,
    "start_time": "2022-01-13T17:05:52.919Z"
   },
   {
    "duration": 78,
    "start_time": "2022-01-13T17:05:53.037Z"
   },
   {
    "duration": 82,
    "start_time": "2022-01-13T17:05:53.117Z"
   },
   {
    "duration": 31,
    "start_time": "2022-01-13T17:05:53.201Z"
   },
   {
    "duration": 30,
    "start_time": "2022-01-13T17:05:53.234Z"
   },
   {
    "duration": 52,
    "start_time": "2022-01-13T17:05:53.267Z"
   },
   {
    "duration": 36,
    "start_time": "2022-01-13T17:05:53.320Z"
   },
   {
    "duration": 61,
    "start_time": "2022-01-13T17:05:53.358Z"
   },
   {
    "duration": 25,
    "start_time": "2022-01-13T17:05:53.421Z"
   },
   {
    "duration": 25,
    "start_time": "2022-01-13T17:05:53.448Z"
   },
   {
    "duration": 41,
    "start_time": "2022-01-13T17:05:54.853Z"
   },
   {
    "duration": 3,
    "start_time": "2022-01-13T17:08:08.621Z"
   },
   {
    "duration": 8,
    "start_time": "2022-01-13T17:08:12.908Z"
   },
   {
    "duration": 9,
    "start_time": "2022-01-13T17:08:49.033Z"
   },
   {
    "duration": 16,
    "start_time": "2022-01-13T17:12:21.741Z"
   },
   {
    "duration": 273,
    "start_time": "2022-01-13T17:12:38.750Z"
   },
   {
    "duration": 7,
    "start_time": "2022-01-13T17:13:45.736Z"
   },
   {
    "duration": 15,
    "start_time": "2022-01-13T17:13:51.810Z"
   },
   {
    "duration": 251,
    "start_time": "2022-01-13T17:16:01.381Z"
   },
   {
    "duration": 148,
    "start_time": "2022-01-13T17:17:02.032Z"
   },
   {
    "duration": 277,
    "start_time": "2022-01-13T17:17:08.723Z"
   },
   {
    "duration": 290,
    "start_time": "2022-01-13T17:17:54.907Z"
   },
   {
    "duration": 287,
    "start_time": "2022-01-13T17:18:39.702Z"
   },
   {
    "duration": 40,
    "start_time": "2022-01-13T17:18:55.768Z"
   },
   {
    "duration": 393,
    "start_time": "2022-01-13T17:19:08.542Z"
   },
   {
    "duration": 34,
    "start_time": "2022-01-13T17:19:08.937Z"
   },
   {
    "duration": 105,
    "start_time": "2022-01-13T17:19:08.973Z"
   },
   {
    "duration": 78,
    "start_time": "2022-01-13T17:19:09.080Z"
   },
   {
    "duration": 77,
    "start_time": "2022-01-13T17:19:09.160Z"
   },
   {
    "duration": 28,
    "start_time": "2022-01-13T17:19:09.238Z"
   },
   {
    "duration": 45,
    "start_time": "2022-01-13T17:19:09.267Z"
   },
   {
    "duration": 24,
    "start_time": "2022-01-13T17:19:09.314Z"
   },
   {
    "duration": 35,
    "start_time": "2022-01-13T17:19:09.340Z"
   },
   {
    "duration": 57,
    "start_time": "2022-01-13T17:19:09.376Z"
   },
   {
    "duration": 26,
    "start_time": "2022-01-13T17:19:09.434Z"
   },
   {
    "duration": 38,
    "start_time": "2022-01-13T17:19:09.461Z"
   },
   {
    "duration": 16,
    "start_time": "2022-01-13T17:19:10.883Z"
   },
   {
    "duration": 19,
    "start_time": "2022-01-13T17:19:11.498Z"
   },
   {
    "duration": 13,
    "start_time": "2022-01-13T17:19:38.297Z"
   },
   {
    "duration": 22,
    "start_time": "2022-01-13T17:25:54.991Z"
   },
   {
    "duration": 24,
    "start_time": "2022-01-13T17:26:00.396Z"
   },
   {
    "duration": 280,
    "start_time": "2022-01-13T17:26:01.479Z"
   },
   {
    "duration": 409,
    "start_time": "2022-01-13T17:26:18.723Z"
   },
   {
    "duration": 40,
    "start_time": "2022-01-13T17:26:19.133Z"
   },
   {
    "duration": 125,
    "start_time": "2022-01-13T17:26:19.176Z"
   },
   {
    "duration": 67,
    "start_time": "2022-01-13T17:26:19.303Z"
   },
   {
    "duration": 90,
    "start_time": "2022-01-13T17:26:19.372Z"
   },
   {
    "duration": 43,
    "start_time": "2022-01-13T17:26:19.464Z"
   },
   {
    "duration": 33,
    "start_time": "2022-01-13T17:26:19.509Z"
   },
   {
    "duration": 33,
    "start_time": "2022-01-13T17:26:19.544Z"
   },
   {
    "duration": 50,
    "start_time": "2022-01-13T17:26:19.600Z"
   },
   {
    "duration": 62,
    "start_time": "2022-01-13T17:26:19.652Z"
   },
   {
    "duration": 31,
    "start_time": "2022-01-13T17:26:19.715Z"
   },
   {
    "duration": 20,
    "start_time": "2022-01-13T17:26:19.748Z"
   },
   {
    "duration": 20,
    "start_time": "2022-01-13T17:26:22.203Z"
   },
   {
    "duration": 21,
    "start_time": "2022-01-13T17:26:22.681Z"
   },
   {
    "duration": 1133,
    "start_time": "2022-01-13T17:29:17.758Z"
   },
   {
    "duration": 34,
    "start_time": "2022-01-13T17:29:28.929Z"
   },
   {
    "duration": 1114,
    "start_time": "2022-01-13T17:30:07.513Z"
   },
   {
    "duration": 380,
    "start_time": "2022-01-13T17:30:39.791Z"
   },
   {
    "duration": 32,
    "start_time": "2022-01-13T17:30:40.173Z"
   },
   {
    "duration": 127,
    "start_time": "2022-01-13T17:30:40.207Z"
   },
   {
    "duration": 75,
    "start_time": "2022-01-13T17:30:40.336Z"
   },
   {
    "duration": 69,
    "start_time": "2022-01-13T17:30:40.412Z"
   },
   {
    "duration": 40,
    "start_time": "2022-01-13T17:30:40.483Z"
   },
   {
    "duration": 28,
    "start_time": "2022-01-13T17:30:40.524Z"
   },
   {
    "duration": 45,
    "start_time": "2022-01-13T17:30:40.554Z"
   },
   {
    "duration": 1281,
    "start_time": "2022-01-13T17:30:42.513Z"
   },
   {
    "duration": 40,
    "start_time": "2022-01-13T17:31:12.373Z"
   },
   {
    "duration": 52,
    "start_time": "2022-01-13T17:31:24.220Z"
   },
   {
    "duration": 26,
    "start_time": "2022-01-13T17:31:27.439Z"
   },
   {
    "duration": 26,
    "start_time": "2022-01-13T17:31:56.483Z"
   },
   {
    "duration": 27,
    "start_time": "2022-01-13T17:32:03.530Z"
   },
   {
    "duration": 40,
    "start_time": "2022-01-13T17:32:07.300Z"
   },
   {
    "duration": 26,
    "start_time": "2022-01-13T17:32:16.632Z"
   },
   {
    "duration": 38,
    "start_time": "2022-01-13T17:32:18.988Z"
   },
   {
    "duration": 36,
    "start_time": "2022-01-13T17:32:22.577Z"
   },
   {
    "duration": 26,
    "start_time": "2022-01-13T17:32:38.855Z"
   },
   {
    "duration": 36,
    "start_time": "2022-01-13T17:33:48.629Z"
   },
   {
    "duration": 38,
    "start_time": "2022-01-13T17:34:07.545Z"
   },
   {
    "duration": 32,
    "start_time": "2022-01-13T17:35:15.427Z"
   },
   {
    "duration": 19,
    "start_time": "2022-01-13T17:36:36.017Z"
   },
   {
    "duration": 272,
    "start_time": "2022-01-13T17:47:49.497Z"
   },
   {
    "duration": 279,
    "start_time": "2022-01-13T17:47:59.294Z"
   },
   {
    "duration": 388,
    "start_time": "2022-01-13T17:48:10.446Z"
   },
   {
    "duration": 32,
    "start_time": "2022-01-13T17:48:10.836Z"
   },
   {
    "duration": 102,
    "start_time": "2022-01-13T17:48:10.870Z"
   },
   {
    "duration": 78,
    "start_time": "2022-01-13T17:48:10.974Z"
   },
   {
    "duration": 92,
    "start_time": "2022-01-13T17:48:11.054Z"
   },
   {
    "duration": 30,
    "start_time": "2022-01-13T17:48:11.147Z"
   },
   {
    "duration": 55,
    "start_time": "2022-01-13T17:48:11.178Z"
   },
   {
    "duration": 25,
    "start_time": "2022-01-13T17:48:11.235Z"
   },
   {
    "duration": 62,
    "start_time": "2022-01-13T17:48:11.261Z"
   },
   {
    "duration": 37,
    "start_time": "2022-01-13T17:48:11.325Z"
   },
   {
    "duration": 44,
    "start_time": "2022-01-13T17:48:11.364Z"
   },
   {
    "duration": 20,
    "start_time": "2022-01-13T17:48:11.411Z"
   },
   {
    "duration": 8,
    "start_time": "2022-01-13T17:48:11.433Z"
   },
   {
    "duration": 20,
    "start_time": "2022-01-13T17:48:13.352Z"
   },
   {
    "duration": 278,
    "start_time": "2022-01-13T17:48:57.753Z"
   },
   {
    "duration": 338,
    "start_time": "2022-01-13T17:49:55.434Z"
   },
   {
    "duration": 288,
    "start_time": "2022-01-13T17:50:24.249Z"
   },
   {
    "duration": 259,
    "start_time": "2022-01-13T17:50:31.610Z"
   },
   {
    "duration": 437,
    "start_time": "2022-01-13T17:50:38.085Z"
   },
   {
    "duration": 32,
    "start_time": "2022-01-13T17:50:38.524Z"
   },
   {
    "duration": 116,
    "start_time": "2022-01-13T17:50:38.558Z"
   },
   {
    "duration": 81,
    "start_time": "2022-01-13T17:50:38.676Z"
   },
   {
    "duration": 88,
    "start_time": "2022-01-13T17:50:38.758Z"
   },
   {
    "duration": 27,
    "start_time": "2022-01-13T17:50:38.848Z"
   },
   {
    "duration": 47,
    "start_time": "2022-01-13T17:50:38.877Z"
   },
   {
    "duration": 26,
    "start_time": "2022-01-13T17:50:38.927Z"
   },
   {
    "duration": 50,
    "start_time": "2022-01-13T17:50:38.954Z"
   },
   {
    "duration": 40,
    "start_time": "2022-01-13T17:50:39.007Z"
   },
   {
    "duration": 26,
    "start_time": "2022-01-13T17:50:39.048Z"
   },
   {
    "duration": 51,
    "start_time": "2022-01-13T17:50:39.076Z"
   },
   {
    "duration": 8,
    "start_time": "2022-01-13T17:50:39.129Z"
   },
   {
    "duration": 274,
    "start_time": "2022-01-13T17:50:41.486Z"
   },
   {
    "duration": 25,
    "start_time": "2022-01-13T17:50:45.620Z"
   },
   {
    "duration": 287,
    "start_time": "2022-01-13T17:51:05.666Z"
   },
   {
    "duration": 418,
    "start_time": "2022-01-13T17:51:10.945Z"
   },
   {
    "duration": 34,
    "start_time": "2022-01-13T17:51:11.365Z"
   },
   {
    "duration": 105,
    "start_time": "2022-01-13T17:51:11.401Z"
   },
   {
    "duration": 66,
    "start_time": "2022-01-13T17:51:11.509Z"
   },
   {
    "duration": 84,
    "start_time": "2022-01-13T17:51:11.577Z"
   },
   {
    "duration": 45,
    "start_time": "2022-01-13T17:51:11.663Z"
   },
   {
    "duration": 33,
    "start_time": "2022-01-13T17:51:11.710Z"
   },
   {
    "duration": 25,
    "start_time": "2022-01-13T17:51:11.744Z"
   },
   {
    "duration": 71,
    "start_time": "2022-01-13T17:51:11.771Z"
   },
   {
    "duration": 39,
    "start_time": "2022-01-13T17:51:11.844Z"
   },
   {
    "duration": 37,
    "start_time": "2022-01-13T17:51:11.899Z"
   },
   {
    "duration": 17,
    "start_time": "2022-01-13T17:51:11.937Z"
   },
   {
    "duration": 7,
    "start_time": "2022-01-13T17:51:11.956Z"
   },
   {
    "duration": 60,
    "start_time": "2022-01-13T17:51:11.965Z"
   },
   {
    "duration": 28,
    "start_time": "2022-01-13T17:51:12.027Z"
   },
   {
    "duration": 28,
    "start_time": "2022-01-13T17:54:24.740Z"
   },
   {
    "duration": 27,
    "start_time": "2022-01-13T17:54:41.240Z"
   },
   {
    "duration": 35,
    "start_time": "2022-01-13T17:54:58.354Z"
   },
   {
    "duration": 37,
    "start_time": "2022-01-13T17:55:07.353Z"
   },
   {
    "duration": 32,
    "start_time": "2022-01-13T17:55:46.700Z"
   },
   {
    "duration": 40,
    "start_time": "2022-01-13T17:56:02.147Z"
   },
   {
    "duration": 27,
    "start_time": "2022-01-13T17:56:03.543Z"
   },
   {
    "duration": 278,
    "start_time": "2022-01-13T17:57:34.986Z"
   },
   {
    "duration": 376,
    "start_time": "2022-01-13T17:57:41.330Z"
   },
   {
    "duration": 27,
    "start_time": "2022-01-13T17:57:41.707Z"
   },
   {
    "duration": 109,
    "start_time": "2022-01-13T17:57:41.736Z"
   },
   {
    "duration": 78,
    "start_time": "2022-01-13T17:57:41.848Z"
   },
   {
    "duration": 73,
    "start_time": "2022-01-13T17:57:41.928Z"
   },
   {
    "duration": 28,
    "start_time": "2022-01-13T17:57:42.003Z"
   },
   {
    "duration": 29,
    "start_time": "2022-01-13T17:57:42.033Z"
   },
   {
    "duration": 51,
    "start_time": "2022-01-13T17:57:42.064Z"
   },
   {
    "duration": 35,
    "start_time": "2022-01-13T17:57:42.118Z"
   },
   {
    "duration": 61,
    "start_time": "2022-01-13T17:57:42.155Z"
   },
   {
    "duration": 269,
    "start_time": "2022-01-13T17:57:42.218Z"
   },
   {
    "duration": -618,
    "start_time": "2022-01-13T17:57:43.106Z"
   },
   {
    "duration": -619,
    "start_time": "2022-01-13T17:57:43.108Z"
   },
   {
    "duration": -621,
    "start_time": "2022-01-13T17:57:43.111Z"
   },
   {
    "duration": -621,
    "start_time": "2022-01-13T17:57:43.112Z"
   },
   {
    "duration": 12,
    "start_time": "2022-01-13T17:58:08.460Z"
   },
   {
    "duration": 12,
    "start_time": "2022-01-13T17:58:19.677Z"
   },
   {
    "duration": 20,
    "start_time": "2022-01-13T17:58:52.526Z"
   },
   {
    "duration": 287,
    "start_time": "2022-01-13T17:59:12.467Z"
   },
   {
    "duration": 28,
    "start_time": "2022-01-13T18:00:01.056Z"
   },
   {
    "duration": 33,
    "start_time": "2022-01-13T18:00:12.393Z"
   },
   {
    "duration": 19,
    "start_time": "2022-01-13T18:00:25.929Z"
   },
   {
    "duration": 8,
    "start_time": "2022-01-13T18:00:36.987Z"
   },
   {
    "duration": 21,
    "start_time": "2022-01-13T18:01:09.000Z"
   },
   {
    "duration": 6747,
    "start_time": "2022-01-13T18:12:20.613Z"
   },
   {
    "duration": 379,
    "start_time": "2022-01-13T18:12:39.742Z"
   },
   {
    "duration": 31,
    "start_time": "2022-01-13T18:12:40.123Z"
   },
   {
    "duration": 95,
    "start_time": "2022-01-13T18:12:40.156Z"
   },
   {
    "duration": 69,
    "start_time": "2022-01-13T18:12:40.252Z"
   },
   {
    "duration": 76,
    "start_time": "2022-01-13T18:12:40.323Z"
   },
   {
    "duration": 27,
    "start_time": "2022-01-13T18:12:40.401Z"
   },
   {
    "duration": 28,
    "start_time": "2022-01-13T18:12:40.429Z"
   },
   {
    "duration": 41,
    "start_time": "2022-01-13T18:12:40.460Z"
   },
   {
    "duration": 34,
    "start_time": "2022-01-13T18:12:40.503Z"
   },
   {
    "duration": 59,
    "start_time": "2022-01-13T18:12:40.539Z"
   },
   {
    "duration": 12,
    "start_time": "2022-01-13T18:12:40.600Z"
   },
   {
    "duration": 12,
    "start_time": "2022-01-13T18:12:40.614Z"
   },
   {
    "duration": 33,
    "start_time": "2022-01-13T18:12:40.628Z"
   },
   {
    "duration": 48,
    "start_time": "2022-01-13T18:12:40.662Z"
   },
   {
    "duration": 8,
    "start_time": "2022-01-13T18:12:40.712Z"
   },
   {
    "duration": 28,
    "start_time": "2022-01-13T18:12:40.721Z"
   },
   {
    "duration": 264,
    "start_time": "2022-01-13T18:12:40.750Z"
   },
   {
    "duration": 260,
    "start_time": "2022-01-13T18:15:17.641Z"
   },
   {
    "duration": 186,
    "start_time": "2022-01-13T18:15:24.310Z"
   },
   {
    "duration": 199,
    "start_time": "2022-01-13T18:15:39.142Z"
   },
   {
    "duration": 206,
    "start_time": "2022-01-13T18:17:00.822Z"
   },
   {
    "duration": 184,
    "start_time": "2022-01-13T18:17:49.685Z"
   },
   {
    "duration": 185,
    "start_time": "2022-01-13T18:17:54.581Z"
   },
   {
    "duration": 191,
    "start_time": "2022-01-13T18:18:02.752Z"
   },
   {
    "duration": 65,
    "start_time": "2022-01-13T18:25:24.934Z"
   },
   {
    "duration": 20,
    "start_time": "2022-01-13T18:25:29.878Z"
   },
   {
    "duration": 66,
    "start_time": "2022-01-13T18:28:00.865Z"
   },
   {
    "duration": 19,
    "start_time": "2022-01-13T18:28:01.357Z"
   },
   {
    "duration": 935,
    "start_time": "2022-01-14T15:05:18.156Z"
   },
   {
    "duration": 30,
    "start_time": "2022-01-14T15:05:19.092Z"
   },
   {
    "duration": 104,
    "start_time": "2022-01-14T15:05:19.124Z"
   },
   {
    "duration": 66,
    "start_time": "2022-01-14T15:05:19.230Z"
   },
   {
    "duration": 75,
    "start_time": "2022-01-14T15:05:19.297Z"
   },
   {
    "duration": 30,
    "start_time": "2022-01-14T15:05:19.373Z"
   },
   {
    "duration": 49,
    "start_time": "2022-01-14T15:05:19.404Z"
   },
   {
    "duration": 32,
    "start_time": "2022-01-14T15:05:19.455Z"
   },
   {
    "duration": 53,
    "start_time": "2022-01-14T15:05:19.488Z"
   },
   {
    "duration": 44,
    "start_time": "2022-01-14T15:05:19.542Z"
   },
   {
    "duration": 12,
    "start_time": "2022-01-14T15:05:19.588Z"
   },
   {
    "duration": 11,
    "start_time": "2022-01-14T15:05:19.602Z"
   },
   {
    "duration": 48,
    "start_time": "2022-01-14T15:05:19.615Z"
   },
   {
    "duration": 18,
    "start_time": "2022-01-14T15:05:19.665Z"
   },
   {
    "duration": 7,
    "start_time": "2022-01-14T15:05:19.685Z"
   },
   {
    "duration": 48,
    "start_time": "2022-01-14T15:05:19.694Z"
   },
   {
    "duration": 181,
    "start_time": "2022-01-14T15:05:19.744Z"
   },
   {
    "duration": 64,
    "start_time": "2022-01-14T15:05:19.927Z"
   },
   {
    "duration": 17,
    "start_time": "2022-01-14T15:05:19.992Z"
   },
   {
    "duration": 6,
    "start_time": "2022-01-14T15:06:20.416Z"
   },
   {
    "duration": 6,
    "start_time": "2022-01-14T15:07:53.982Z"
   },
   {
    "duration": 4,
    "start_time": "2022-01-14T15:08:24.472Z"
   },
   {
    "duration": 4,
    "start_time": "2022-01-14T15:08:30.915Z"
   },
   {
    "duration": 387,
    "start_time": "2022-01-14T15:08:42.217Z"
   },
   {
    "duration": 40,
    "start_time": "2022-01-14T15:08:42.605Z"
   },
   {
    "duration": 100,
    "start_time": "2022-01-14T15:08:42.648Z"
   },
   {
    "duration": 63,
    "start_time": "2022-01-14T15:08:42.750Z"
   },
   {
    "duration": 79,
    "start_time": "2022-01-14T15:08:42.815Z"
   },
   {
    "duration": 26,
    "start_time": "2022-01-14T15:08:42.896Z"
   },
   {
    "duration": 45,
    "start_time": "2022-01-14T15:08:42.924Z"
   },
   {
    "duration": 25,
    "start_time": "2022-01-14T15:08:42.971Z"
   },
   {
    "duration": 65,
    "start_time": "2022-01-14T15:08:42.999Z"
   },
   {
    "duration": 37,
    "start_time": "2022-01-14T15:08:43.066Z"
   },
   {
    "duration": 10,
    "start_time": "2022-01-14T15:08:43.105Z"
   },
   {
    "duration": 30,
    "start_time": "2022-01-14T15:08:43.116Z"
   },
   {
    "duration": 49,
    "start_time": "2022-01-14T15:08:43.147Z"
   },
   {
    "duration": 16,
    "start_time": "2022-01-14T15:08:43.197Z"
   },
   {
    "duration": 7,
    "start_time": "2022-01-14T15:08:43.214Z"
   },
   {
    "duration": 36,
    "start_time": "2022-01-14T15:08:43.223Z"
   },
   {
    "duration": 198,
    "start_time": "2022-01-14T15:08:43.261Z"
   },
   {
    "duration": 57,
    "start_time": "2022-01-14T15:08:43.461Z"
   },
   {
    "duration": 38,
    "start_time": "2022-01-14T15:08:43.519Z"
   },
   {
    "duration": 2,
    "start_time": "2022-01-14T15:08:43.559Z"
   },
   {
    "duration": 7,
    "start_time": "2022-01-14T15:08:43.563Z"
   },
   {
    "duration": 4,
    "start_time": "2022-01-14T15:08:53.673Z"
   },
   {
    "duration": 2,
    "start_time": "2022-01-14T15:08:56.568Z"
   },
   {
    "duration": 4,
    "start_time": "2022-01-14T15:08:57.084Z"
   },
   {
    "duration": 398,
    "start_time": "2022-01-14T15:09:00.009Z"
   },
   {
    "duration": 31,
    "start_time": "2022-01-14T15:09:00.409Z"
   },
   {
    "duration": 117,
    "start_time": "2022-01-14T15:09:00.442Z"
   },
   {
    "duration": 62,
    "start_time": "2022-01-14T15:09:00.560Z"
   },
   {
    "duration": 86,
    "start_time": "2022-01-14T15:09:00.624Z"
   },
   {
    "duration": 33,
    "start_time": "2022-01-14T15:09:00.711Z"
   },
   {
    "duration": 32,
    "start_time": "2022-01-14T15:09:00.746Z"
   },
   {
    "duration": 24,
    "start_time": "2022-01-14T15:09:00.780Z"
   },
   {
    "duration": 64,
    "start_time": "2022-01-14T15:09:00.806Z"
   },
   {
    "duration": 37,
    "start_time": "2022-01-14T15:09:00.871Z"
   },
   {
    "duration": 10,
    "start_time": "2022-01-14T15:09:00.909Z"
   },
   {
    "duration": 33,
    "start_time": "2022-01-14T15:09:00.921Z"
   },
   {
    "duration": 34,
    "start_time": "2022-01-14T15:09:00.956Z"
   },
   {
    "duration": 17,
    "start_time": "2022-01-14T15:09:00.991Z"
   },
   {
    "duration": 9,
    "start_time": "2022-01-14T15:09:01.010Z"
   },
   {
    "duration": 48,
    "start_time": "2022-01-14T15:09:01.021Z"
   },
   {
    "duration": 210,
    "start_time": "2022-01-14T15:09:01.071Z"
   },
   {
    "duration": 53,
    "start_time": "2022-01-14T15:09:01.283Z"
   },
   {
    "duration": 29,
    "start_time": "2022-01-14T15:09:01.338Z"
   },
   {
    "duration": 2,
    "start_time": "2022-01-14T15:09:01.369Z"
   },
   {
    "duration": 21,
    "start_time": "2022-01-14T15:09:01.373Z"
   },
   {
    "duration": 320,
    "start_time": "2022-01-14T15:21:05.915Z"
   },
   {
    "duration": 3231,
    "start_time": "2022-01-14T15:21:39.433Z"
   },
   {
    "duration": -15,
    "start_time": "2022-01-14T15:21:42.681Z"
   },
   {
    "duration": 3088,
    "start_time": "2022-01-14T15:21:55.385Z"
   },
   {
    "duration": -14,
    "start_time": "2022-01-14T15:21:58.490Z"
   },
   {
    "duration": 3,
    "start_time": "2022-01-14T15:22:03.355Z"
   },
   {
    "duration": 4,
    "start_time": "2022-01-14T15:22:03.604Z"
   },
   {
    "duration": 3058,
    "start_time": "2022-01-14T15:22:08.901Z"
   },
   {
    "duration": 3484,
    "start_time": "2022-01-14T15:23:27.852Z"
   },
   {
    "duration": 238,
    "start_time": "2022-01-14T15:23:42.497Z"
   },
   {
    "duration": 369,
    "start_time": "2022-01-14T15:23:49.479Z"
   },
   {
    "duration": 29,
    "start_time": "2022-01-14T15:23:49.850Z"
   },
   {
    "duration": 104,
    "start_time": "2022-01-14T15:23:49.881Z"
   },
   {
    "duration": 71,
    "start_time": "2022-01-14T15:23:49.987Z"
   },
   {
    "duration": 61,
    "start_time": "2022-01-14T15:23:50.059Z"
   },
   {
    "duration": 34,
    "start_time": "2022-01-14T15:23:50.122Z"
   },
   {
    "duration": 27,
    "start_time": "2022-01-14T15:23:50.157Z"
   },
   {
    "duration": 25,
    "start_time": "2022-01-14T15:23:50.186Z"
   },
   {
    "duration": 57,
    "start_time": "2022-01-14T15:23:50.213Z"
   },
   {
    "duration": 37,
    "start_time": "2022-01-14T15:23:50.272Z"
   },
   {
    "duration": 18,
    "start_time": "2022-01-14T15:23:50.310Z"
   },
   {
    "duration": 44,
    "start_time": "2022-01-14T15:23:50.330Z"
   },
   {
    "duration": 48,
    "start_time": "2022-01-14T15:23:50.376Z"
   },
   {
    "duration": 27,
    "start_time": "2022-01-14T15:23:50.425Z"
   },
   {
    "duration": 34,
    "start_time": "2022-01-14T15:23:50.453Z"
   },
   {
    "duration": 61,
    "start_time": "2022-01-14T15:23:50.488Z"
   },
   {
    "duration": 197,
    "start_time": "2022-01-14T15:23:50.550Z"
   },
   {
    "duration": 53,
    "start_time": "2022-01-14T15:23:50.748Z"
   },
   {
    "duration": 7,
    "start_time": "2022-01-14T15:23:50.802Z"
   },
   {
    "duration": 36,
    "start_time": "2022-01-14T15:23:50.810Z"
   },
   {
    "duration": 30,
    "start_time": "2022-01-14T15:23:50.848Z"
   },
   {
    "duration": 37,
    "start_time": "2022-01-14T15:23:50.880Z"
   },
   {
    "duration": 38,
    "start_time": "2022-01-14T15:23:50.920Z"
   },
   {
    "duration": 18,
    "start_time": "2022-01-14T15:24:02.974Z"
   },
   {
    "duration": 2,
    "start_time": "2022-01-14T15:24:22.046Z"
   },
   {
    "duration": 7,
    "start_time": "2022-01-14T15:24:22.328Z"
   },
   {
    "duration": 8,
    "start_time": "2022-01-14T15:24:22.634Z"
   },
   {
    "duration": 3,
    "start_time": "2022-01-14T15:24:25.276Z"
   },
   {
    "duration": 21,
    "start_time": "2022-01-14T15:24:26.104Z"
   },
   {
    "duration": 376,
    "start_time": "2022-01-14T15:24:31.796Z"
   },
   {
    "duration": 30,
    "start_time": "2022-01-14T15:24:32.174Z"
   },
   {
    "duration": 93,
    "start_time": "2022-01-14T15:24:32.206Z"
   },
   {
    "duration": 59,
    "start_time": "2022-01-14T15:24:32.301Z"
   },
   {
    "duration": 61,
    "start_time": "2022-01-14T15:24:32.362Z"
   },
   {
    "duration": 38,
    "start_time": "2022-01-14T15:24:32.425Z"
   },
   {
    "duration": 27,
    "start_time": "2022-01-14T15:24:32.464Z"
   },
   {
    "duration": 24,
    "start_time": "2022-01-14T15:24:32.494Z"
   },
   {
    "duration": 53,
    "start_time": "2022-01-14T15:24:32.520Z"
   },
   {
    "duration": 39,
    "start_time": "2022-01-14T15:24:32.574Z"
   },
   {
    "duration": 31,
    "start_time": "2022-01-14T15:24:32.614Z"
   },
   {
    "duration": 12,
    "start_time": "2022-01-14T15:24:32.646Z"
   },
   {
    "duration": 28,
    "start_time": "2022-01-14T15:24:32.659Z"
   },
   {
    "duration": 16,
    "start_time": "2022-01-14T15:24:32.689Z"
   },
   {
    "duration": 7,
    "start_time": "2022-01-14T15:24:32.706Z"
   },
   {
    "duration": 41,
    "start_time": "2022-01-14T15:24:32.714Z"
   },
   {
    "duration": 188,
    "start_time": "2022-01-14T15:24:32.757Z"
   },
   {
    "duration": 54,
    "start_time": "2022-01-14T15:24:32.947Z"
   },
   {
    "duration": 7,
    "start_time": "2022-01-14T15:24:33.003Z"
   },
   {
    "duration": 2,
    "start_time": "2022-01-14T15:24:33.011Z"
   },
   {
    "duration": 26,
    "start_time": "2022-01-14T15:24:33.015Z"
   },
   {
    "duration": 6,
    "start_time": "2022-01-14T15:24:33.043Z"
   },
   {
    "duration": 1056,
    "start_time": "2022-01-14T15:24:33.051Z"
   },
   {
    "duration": -31,
    "start_time": "2022-01-14T15:24:34.140Z"
   },
   {
    "duration": 367,
    "start_time": "2022-01-14T15:24:49.926Z"
   },
   {
    "duration": 31,
    "start_time": "2022-01-14T15:24:50.295Z"
   },
   {
    "duration": 95,
    "start_time": "2022-01-14T15:24:50.327Z"
   },
   {
    "duration": 68,
    "start_time": "2022-01-14T15:24:50.424Z"
   },
   {
    "duration": 76,
    "start_time": "2022-01-14T15:24:50.494Z"
   },
   {
    "duration": 25,
    "start_time": "2022-01-14T15:24:50.571Z"
   },
   {
    "duration": 27,
    "start_time": "2022-01-14T15:24:50.598Z"
   },
   {
    "duration": 37,
    "start_time": "2022-01-14T15:24:50.627Z"
   },
   {
    "duration": 33,
    "start_time": "2022-01-14T15:24:50.666Z"
   },
   {
    "duration": 58,
    "start_time": "2022-01-14T15:24:50.701Z"
   },
   {
    "duration": 11,
    "start_time": "2022-01-14T15:24:50.760Z"
   },
   {
    "duration": 22,
    "start_time": "2022-01-14T15:24:50.773Z"
   },
   {
    "duration": 29,
    "start_time": "2022-01-14T15:24:50.797Z"
   },
   {
    "duration": 28,
    "start_time": "2022-01-14T15:24:50.828Z"
   },
   {
    "duration": 13,
    "start_time": "2022-01-14T15:24:50.857Z"
   },
   {
    "duration": 40,
    "start_time": "2022-01-14T15:24:50.871Z"
   },
   {
    "duration": 170,
    "start_time": "2022-01-14T15:24:50.912Z"
   },
   {
    "duration": 52,
    "start_time": "2022-01-14T15:24:51.084Z"
   },
   {
    "duration": 8,
    "start_time": "2022-01-14T15:24:51.138Z"
   },
   {
    "duration": 4,
    "start_time": "2022-01-14T15:24:51.147Z"
   },
   {
    "duration": 6,
    "start_time": "2022-01-14T15:24:51.153Z"
   },
   {
    "duration": 8,
    "start_time": "2022-01-14T15:24:51.160Z"
   },
   {
    "duration": 3,
    "start_time": "2022-01-14T15:24:51.170Z"
   },
   {
    "duration": 22,
    "start_time": "2022-01-14T15:24:51.174Z"
   },
   {
    "duration": 6,
    "start_time": "2022-01-14T15:25:04.355Z"
   },
   {
    "duration": 6,
    "start_time": "2022-01-14T15:25:38.212Z"
   },
   {
    "duration": 8,
    "start_time": "2022-01-14T15:26:07.822Z"
   },
   {
    "duration": 371,
    "start_time": "2022-01-14T15:26:17.742Z"
   },
   {
    "duration": 28,
    "start_time": "2022-01-14T15:26:18.114Z"
   },
   {
    "duration": 90,
    "start_time": "2022-01-14T15:26:18.144Z"
   },
   {
    "duration": 61,
    "start_time": "2022-01-14T15:26:18.236Z"
   },
   {
    "duration": 74,
    "start_time": "2022-01-14T15:26:18.299Z"
   },
   {
    "duration": 26,
    "start_time": "2022-01-14T15:26:18.375Z"
   },
   {
    "duration": 42,
    "start_time": "2022-01-14T15:26:18.402Z"
   },
   {
    "duration": 24,
    "start_time": "2022-01-14T15:26:18.446Z"
   },
   {
    "duration": 35,
    "start_time": "2022-01-14T15:26:18.473Z"
   },
   {
    "duration": 56,
    "start_time": "2022-01-14T15:26:18.510Z"
   },
   {
    "duration": 10,
    "start_time": "2022-01-14T15:26:18.568Z"
   },
   {
    "duration": 16,
    "start_time": "2022-01-14T15:26:18.580Z"
   },
   {
    "duration": 28,
    "start_time": "2022-01-14T15:26:18.597Z"
   },
   {
    "duration": 17,
    "start_time": "2022-01-14T15:26:18.641Z"
   },
   {
    "duration": 7,
    "start_time": "2022-01-14T15:26:18.659Z"
   },
   {
    "duration": 21,
    "start_time": "2022-01-14T15:26:18.667Z"
   },
   {
    "duration": 190,
    "start_time": "2022-01-14T15:26:18.689Z"
   },
   {
    "duration": 62,
    "start_time": "2022-01-14T15:26:18.880Z"
   },
   {
    "duration": 8,
    "start_time": "2022-01-14T15:26:18.943Z"
   },
   {
    "duration": 4,
    "start_time": "2022-01-14T15:26:18.952Z"
   },
   {
    "duration": 17,
    "start_time": "2022-01-14T15:26:18.957Z"
   },
   {
    "duration": 243,
    "start_time": "2022-01-14T15:26:18.975Z"
   },
   {
    "duration": -22,
    "start_time": "2022-01-14T15:26:19.242Z"
   },
   {
    "duration": -22,
    "start_time": "2022-01-14T15:26:19.243Z"
   },
   {
    "duration": 7,
    "start_time": "2022-01-14T15:26:34.968Z"
   },
   {
    "duration": 403,
    "start_time": "2022-01-14T15:27:22.491Z"
   },
   {
    "duration": 43,
    "start_time": "2022-01-14T15:27:22.896Z"
   },
   {
    "duration": 115,
    "start_time": "2022-01-14T15:27:22.941Z"
   },
   {
    "duration": 65,
    "start_time": "2022-01-14T15:27:23.058Z"
   },
   {
    "duration": 81,
    "start_time": "2022-01-14T15:27:23.125Z"
   },
   {
    "duration": 44,
    "start_time": "2022-01-14T15:27:23.208Z"
   },
   {
    "duration": 31,
    "start_time": "2022-01-14T15:27:23.254Z"
   },
   {
    "duration": 27,
    "start_time": "2022-01-14T15:27:23.288Z"
   },
   {
    "duration": 56,
    "start_time": "2022-01-14T15:27:23.317Z"
   },
   {
    "duration": 38,
    "start_time": "2022-01-14T15:27:23.375Z"
   },
   {
    "duration": 35,
    "start_time": "2022-01-14T15:27:23.415Z"
   },
   {
    "duration": 15,
    "start_time": "2022-01-14T15:27:23.451Z"
   },
   {
    "duration": 37,
    "start_time": "2022-01-14T15:27:23.468Z"
   },
   {
    "duration": 36,
    "start_time": "2022-01-14T15:27:23.506Z"
   },
   {
    "duration": 8,
    "start_time": "2022-01-14T15:27:23.544Z"
   },
   {
    "duration": 28,
    "start_time": "2022-01-14T15:27:23.553Z"
   },
   {
    "duration": 204,
    "start_time": "2022-01-14T15:27:23.583Z"
   },
   {
    "duration": 66,
    "start_time": "2022-01-14T15:27:23.789Z"
   },
   {
    "duration": 7,
    "start_time": "2022-01-14T15:27:23.857Z"
   },
   {
    "duration": 5,
    "start_time": "2022-01-14T15:27:23.866Z"
   },
   {
    "duration": 11,
    "start_time": "2022-01-14T15:27:23.873Z"
   },
   {
    "duration": 8,
    "start_time": "2022-01-14T15:27:23.885Z"
   },
   {
    "duration": 9,
    "start_time": "2022-01-14T15:27:23.896Z"
   },
   {
    "duration": 14,
    "start_time": "2022-01-14T15:27:23.907Z"
   },
   {
    "duration": 387,
    "start_time": "2022-01-14T15:30:03.161Z"
   },
   {
    "duration": 33,
    "start_time": "2022-01-14T15:30:03.550Z"
   },
   {
    "duration": 129,
    "start_time": "2022-01-14T15:30:03.586Z"
   },
   {
    "duration": 74,
    "start_time": "2022-01-14T15:30:03.717Z"
   },
   {
    "duration": 6,
    "start_time": "2022-01-14T15:30:03.793Z"
   },
   {
    "duration": 91,
    "start_time": "2022-01-14T15:30:03.801Z"
   },
   {
    "duration": 27,
    "start_time": "2022-01-14T15:30:03.893Z"
   },
   {
    "duration": 42,
    "start_time": "2022-01-14T15:30:03.922Z"
   },
   {
    "duration": 25,
    "start_time": "2022-01-14T15:30:03.966Z"
   },
   {
    "duration": 52,
    "start_time": "2022-01-14T15:30:03.993Z"
   },
   {
    "duration": 41,
    "start_time": "2022-01-14T15:30:04.047Z"
   },
   {
    "duration": 13,
    "start_time": "2022-01-14T15:30:04.090Z"
   },
   {
    "duration": 31,
    "start_time": "2022-01-14T15:30:04.105Z"
   },
   {
    "duration": 56,
    "start_time": "2022-01-14T15:30:04.138Z"
   },
   {
    "duration": 18,
    "start_time": "2022-01-14T15:30:04.195Z"
   },
   {
    "duration": 7,
    "start_time": "2022-01-14T15:30:04.215Z"
   },
   {
    "duration": 42,
    "start_time": "2022-01-14T15:30:04.224Z"
   },
   {
    "duration": 186,
    "start_time": "2022-01-14T15:30:04.268Z"
   },
   {
    "duration": 58,
    "start_time": "2022-01-14T15:30:04.456Z"
   },
   {
    "duration": 36,
    "start_time": "2022-01-14T15:30:04.516Z"
   },
   {
    "duration": 378,
    "start_time": "2022-01-14T15:30:27.970Z"
   },
   {
    "duration": 32,
    "start_time": "2022-01-14T15:30:28.350Z"
   },
   {
    "duration": 117,
    "start_time": "2022-01-14T15:30:28.384Z"
   },
   {
    "duration": 71,
    "start_time": "2022-01-14T15:30:28.503Z"
   },
   {
    "duration": 5,
    "start_time": "2022-01-14T15:30:28.575Z"
   },
   {
    "duration": 72,
    "start_time": "2022-01-14T15:30:28.582Z"
   },
   {
    "duration": 26,
    "start_time": "2022-01-14T15:30:28.656Z"
   },
   {
    "duration": 29,
    "start_time": "2022-01-14T15:30:28.683Z"
   },
   {
    "duration": 42,
    "start_time": "2022-01-14T15:30:28.714Z"
   },
   {
    "duration": 35,
    "start_time": "2022-01-14T15:30:28.758Z"
   },
   {
    "duration": 55,
    "start_time": "2022-01-14T15:30:28.794Z"
   },
   {
    "duration": 11,
    "start_time": "2022-01-14T15:30:28.850Z"
   },
   {
    "duration": 14,
    "start_time": "2022-01-14T15:30:28.862Z"
   },
   {
    "duration": 32,
    "start_time": "2022-01-14T15:30:28.878Z"
   },
   {
    "duration": 42,
    "start_time": "2022-01-14T15:30:28.912Z"
   },
   {
    "duration": 8,
    "start_time": "2022-01-14T15:30:28.955Z"
   },
   {
    "duration": 26,
    "start_time": "2022-01-14T15:30:28.964Z"
   },
   {
    "duration": 191,
    "start_time": "2022-01-14T15:30:28.991Z"
   },
   {
    "duration": 59,
    "start_time": "2022-01-14T15:30:29.184Z"
   },
   {
    "duration": 19,
    "start_time": "2022-01-14T15:30:29.245Z"
   },
   {
    "duration": 5,
    "start_time": "2022-01-14T15:30:50.899Z"
   },
   {
    "duration": 18,
    "start_time": "2022-01-14T15:30:51.692Z"
   },
   {
    "duration": 19,
    "start_time": "2022-01-14T15:31:14.149Z"
   },
   {
    "duration": 6,
    "start_time": "2022-01-14T15:33:07.794Z"
   },
   {
    "duration": 7,
    "start_time": "2022-01-14T15:35:27.162Z"
   },
   {
    "duration": 6,
    "start_time": "2022-01-14T15:35:30.878Z"
   },
   {
    "duration": 359,
    "start_time": "2022-01-14T15:35:38.423Z"
   },
   {
    "duration": 27,
    "start_time": "2022-01-14T15:35:38.784Z"
   },
   {
    "duration": 84,
    "start_time": "2022-01-14T15:35:38.813Z"
   },
   {
    "duration": 66,
    "start_time": "2022-01-14T15:35:38.899Z"
   },
   {
    "duration": 60,
    "start_time": "2022-01-14T15:35:38.967Z"
   },
   {
    "duration": 44,
    "start_time": "2022-01-14T15:35:39.028Z"
   },
   {
    "duration": 27,
    "start_time": "2022-01-14T15:35:39.073Z"
   },
   {
    "duration": 25,
    "start_time": "2022-01-14T15:35:39.102Z"
   },
   {
    "duration": 38,
    "start_time": "2022-01-14T15:35:39.129Z"
   },
   {
    "duration": 36,
    "start_time": "2022-01-14T15:35:39.168Z"
   },
   {
    "duration": 10,
    "start_time": "2022-01-14T15:35:39.205Z"
   },
   {
    "duration": 34,
    "start_time": "2022-01-14T15:35:39.217Z"
   },
   {
    "duration": 41,
    "start_time": "2022-01-14T15:35:39.253Z"
   },
   {
    "duration": 16,
    "start_time": "2022-01-14T15:35:39.296Z"
   },
   {
    "duration": 8,
    "start_time": "2022-01-14T15:35:39.313Z"
   },
   {
    "duration": 31,
    "start_time": "2022-01-14T15:35:39.322Z"
   },
   {
    "duration": 169,
    "start_time": "2022-01-14T15:35:39.354Z"
   },
   {
    "duration": 55,
    "start_time": "2022-01-14T15:35:39.525Z"
   },
   {
    "duration": 19,
    "start_time": "2022-01-14T15:35:39.581Z"
   },
   {
    "duration": 5,
    "start_time": "2022-01-14T15:35:39.601Z"
   },
   {
    "duration": 6,
    "start_time": "2022-01-14T15:35:39.608Z"
   },
   {
    "duration": 6,
    "start_time": "2022-01-14T15:35:39.616Z"
   },
   {
    "duration": 6,
    "start_time": "2022-01-14T15:36:16.700Z"
   },
   {
    "duration": 20,
    "start_time": "2022-01-14T15:36:18.110Z"
   },
   {
    "duration": 6,
    "start_time": "2022-01-14T15:36:18.993Z"
   },
   {
    "duration": 6,
    "start_time": "2022-01-14T15:36:20.105Z"
   },
   {
    "duration": 375,
    "start_time": "2022-01-14T15:36:27.095Z"
   },
   {
    "duration": 30,
    "start_time": "2022-01-14T15:36:27.472Z"
   },
   {
    "duration": 90,
    "start_time": "2022-01-14T15:36:27.504Z"
   },
   {
    "duration": 75,
    "start_time": "2022-01-14T15:36:27.597Z"
   },
   {
    "duration": 72,
    "start_time": "2022-01-14T15:36:27.674Z"
   },
   {
    "duration": 26,
    "start_time": "2022-01-14T15:36:27.748Z"
   },
   {
    "duration": 28,
    "start_time": "2022-01-14T15:36:27.775Z"
   },
   {
    "duration": 47,
    "start_time": "2022-01-14T15:36:27.805Z"
   },
   {
    "duration": 34,
    "start_time": "2022-01-14T15:36:27.855Z"
   },
   {
    "duration": 57,
    "start_time": "2022-01-14T15:36:27.892Z"
   },
   {
    "duration": 11,
    "start_time": "2022-01-14T15:36:27.951Z"
   },
   {
    "duration": 35,
    "start_time": "2022-01-14T15:36:27.964Z"
   },
   {
    "duration": 50,
    "start_time": "2022-01-14T15:36:28.001Z"
   },
   {
    "duration": 35,
    "start_time": "2022-01-14T15:36:28.053Z"
   },
   {
    "duration": 28,
    "start_time": "2022-01-14T15:36:28.090Z"
   },
   {
    "duration": 45,
    "start_time": "2022-01-14T15:36:28.120Z"
   },
   {
    "duration": 184,
    "start_time": "2022-01-14T15:36:28.166Z"
   },
   {
    "duration": 57,
    "start_time": "2022-01-14T15:36:28.351Z"
   },
   {
    "duration": 54,
    "start_time": "2022-01-14T15:36:29.797Z"
   },
   {
    "duration": 5,
    "start_time": "2022-01-14T15:36:30.468Z"
   },
   {
    "duration": 20,
    "start_time": "2022-01-14T15:36:31.300Z"
   },
   {
    "duration": 7,
    "start_time": "2022-01-14T15:36:32.362Z"
   },
   {
    "duration": 6,
    "start_time": "2022-01-14T15:36:39.324Z"
   },
   {
    "duration": 12,
    "start_time": "2022-01-14T15:37:18.499Z"
   },
   {
    "duration": 10,
    "start_time": "2022-01-14T15:44:34.342Z"
   },
   {
    "duration": 278,
    "start_time": "2022-01-14T16:04:34.561Z"
   },
   {
    "duration": 7,
    "start_time": "2022-01-14T16:04:40.057Z"
   },
   {
    "duration": 21,
    "start_time": "2022-01-14T16:04:43.025Z"
   },
   {
    "duration": 384,
    "start_time": "2022-01-14T16:21:54.052Z"
   },
   {
    "duration": 22,
    "start_time": "2022-01-14T16:25:27.587Z"
   },
   {
    "duration": 247,
    "start_time": "2022-01-14T16:32:12.322Z"
   },
   {
    "duration": 5,
    "start_time": "2022-01-14T16:32:32.114Z"
   },
   {
    "duration": 5,
    "start_time": "2022-01-14T16:45:41.209Z"
   },
   {
    "duration": 6,
    "start_time": "2022-01-14T16:45:49.569Z"
   },
   {
    "duration": 5,
    "start_time": "2022-01-14T16:47:20.974Z"
   },
   {
    "duration": 7,
    "start_time": "2022-01-14T16:47:42.258Z"
   },
   {
    "duration": 6,
    "start_time": "2022-01-14T16:48:06.376Z"
   },
   {
    "duration": 7,
    "start_time": "2022-01-14T16:49:22.778Z"
   },
   {
    "duration": 5,
    "start_time": "2022-01-14T16:58:06.270Z"
   },
   {
    "duration": 545,
    "start_time": "2022-01-14T16:58:47.461Z"
   },
   {
    "duration": 241,
    "start_time": "2022-01-14T16:59:00.408Z"
   },
   {
    "duration": 322,
    "start_time": "2022-01-14T16:59:12.587Z"
   },
   {
    "duration": 407,
    "start_time": "2022-01-14T16:59:32.662Z"
   },
   {
    "duration": 328,
    "start_time": "2022-01-14T16:59:37.487Z"
   },
   {
    "duration": 367,
    "start_time": "2022-01-14T17:02:32.242Z"
   },
   {
    "duration": 1601,
    "start_time": "2022-01-15T11:52:19.600Z"
   },
   {
    "duration": 32,
    "start_time": "2022-01-15T11:52:21.202Z"
   },
   {
    "duration": 136,
    "start_time": "2022-01-15T11:52:21.236Z"
   },
   {
    "duration": 81,
    "start_time": "2022-01-15T11:52:21.374Z"
   },
   {
    "duration": 80,
    "start_time": "2022-01-15T11:52:21.457Z"
   },
   {
    "duration": 30,
    "start_time": "2022-01-15T11:52:21.539Z"
   },
   {
    "duration": 50,
    "start_time": "2022-01-15T11:52:21.570Z"
   },
   {
    "duration": 33,
    "start_time": "2022-01-15T11:52:21.622Z"
   },
   {
    "duration": 57,
    "start_time": "2022-01-15T11:52:21.657Z"
   },
   {
    "duration": 43,
    "start_time": "2022-01-15T11:52:21.716Z"
   },
   {
    "duration": 12,
    "start_time": "2022-01-15T11:52:21.760Z"
   },
   {
    "duration": 35,
    "start_time": "2022-01-15T11:52:21.773Z"
   },
   {
    "duration": 32,
    "start_time": "2022-01-15T11:52:21.810Z"
   },
   {
    "duration": 17,
    "start_time": "2022-01-15T11:52:21.843Z"
   },
   {
    "duration": 6,
    "start_time": "2022-01-15T11:52:21.862Z"
   },
   {
    "duration": 49,
    "start_time": "2022-01-15T11:52:21.870Z"
   },
   {
    "duration": 197,
    "start_time": "2022-01-15T11:52:21.921Z"
   },
   {
    "duration": 65,
    "start_time": "2022-01-15T11:52:22.120Z"
   },
   {
    "duration": 354,
    "start_time": "2022-01-15T11:52:22.187Z"
   },
   {
    "duration": 11,
    "start_time": "2022-01-15T11:52:22.543Z"
   },
   {
    "duration": 12,
    "start_time": "2022-01-15T11:52:22.556Z"
   },
   {
    "duration": 30,
    "start_time": "2022-01-15T11:52:22.569Z"
   },
   {
    "duration": 506,
    "start_time": "2022-01-15T11:52:22.602Z"
   },
   {
    "duration": 412,
    "start_time": "2022-01-15T16:34:04.280Z"
   },
   {
    "duration": 31,
    "start_time": "2022-01-15T16:34:04.694Z"
   },
   {
    "duration": 115,
    "start_time": "2022-01-15T16:34:04.727Z"
   },
   {
    "duration": 73,
    "start_time": "2022-01-15T16:34:04.844Z"
   },
   {
    "duration": 67,
    "start_time": "2022-01-15T16:34:04.918Z"
   },
   {
    "duration": 37,
    "start_time": "2022-01-15T16:34:04.986Z"
   },
   {
    "duration": 29,
    "start_time": "2022-01-15T16:34:05.024Z"
   },
   {
    "duration": 47,
    "start_time": "2022-01-15T16:34:05.056Z"
   },
   {
    "duration": 36,
    "start_time": "2022-01-15T16:34:05.104Z"
   },
   {
    "duration": 39,
    "start_time": "2022-01-15T16:34:05.141Z"
   },
   {
    "duration": 27,
    "start_time": "2022-01-15T16:34:05.181Z"
   },
   {
    "duration": 14,
    "start_time": "2022-01-15T16:34:05.209Z"
   },
   {
    "duration": 33,
    "start_time": "2022-01-15T16:34:05.225Z"
   },
   {
    "duration": 44,
    "start_time": "2022-01-15T16:34:05.259Z"
   },
   {
    "duration": 9,
    "start_time": "2022-01-15T16:34:05.305Z"
   },
   {
    "duration": 24,
    "start_time": "2022-01-15T16:34:05.315Z"
   },
   {
    "duration": 208,
    "start_time": "2022-01-15T16:34:05.341Z"
   },
   {
    "duration": 68,
    "start_time": "2022-01-15T16:34:05.551Z"
   },
   {
    "duration": 3,
    "start_time": "2022-01-15T16:34:05.620Z"
   },
   {
    "duration": 12,
    "start_time": "2022-01-15T16:34:05.625Z"
   },
   {
    "duration": 10,
    "start_time": "2022-01-15T16:34:05.639Z"
   },
   {
    "duration": 9,
    "start_time": "2022-01-15T16:34:05.650Z"
   },
   {
    "duration": 420,
    "start_time": "2022-01-15T16:34:05.662Z"
   },
   {
    "duration": 18,
    "start_time": "2022-01-15T16:37:27.529Z"
   },
   {
    "duration": 6,
    "start_time": "2022-01-15T16:38:15.022Z"
   },
   {
    "duration": 5,
    "start_time": "2022-01-15T16:39:35.294Z"
   },
   {
    "duration": 19,
    "start_time": "2022-01-15T16:45:04.317Z"
   },
   {
    "duration": 82,
    "start_time": "2022-01-15T16:46:22.942Z"
   },
   {
    "duration": 91,
    "start_time": "2022-01-15T16:46:27.139Z"
   },
   {
    "duration": 90,
    "start_time": "2022-01-15T16:46:32.476Z"
   },
   {
    "duration": 22,
    "start_time": "2022-01-15T16:46:52.866Z"
   },
   {
    "duration": 523,
    "start_time": "2022-01-15T16:47:23.394Z"
   },
   {
    "duration": 10,
    "start_time": "2022-01-15T16:47:54.918Z"
   },
   {
    "duration": 10,
    "start_time": "2022-01-15T16:48:54.712Z"
   },
   {
    "duration": 955,
    "start_time": "2022-01-16T17:24:17.000Z"
   },
   {
    "duration": 33,
    "start_time": "2022-01-16T17:24:17.957Z"
   },
   {
    "duration": 137,
    "start_time": "2022-01-16T17:24:17.992Z"
   },
   {
    "duration": 129,
    "start_time": "2022-01-16T17:24:18.131Z"
   },
   {
    "duration": 70,
    "start_time": "2022-01-16T17:24:18.262Z"
   },
   {
    "duration": 89,
    "start_time": "2022-01-16T17:24:18.333Z"
   },
   {
    "duration": 37,
    "start_time": "2022-01-16T17:24:18.424Z"
   },
   {
    "duration": 36,
    "start_time": "2022-01-16T17:24:18.465Z"
   },
   {
    "duration": 59,
    "start_time": "2022-01-16T17:24:18.504Z"
   },
   {
    "duration": 38,
    "start_time": "2022-01-16T17:24:18.565Z"
   },
   {
    "duration": 61,
    "start_time": "2022-01-16T17:24:18.605Z"
   },
   {
    "duration": 12,
    "start_time": "2022-01-16T17:24:18.668Z"
   },
   {
    "duration": 12,
    "start_time": "2022-01-16T17:24:18.682Z"
   },
   {
    "duration": 36,
    "start_time": "2022-01-16T17:24:18.696Z"
   },
   {
    "duration": 44,
    "start_time": "2022-01-16T17:24:18.733Z"
   },
   {
    "duration": 8,
    "start_time": "2022-01-16T17:24:18.778Z"
   },
   {
    "duration": 26,
    "start_time": "2022-01-16T17:24:18.788Z"
   },
   {
    "duration": 216,
    "start_time": "2022-01-16T17:24:18.816Z"
   },
   {
    "duration": 64,
    "start_time": "2022-01-16T17:24:19.034Z"
   },
   {
    "duration": 370,
    "start_time": "2022-01-16T17:24:19.100Z"
   },
   {
    "duration": 12,
    "start_time": "2022-01-16T17:24:19.472Z"
   },
   {
    "duration": 11,
    "start_time": "2022-01-16T17:24:19.485Z"
   },
   {
    "duration": 10,
    "start_time": "2022-01-16T17:24:19.499Z"
   },
   {
    "duration": 479,
    "start_time": "2022-01-16T17:24:19.510Z"
   },
   {
    "duration": 5,
    "start_time": "2022-01-16T17:24:19.991Z"
   },
   {
    "duration": 15,
    "start_time": "2022-01-16T17:24:19.997Z"
   },
   {
    "duration": 16,
    "start_time": "2022-01-16T17:25:03.340Z"
   },
   {
    "duration": 173,
    "start_time": "2022-01-16T17:25:53.311Z"
   },
   {
    "duration": 138,
    "start_time": "2022-01-16T17:26:22.842Z"
   },
   {
    "duration": 16,
    "start_time": "2022-01-16T17:28:46.037Z"
   },
   {
    "duration": 28,
    "start_time": "2022-01-16T17:31:30.849Z"
   },
   {
    "duration": 37,
    "start_time": "2022-01-16T17:31:35.035Z"
   },
   {
    "duration": 44,
    "start_time": "2022-01-16T17:33:26.137Z"
   },
   {
    "duration": 31,
    "start_time": "2022-01-16T17:44:53.904Z"
   },
   {
    "duration": 9,
    "start_time": "2022-01-16T17:44:54.221Z"
   },
   {
    "duration": 350,
    "start_time": "2022-01-16T17:44:56.937Z"
   },
   {
    "duration": 412,
    "start_time": "2022-01-16T17:45:04.855Z"
   },
   {
    "duration": 33,
    "start_time": "2022-01-16T17:45:05.269Z"
   },
   {
    "duration": 123,
    "start_time": "2022-01-16T17:45:05.304Z"
   },
   {
    "duration": 133,
    "start_time": "2022-01-16T17:45:05.429Z"
   },
   {
    "duration": 74,
    "start_time": "2022-01-16T17:45:05.563Z"
   },
   {
    "duration": 83,
    "start_time": "2022-01-16T17:45:05.639Z"
   },
   {
    "duration": 36,
    "start_time": "2022-01-16T17:45:05.723Z"
   },
   {
    "duration": 67,
    "start_time": "2022-01-16T17:45:05.762Z"
   },
   {
    "duration": 30,
    "start_time": "2022-01-16T17:45:05.831Z"
   },
   {
    "duration": 41,
    "start_time": "2022-01-16T17:45:05.863Z"
   },
   {
    "duration": 40,
    "start_time": "2022-01-16T17:45:05.906Z"
   },
   {
    "duration": 33,
    "start_time": "2022-01-16T17:45:05.960Z"
   },
   {
    "duration": 20,
    "start_time": "2022-01-16T17:45:05.994Z"
   },
   {
    "duration": 8,
    "start_time": "2022-01-16T17:45:06.015Z"
   },
   {
    "duration": 53,
    "start_time": "2022-01-16T17:45:06.025Z"
   },
   {
    "duration": 211,
    "start_time": "2022-01-16T17:45:06.079Z"
   },
   {
    "duration": 70,
    "start_time": "2022-01-16T17:45:06.292Z"
   },
   {
    "duration": 3,
    "start_time": "2022-01-16T17:45:06.363Z"
   },
   {
    "duration": 15,
    "start_time": "2022-01-16T17:45:06.367Z"
   },
   {
    "duration": 8,
    "start_time": "2022-01-16T17:45:06.383Z"
   },
   {
    "duration": 8,
    "start_time": "2022-01-16T17:45:06.393Z"
   },
   {
    "duration": 400,
    "start_time": "2022-01-16T17:45:06.403Z"
   },
   {
    "duration": 5,
    "start_time": "2022-01-16T17:45:06.808Z"
   },
   {
    "duration": 33,
    "start_time": "2022-01-16T17:45:06.815Z"
   },
   {
    "duration": 210,
    "start_time": "2022-01-16T17:45:54.301Z"
   },
   {
    "duration": 64,
    "start_time": "2022-01-16T17:46:01.790Z"
   },
   {
    "duration": 14,
    "start_time": "2022-01-16T17:46:16.334Z"
   },
   {
    "duration": 16,
    "start_time": "2022-01-16T17:46:28.637Z"
   },
   {
    "duration": 2,
    "start_time": "2022-01-16T17:47:10.996Z"
   },
   {
    "duration": 13,
    "start_time": "2022-01-16T17:47:11.351Z"
   },
   {
    "duration": 8,
    "start_time": "2022-01-16T17:47:17.931Z"
   },
   {
    "duration": 21,
    "start_time": "2022-01-16T17:50:43.314Z"
   },
   {
    "duration": 8,
    "start_time": "2022-01-16T17:56:17.551Z"
   },
   {
    "duration": 367,
    "start_time": "2022-01-16T17:57:29.584Z"
   },
   {
    "duration": 214,
    "start_time": "2022-01-16T17:57:37.988Z"
   },
   {
    "duration": 19,
    "start_time": "2022-01-16T17:59:14.701Z"
   },
   {
    "duration": 8,
    "start_time": "2022-01-16T18:04:45.026Z"
   },
   {
    "duration": 220,
    "start_time": "2022-01-16T18:05:36.905Z"
   },
   {
    "duration": 211,
    "start_time": "2022-01-16T18:05:44.171Z"
   },
   {
    "duration": 274,
    "start_time": "2022-01-16T18:05:50.770Z"
   },
   {
    "duration": 214,
    "start_time": "2022-01-16T18:05:54.135Z"
   },
   {
    "duration": 187,
    "start_time": "2022-01-16T18:06:13.880Z"
   },
   {
    "duration": 346,
    "start_time": "2022-01-16T18:06:21.220Z"
   },
   {
    "duration": 316,
    "start_time": "2022-01-16T18:09:55.156Z"
   },
   {
    "duration": 349,
    "start_time": "2022-01-16T18:09:58.265Z"
   },
   {
    "duration": 7,
    "start_time": "2022-01-16T18:26:12.577Z"
   },
   {
    "duration": 184,
    "start_time": "2022-01-16T18:26:14.244Z"
   },
   {
    "duration": 4,
    "start_time": "2022-01-16T18:28:46.316Z"
   },
   {
    "duration": 7,
    "start_time": "2022-01-16T18:37:42.047Z"
   },
   {
    "duration": 230,
    "start_time": "2022-01-16T18:37:43.316Z"
   },
   {
    "duration": 21,
    "start_time": "2022-01-16T18:42:01.901Z"
   },
   {
    "duration": 9,
    "start_time": "2022-01-16T18:42:17.056Z"
   },
   {
    "duration": 229,
    "start_time": "2022-01-16T18:42:19.308Z"
   },
   {
    "duration": 414,
    "start_time": "2022-01-16T18:42:25.731Z"
   },
   {
    "duration": 38,
    "start_time": "2022-01-16T18:42:26.147Z"
   },
   {
    "duration": 124,
    "start_time": "2022-01-16T18:42:26.187Z"
   },
   {
    "duration": 116,
    "start_time": "2022-01-16T18:42:26.313Z"
   },
   {
    "duration": 78,
    "start_time": "2022-01-16T18:42:26.430Z"
   },
   {
    "duration": 80,
    "start_time": "2022-01-16T18:42:26.510Z"
   },
   {
    "duration": 163,
    "start_time": "2022-01-16T18:42:26.591Z"
   },
   {
    "duration": 37,
    "start_time": "2022-01-16T18:42:26.760Z"
   },
   {
    "duration": 34,
    "start_time": "2022-01-16T18:42:26.800Z"
   },
   {
    "duration": 61,
    "start_time": "2022-01-16T18:42:26.836Z"
   },
   {
    "duration": 63,
    "start_time": "2022-01-16T18:42:26.899Z"
   },
   {
    "duration": 39,
    "start_time": "2022-01-16T18:42:26.964Z"
   },
   {
    "duration": 19,
    "start_time": "2022-01-16T18:42:27.005Z"
   },
   {
    "duration": 10,
    "start_time": "2022-01-16T18:42:27.026Z"
   },
   {
    "duration": 58,
    "start_time": "2022-01-16T18:42:27.038Z"
   },
   {
    "duration": 230,
    "start_time": "2022-01-16T18:42:27.097Z"
   },
   {
    "duration": 69,
    "start_time": "2022-01-16T18:42:27.329Z"
   },
   {
    "duration": 13,
    "start_time": "2022-01-16T18:42:27.400Z"
   },
   {
    "duration": 30,
    "start_time": "2022-01-16T18:42:27.415Z"
   },
   {
    "duration": 34,
    "start_time": "2022-01-16T18:42:27.447Z"
   },
   {
    "duration": 30,
    "start_time": "2022-01-16T18:42:27.482Z"
   },
   {
    "duration": 40,
    "start_time": "2022-01-16T18:42:27.514Z"
   },
   {
    "duration": 378,
    "start_time": "2022-01-16T18:42:27.556Z"
   },
   {
    "duration": 8,
    "start_time": "2022-01-16T18:42:27.936Z"
   },
   {
    "duration": 225,
    "start_time": "2022-01-16T18:42:27.961Z"
   },
   {
    "duration": 7,
    "start_time": "2022-01-16T18:42:28.188Z"
   },
   {
    "duration": 240,
    "start_time": "2022-01-16T18:42:28.198Z"
   },
   {
    "duration": 5,
    "start_time": "2022-01-16T18:42:28.439Z"
   },
   {
    "duration": 24,
    "start_time": "2022-01-16T18:42:28.446Z"
   },
   {
    "duration": 222,
    "start_time": "2022-01-16T18:43:11.205Z"
   },
   {
    "duration": 83,
    "start_time": "2022-01-16T19:35:22.896Z"
   },
   {
    "duration": 442,
    "start_time": "2022-01-16T19:57:51.643Z"
   },
   {
    "duration": 34,
    "start_time": "2022-01-16T19:57:52.087Z"
   },
   {
    "duration": 113,
    "start_time": "2022-01-16T19:57:52.124Z"
   },
   {
    "duration": 140,
    "start_time": "2022-01-16T19:57:52.240Z"
   },
   {
    "duration": 83,
    "start_time": "2022-01-16T19:57:52.382Z"
   },
   {
    "duration": 78,
    "start_time": "2022-01-16T19:57:52.466Z"
   },
   {
    "duration": 36,
    "start_time": "2022-01-16T19:57:52.546Z"
   },
   {
    "duration": 34,
    "start_time": "2022-01-16T19:57:52.584Z"
   },
   {
    "duration": 44,
    "start_time": "2022-01-16T19:57:52.621Z"
   },
   {
    "duration": 46,
    "start_time": "2022-01-16T19:57:52.667Z"
   },
   {
    "duration": 56,
    "start_time": "2022-01-16T19:57:52.715Z"
   },
   {
    "duration": 38,
    "start_time": "2022-01-16T19:57:52.773Z"
   },
   {
    "duration": 17,
    "start_time": "2022-01-16T19:57:52.812Z"
   },
   {
    "duration": 7,
    "start_time": "2022-01-16T19:57:52.831Z"
   },
   {
    "duration": 52,
    "start_time": "2022-01-16T19:57:52.840Z"
   },
   {
    "duration": 230,
    "start_time": "2022-01-16T19:57:52.894Z"
   },
   {
    "duration": 80,
    "start_time": "2022-01-16T19:57:53.125Z"
   },
   {
    "duration": 19,
    "start_time": "2022-01-16T19:57:53.207Z"
   },
   {
    "duration": 3,
    "start_time": "2022-01-16T19:57:53.228Z"
   },
   {
    "duration": 29,
    "start_time": "2022-01-16T19:57:53.233Z"
   },
   {
    "duration": 10,
    "start_time": "2022-01-16T19:57:53.269Z"
   },
   {
    "duration": 17,
    "start_time": "2022-01-16T19:57:53.281Z"
   },
   {
    "duration": 407,
    "start_time": "2022-01-16T19:57:53.300Z"
   },
   {
    "duration": 8,
    "start_time": "2022-01-16T19:57:53.710Z"
   },
   {
    "duration": 220,
    "start_time": "2022-01-16T19:57:53.719Z"
   },
   {
    "duration": 7,
    "start_time": "2022-01-16T19:57:53.940Z"
   },
   {
    "duration": 239,
    "start_time": "2022-01-16T19:57:53.963Z"
   },
   {
    "duration": 6,
    "start_time": "2022-01-16T19:57:54.205Z"
   },
   {
    "duration": 10,
    "start_time": "2022-01-16T19:57:54.213Z"
   },
   {
    "duration": 947,
    "start_time": "2022-01-19T19:39:22.927Z"
   },
   {
    "duration": 30,
    "start_time": "2022-01-19T19:39:23.876Z"
   },
   {
    "duration": 114,
    "start_time": "2022-01-19T19:39:23.908Z"
   },
   {
    "duration": 115,
    "start_time": "2022-01-19T19:39:24.024Z"
   },
   {
    "duration": 75,
    "start_time": "2022-01-19T19:39:24.140Z"
   },
   {
    "duration": 74,
    "start_time": "2022-01-19T19:39:24.216Z"
   },
   {
    "duration": 28,
    "start_time": "2022-01-19T19:39:24.299Z"
   },
   {
    "duration": 38,
    "start_time": "2022-01-19T19:39:24.330Z"
   },
   {
    "duration": 51,
    "start_time": "2022-01-19T19:39:24.370Z"
   },
   {
    "duration": 39,
    "start_time": "2022-01-19T19:39:24.422Z"
   },
   {
    "duration": 63,
    "start_time": "2022-01-19T19:39:24.462Z"
   },
   {
    "duration": 33,
    "start_time": "2022-01-19T19:39:24.526Z"
   },
   {
    "duration": 19,
    "start_time": "2022-01-19T19:39:24.560Z"
   },
   {
    "duration": 7,
    "start_time": "2022-01-19T19:39:24.598Z"
   },
   {
    "duration": 25,
    "start_time": "2022-01-19T19:39:24.607Z"
   },
   {
    "duration": 199,
    "start_time": "2022-01-19T19:39:24.633Z"
   },
   {
    "duration": 56,
    "start_time": "2022-01-19T19:39:24.834Z"
   },
   {
    "duration": 13,
    "start_time": "2022-01-19T19:39:24.899Z"
   },
   {
    "duration": 329,
    "start_time": "2022-01-19T19:39:24.914Z"
   },
   {
    "duration": 11,
    "start_time": "2022-01-19T19:39:25.245Z"
   },
   {
    "duration": 8,
    "start_time": "2022-01-19T19:39:25.258Z"
   },
   {
    "duration": 30,
    "start_time": "2022-01-19T19:39:25.268Z"
   },
   {
    "duration": 519,
    "start_time": "2022-01-19T19:39:25.302Z"
   },
   {
    "duration": 8,
    "start_time": "2022-01-19T19:39:25.823Z"
   },
   {
    "duration": 234,
    "start_time": "2022-01-19T19:39:25.832Z"
   },
   {
    "duration": 9,
    "start_time": "2022-01-19T19:39:26.067Z"
   },
   {
    "duration": 254,
    "start_time": "2022-01-19T19:39:26.077Z"
   },
   {
    "duration": 6,
    "start_time": "2022-01-19T19:39:26.332Z"
   },
   {
    "duration": 11,
    "start_time": "2022-01-19T19:39:26.339Z"
   },
   {
    "duration": 15,
    "start_time": "2022-01-19T19:50:56.011Z"
   },
   {
    "duration": 96,
    "start_time": "2022-01-19T20:15:54.534Z"
   },
   {
    "duration": 457,
    "start_time": "2022-01-19T20:15:58.854Z"
   },
   {
    "duration": 1405,
    "start_time": "2022-01-19T20:16:04.237Z"
   },
   {
    "duration": 52,
    "start_time": "2022-01-19T20:16:05.645Z"
   },
   {
    "duration": 177,
    "start_time": "2022-01-19T20:16:05.700Z"
   },
   {
    "duration": 179,
    "start_time": "2022-01-19T20:16:05.880Z"
   },
   {
    "duration": 109,
    "start_time": "2022-01-19T20:16:06.065Z"
   },
   {
    "duration": 117,
    "start_time": "2022-01-19T20:16:06.177Z"
   },
   {
    "duration": 41,
    "start_time": "2022-01-19T20:16:06.296Z"
   },
   {
    "duration": 71,
    "start_time": "2022-01-19T20:16:06.341Z"
   },
   {
    "duration": 65,
    "start_time": "2022-01-19T20:16:06.415Z"
   },
   {
    "duration": 56,
    "start_time": "2022-01-19T20:16:06.483Z"
   },
   {
    "duration": 101,
    "start_time": "2022-01-19T20:16:06.543Z"
   },
   {
    "duration": 59,
    "start_time": "2022-01-19T20:16:06.646Z"
   },
   {
    "duration": 35,
    "start_time": "2022-01-19T20:16:06.707Z"
   },
   {
    "duration": 29,
    "start_time": "2022-01-19T20:16:06.745Z"
   },
   {
    "duration": 39,
    "start_time": "2022-01-19T20:16:06.777Z"
   },
   {
    "duration": 373,
    "start_time": "2022-01-19T20:16:06.820Z"
   },
   {
    "duration": 105,
    "start_time": "2022-01-19T20:16:07.196Z"
   },
   {
    "duration": 23,
    "start_time": "2022-01-19T20:16:07.304Z"
   },
   {
    "duration": 435,
    "start_time": "2022-01-19T20:16:07.330Z"
   },
   {
    "duration": 18,
    "start_time": "2022-01-19T20:16:07.768Z"
   },
   {
    "duration": 15,
    "start_time": "2022-01-19T20:16:07.788Z"
   },
   {
    "duration": 10,
    "start_time": "2022-01-19T20:16:07.806Z"
   },
   {
    "duration": 764,
    "start_time": "2022-01-19T20:16:07.820Z"
   },
   {
    "duration": 12,
    "start_time": "2022-01-19T20:16:08.587Z"
   },
   {
    "duration": 338,
    "start_time": "2022-01-19T20:16:08.601Z"
   },
   {
    "duration": 25,
    "start_time": "2022-01-19T20:16:08.942Z"
   },
   {
    "duration": 344,
    "start_time": "2022-01-19T20:16:08.970Z"
   },
   {
    "duration": 8,
    "start_time": "2022-01-19T20:16:09.317Z"
   },
   {
    "duration": 15,
    "start_time": "2022-01-19T20:16:09.327Z"
   },
   {
    "duration": 884,
    "start_time": "2022-01-19T20:16:29.920Z"
   },
   {
    "duration": 960,
    "start_time": "2022-01-19T20:16:46.273Z"
   },
   {
    "duration": 959,
    "start_time": "2022-01-19T20:17:00.648Z"
   },
   {
    "duration": 595,
    "start_time": "2022-01-19T20:17:09.735Z"
   },
   {
    "duration": 301,
    "start_time": "2022-01-19T20:17:18.711Z"
   },
   {
    "duration": 596,
    "start_time": "2022-01-20T10:12:00.756Z"
   },
   {
    "duration": 1212,
    "start_time": "2022-01-20T10:12:06.803Z"
   },
   {
    "duration": 54,
    "start_time": "2022-01-20T10:12:08.018Z"
   },
   {
    "duration": 171,
    "start_time": "2022-01-20T10:12:08.075Z"
   },
   {
    "duration": 204,
    "start_time": "2022-01-20T10:12:08.249Z"
   },
   {
    "duration": 94,
    "start_time": "2022-01-20T10:12:08.456Z"
   },
   {
    "duration": 114,
    "start_time": "2022-01-20T10:12:08.552Z"
   },
   {
    "duration": 38,
    "start_time": "2022-01-20T10:12:08.668Z"
   },
   {
    "duration": 73,
    "start_time": "2022-01-20T10:12:08.710Z"
   },
   {
    "duration": 47,
    "start_time": "2022-01-20T10:12:08.786Z"
   },
   {
    "duration": 74,
    "start_time": "2022-01-20T10:12:08.835Z"
   },
   {
    "duration": 79,
    "start_time": "2022-01-20T10:12:08.911Z"
   },
   {
    "duration": 49,
    "start_time": "2022-01-20T10:12:08.993Z"
   },
   {
    "duration": 41,
    "start_time": "2022-01-20T10:12:09.044Z"
   },
   {
    "duration": 11,
    "start_time": "2022-01-20T10:12:09.088Z"
   },
   {
    "duration": 62,
    "start_time": "2022-01-20T10:12:09.101Z"
   },
   {
    "duration": 322,
    "start_time": "2022-01-20T10:12:09.166Z"
   },
   {
    "duration": 101,
    "start_time": "2022-01-20T10:12:09.491Z"
   },
   {
    "duration": 20,
    "start_time": "2022-01-20T10:12:09.595Z"
   },
   {
    "duration": 462,
    "start_time": "2022-01-20T10:12:09.617Z"
   },
   {
    "duration": 17,
    "start_time": "2022-01-20T10:12:10.082Z"
   },
   {
    "duration": 13,
    "start_time": "2022-01-20T10:12:10.102Z"
   },
   {
    "duration": 11,
    "start_time": "2022-01-20T10:12:10.118Z"
   },
   {
    "duration": 793,
    "start_time": "2022-01-20T10:12:10.133Z"
   },
   {
    "duration": 12,
    "start_time": "2022-01-20T10:12:10.928Z"
   },
   {
    "duration": 345,
    "start_time": "2022-01-20T10:12:10.942Z"
   },
   {
    "duration": 10,
    "start_time": "2022-01-20T10:12:11.289Z"
   },
   {
    "duration": 345,
    "start_time": "2022-01-20T10:12:11.301Z"
   },
   {
    "duration": 8,
    "start_time": "2022-01-20T10:12:11.648Z"
   },
   {
    "duration": 18,
    "start_time": "2022-01-20T10:12:11.665Z"
   },
   {
    "duration": 146,
    "start_time": "2022-01-20T10:12:37.225Z"
   },
   {
    "duration": 137,
    "start_time": "2022-01-20T10:12:42.897Z"
   },
   {
    "duration": 433,
    "start_time": "2022-01-20T10:15:54.450Z"
   },
   {
    "duration": 425,
    "start_time": "2022-01-20T10:15:59.219Z"
   },
   {
    "duration": 307,
    "start_time": "2022-01-20T10:16:41.900Z"
   },
   {
    "duration": 416,
    "start_time": "2022-01-20T10:16:49.597Z"
   },
   {
    "duration": 13,
    "start_time": "2022-01-20T10:17:15.274Z"
   },
   {
    "duration": 19,
    "start_time": "2022-01-20T10:17:22.471Z"
   },
   {
    "duration": 446,
    "start_time": "2022-01-20T10:17:33.646Z"
   },
   {
    "duration": 497,
    "start_time": "2022-01-20T10:17:58.464Z"
   },
   {
    "duration": 423,
    "start_time": "2022-01-20T10:17:59.402Z"
   },
   {
    "duration": 486,
    "start_time": "2022-01-20T10:26:25.496Z"
   },
   {
    "duration": 314,
    "start_time": "2022-01-20T10:26:45.642Z"
   },
   {
    "duration": 29,
    "start_time": "2022-01-20T10:27:05.032Z"
   },
   {
    "duration": 44,
    "start_time": "2022-01-20T10:27:09.565Z"
   },
   {
    "duration": 437,
    "start_time": "2022-01-20T10:30:28.191Z"
   },
   {
    "duration": 455,
    "start_time": "2022-01-20T10:30:29.604Z"
   },
   {
    "duration": 933,
    "start_time": "2022-03-04T08:03:01.860Z"
   },
   {
    "duration": 34,
    "start_time": "2022-03-04T08:03:02.795Z"
   },
   {
    "duration": 364,
    "start_time": "2022-03-04T08:03:02.831Z"
   },
   {
    "duration": 292,
    "start_time": "2022-03-04T08:03:03.197Z"
   },
   {
    "duration": 135,
    "start_time": "2022-03-04T08:03:03.491Z"
   },
   {
    "duration": 142,
    "start_time": "2022-03-04T08:03:03.627Z"
   },
   {
    "duration": 133,
    "start_time": "2022-03-04T08:03:03.771Z"
   },
   {
    "duration": 78,
    "start_time": "2022-03-04T08:03:03.906Z"
   },
   {
    "duration": 29,
    "start_time": "2022-03-04T08:03:03.987Z"
   },
   {
    "duration": 55,
    "start_time": "2022-03-04T08:03:04.018Z"
   },
   {
    "duration": 35,
    "start_time": "2022-03-04T08:03:04.074Z"
   },
   {
    "duration": 45,
    "start_time": "2022-03-04T08:03:04.111Z"
   },
   {
    "duration": 37,
    "start_time": "2022-03-04T08:03:04.158Z"
   },
   {
    "duration": 65,
    "start_time": "2022-03-04T08:03:04.197Z"
   },
   {
    "duration": 32,
    "start_time": "2022-03-04T08:03:04.264Z"
   },
   {
    "duration": 19,
    "start_time": "2022-03-04T08:03:04.298Z"
   },
   {
    "duration": 27,
    "start_time": "2022-03-04T08:03:04.318Z"
   },
   {
    "duration": 30,
    "start_time": "2022-03-04T08:03:04.346Z"
   },
   {
    "duration": 186,
    "start_time": "2022-03-04T08:03:04.378Z"
   },
   {
    "duration": 57,
    "start_time": "2022-03-04T08:03:04.566Z"
   },
   {
    "duration": 26,
    "start_time": "2022-03-04T08:03:04.624Z"
   },
   {
    "duration": 322,
    "start_time": "2022-03-04T08:03:04.651Z"
   },
   {
    "duration": 13,
    "start_time": "2022-03-04T08:03:04.974Z"
   },
   {
    "duration": 18,
    "start_time": "2022-03-04T08:03:04.989Z"
   },
   {
    "duration": 34,
    "start_time": "2022-03-04T08:03:05.009Z"
   },
   {
    "duration": 392,
    "start_time": "2022-03-04T08:03:05.045Z"
   },
   {
    "duration": 7,
    "start_time": "2022-03-04T08:03:05.441Z"
   },
   {
    "duration": 231,
    "start_time": "2022-03-04T08:03:05.450Z"
   },
   {
    "duration": 8,
    "start_time": "2022-03-04T08:03:05.683Z"
   },
   {
    "duration": 237,
    "start_time": "2022-03-04T08:03:05.692Z"
   },
   {
    "duration": 10,
    "start_time": "2022-03-04T08:03:05.930Z"
   },
   {
    "duration": 12,
    "start_time": "2022-03-04T08:03:05.942Z"
   }
  ],
  "kernelspec": {
   "display_name": "Python 3 (ipykernel)",
   "language": "python",
   "name": "python3"
  },
  "language_info": {
   "codemirror_mode": {
    "name": "ipython",
    "version": 3
   },
   "file_extension": ".py",
   "mimetype": "text/x-python",
   "name": "python",
   "nbconvert_exporter": "python",
   "pygments_lexer": "ipython3",
   "version": "3.7.8"
  },
  "toc": {
   "base_numbering": 1,
   "nav_menu": {},
   "number_sections": true,
   "sideBar": true,
   "skip_h1_title": true,
   "title_cell": "Table of Contents",
   "title_sidebar": "Contents",
   "toc_cell": false,
   "toc_position": {
    "height": "calc(100% - 180px)",
    "left": "10px",
    "top": "150px",
    "width": "235.6px"
   },
   "toc_section_display": true,
   "toc_window_display": true
  }
 },
 "nbformat": 4,
 "nbformat_minor": 2
}
